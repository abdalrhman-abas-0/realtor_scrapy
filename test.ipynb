{
 "cells": [
  {
   "cell_type": "code",
   "execution_count": 14,
   "metadata": {},
   "outputs": [],
   "source": [
    "# from selenium_stealth import stealth\n",
    "# from selenium import webdriver\n",
    "# from selenium.webdriver.common.keys import Keys\n",
    "# from selenium.webdriver.common.by import By\n",
    "# from selenium.webdriver.support.ui import WebDriverWait\n",
    "# from selenium.webdriver.support import expected_conditions as EC\n",
    "# from selenium.webdriver import Chrome\n",
    "# from selenium.webdriver.common.action_chains import ActionChains\n",
    "# from selenium.webdriver.support.events import EventFiringWebDriver, AbstractEventListener\n",
    "# from selenium.common.exceptions import NoSuchElementException\n",
    "# from selenium.webdriver.support.wait import WebDriverWait\n",
    "# from selenium.webdriver.chrome.options import Options\n",
    "# from seleniumwire import webdriver \n",
    "import time\n",
    "import json\n",
    "import jmespath\n",
    "from time import sleep\n",
    "import os\n",
    "import requests\n",
    "import pandas as pd\n",
    "import re\n",
    "from random import uniform\n",
    "from pprint import pprint"
   ]
  },
  {
   "cell_type": "code",
   "execution_count": null,
   "metadata": {},
   "outputs": [],
   "source": [
    "type({\"dfgh\":544}) == dict"
   ]
  },
  {
   "cell_type": "code",
   "execution_count": null,
   "metadata": {},
   "outputs": [],
   "source": [
    "def create_requests_data_list(self, response = None):\n",
    "    if not response:\n",
    "        first_req_headers = self.scraping_headers.copy()\n",
    "        first_req_headers[\"referrer\"] = self.primary_request_dict[self.listing_type][\"referer\"].replace(\"*\", \"1\")\n",
    "        first_req_payload = self.primary_request_dict[self.listing_type][\"payload\"].replace(\"++\",\"0\")\n",
    "        scrapy.Request(url=self.API, headers=first_req_headers, body=first_req_payload, method=\"POST\",callback=self.create_requests_data_list)\n",
    "    else:\n",
    "        j_response = response.json()  \n",
    "        self.results_available = j_response[\"data\"][\"search\"][\"total\"]\n",
    "        print(f\"    - found {self.results_available} {self.listing_type} properties. \")\n",
    "        \n",
    "        if self.results_available%self.RESULTS_PER_PAGE == 0:\n",
    "            pages_available = int(self.results_available/self.RESULTS_PER_PAGE)\n",
    "        else:\n",
    "            pages_available = int((self.results_available/self.RESULTS_PER_PAGE)+1)\n",
    "        self.prase(j_response)  \n",
    "        self.configure_search_requests(pages_available)"
   ]
  },
  {
   "cell_type": "code",
   "execution_count": null,
   "metadata": {},
   "outputs": [],
   "source": [
    "options = Options()\n",
    "#options.add_argument(\"--disable-extensions\")\n",
    "options.add_argument(\"--disable-gpu\")\n",
    "# options.add_argument(\"--headless\")\n",
    "options.add_argument(\"--start-maximized\")\n",
    "# options.headless = True # also works\n",
    "\n",
    "# options.add_argument(\"--headless\")\n",
    "\n",
    "options.add_experimental_option(\"excludeSwitches\", [\"enable-automation\"])\n",
    "options.add_experimental_option('useAutomationExtension', False)\n",
    "prefs = {\"profile.default_content_setting_values.geolocation\" :2}\n",
    "options.add_experimental_option(\"prefs\",prefs)\n",
    "# options.add_experimental_option('verify_ssl', False)"
   ]
  },
  {
   "cell_type": "code",
   "execution_count": null,
   "metadata": {},
   "outputs": [],
   "source": [
    "def get_attributes_and_methods(my_instance: callable):\n",
    "    from pprint import pprint\n",
    "    # Get all attributes and methods\n",
    "    attributes_and_methods = dir(my_instance)\n",
    "\n",
    "    # Filter attributes\n",
    "    attributes_and_methods = {\n",
    "        \"Attributes\":[name for name in attributes_and_methods if not callable(getattr(my_instance, name))],\n",
    "        \"Methods\":[name for name in attributes_and_methods if callable(getattr(my_instance, name))]\n",
    "    }\n",
    "    pprint(attributes_and_methods)"
   ]
  },
  {
   "cell_type": "code",
   "execution_count": null,
   "metadata": {},
   "outputs": [],
   "source": [
    "def __requests_interceptor__(request):\n",
    "    # Block PNG, JPEG and GIF images\n",
    "    # if request.path.endswith(('.png', '.jpg', '.gif')) or \"google\" in request.url:\n",
    "    if request.url == \"https://bot.sannysoft.com/\":\n",
    "        print(\"request:\")\n",
    "        get_attributes_and_methods(request)\n",
    "        print(\"response:\")\n",
    "        \n",
    "        get_attributes_and_methods(request.response)\n",
    "        print(request.method)\n",
    "    if \"google\" in request.url:\n",
    "        # print(\"request blocked\")\n",
    "        request.abort()\n",
    "        "
   ]
  },
  {
   "cell_type": "code",
   "execution_count": null,
   "metadata": {},
   "outputs": [],
   "source": [
    "driver = webdriver.Chrome(options=options)\n",
    "stealth(driver,\n",
    "        languages=[\"en-US\", \"en\"],\n",
    "        vendor=\"Google Inc.\",\n",
    "        platform=\"Win32\",\n",
    "        webgl_vendor=\"Intel Inc.\",\n",
    "        renderer=\"Intel Iris OpenGL Engine\",\n",
    "        fix_hairline=True,\n",
    "        )\n",
    "\n",
    "url = \"https://bot.sannysoft.com/\"\n",
    "driver.request_interceptor = __requests_interceptor__\n",
    "driver.get(url)\n",
    "time.sleep(5)\n",
    "driver.quit()"
   ]
  },
  {
   "cell_type": "code",
   "execution_count": null,
   "metadata": {},
   "outputs": [],
   "source": [
    "from seleniumwire import webdriver  # Import from seleniumwire\n",
    "# from selenium import webdriver\n",
    "# Create a new instance of the Chrome driver\n",
    "driver = webdriver.Chrome(options= options )\n",
    "\n",
    "\n",
    "stealth(\n",
    "    driver = driver,\n",
    "    user_agent ='Mozilla/5.0 (Windows NT 10.0; Win64; x64) AppleWebKit/537.36 (KHTML, like Gecko) Chrome/83.0.4103.53 Safari/537.36',\n",
    "    languages = [\"en-US\", \"en\"],\n",
    "    vendor =\"Google Inc.\",\n",
    "    platform = \"Win32\",\n",
    "    webgl_vendor = \"Intel Inc.\",\n",
    "    renderer =\"Intel Iris OpenGL Engine\",\n",
    "    fix_hairline = False,\n",
    "    run_on_insecure_origins = False\n",
    ")\n",
    "\n",
    "# Go to the Google home page\n",
    "driver.get('https://www.google.com')\n",
    "\n",
    "# Access requests via the `requests` attribute\n",
    "for request in driver.requests:\n",
    "    if request.response:\n",
    "        print(\n",
    "            request.url,\n",
    "            request.response.status_code,\n",
    "            request.response.headers['Content-Type']\n",
    "        )\n"
   ]
  },
  {
   "cell_type": "code",
   "execution_count": null,
   "metadata": {},
   "outputs": [],
   "source": [
    "driver.quit()"
   ]
  },
  {
   "cell_type": "code",
   "execution_count": null,
   "metadata": {},
   "outputs": [],
   "source": [
    "dict(request.headers)"
   ]
  },
  {
   "cell_type": "code",
   "execution_count": null,
   "metadata": {},
   "outputs": [],
   "source": [
    "options = Options()\n",
    "#options.add_argument(\"--disable-extensions\")\n",
    "options.add_argument(\"--disable-gpu\")\n",
    "# options.add_argument(\"--headless\")\n",
    "options.add_argument(\"--start-maximized\")\n",
    "# options.headless = True # also works\n",
    "\n",
    "# options.add_argument(\"--headless\")\n",
    "\n",
    "options.add_experimental_option(\"excludeSwitches\", [\"enable-automation\"])\n",
    "options.add_experimental_option('useAutomationExtension', False)"
   ]
  },
  {
   "cell_type": "code",
   "execution_count": null,
   "metadata": {},
   "outputs": [],
   "source": [
    "request.body"
   ]
  },
  {
   "cell_type": "code",
   "execution_count": null,
   "metadata": {},
   "outputs": [],
   "source": [
    "import inspect\n",
    "from pprint import pprint\n",
    "\n",
    "my_instance = request\n",
    "# Get all attributes and methods\n",
    "attributes_and_methods = dir(my_instance)\n",
    "\n",
    "# Filter attributes\n",
    "attributes_and_methods = {\n",
    "    \"Attributes\":[name for name in attributes_and_methods if not callable(getattr(my_instance, name))],\n",
    "    \"Methods\":[name for name in attributes_and_methods if callable(getattr(my_instance, name))]\n",
    "}\n",
    "pprint(attributes_and_methods)"
   ]
  },
  {
   "cell_type": "code",
   "execution_count": null,
   "metadata": {},
   "outputs": [],
   "source": [
    "\n",
    "\n",
    "my_instance = request.response\n",
    "def get_attributes_and_methods(my_instance: callable):\n",
    "    from pprint import pprint\n",
    "    # Get all attributes and methods\n",
    "    attributes_and_methods = dir(request.response)\n",
    "\n",
    "    # Filter attributes\n",
    "    attributes_and_methods = {\n",
    "        \"Attributes\":[name for name in attributes_and_methods if not callable(getattr(my_instance, name))],\n",
    "        \"Methods\":[name for name in attributes_and_methods if callable(getattr(my_instance, name))]\n",
    "    }\n",
    "    pprint(attributes_and_methods)"
   ]
  },
  {
   "cell_type": "code",
   "execution_count": null,
   "metadata": {},
   "outputs": [],
   "source": [
    "get_attributes_and_methods(request.response)"
   ]
  },
  {
   "cell_type": "code",
   "execution_count": null,
   "metadata": {},
   "outputs": [],
   "source": [
    "request.response.body"
   ]
  },
  {
   "cell_type": "code",
   "execution_count": null,
   "metadata": {},
   "outputs": [],
   "source": []
  },
  {
   "cell_type": "code",
   "execution_count": null,
   "metadata": {},
   "outputs": [],
   "source": [
    "from seleniumwire import webdriver  # Import from seleniumwire\n",
    "# from selenium import webdriver\n",
    "# Create a new instance of the Chrome driver\n",
    "driver = webdriver.Chrome(options= options )\n",
    "\n",
    "\n",
    "stealth(\n",
    "    driver = driver,\n",
    "    user_agent ='Mozilla/5.0 (Windows NT 10.0; Win64; x64) AppleWebKit/537.36 (KHTML, like Gecko) Chrome/83.0.4103.53 Safari/537.36',\n",
    "    languages = [\"en-US\", \"en\"],\n",
    "    vendor =\"Google Inc.\",\n",
    "    platform = \"Win32\",\n",
    "    webgl_vendor = \"Intel Inc.\",\n",
    "    renderer =\"Intel Iris OpenGL Engine\",\n",
    "    fix_hairline = False,\n",
    "    run_on_insecure_origins = False\n",
    ")\n",
    "try:\n",
    "    while True:\n",
    "        time.sleep(1)\n",
    "except:\n",
    "    pass\n"
   ]
  },
  {
   "cell_type": "code",
   "execution_count": null,
   "metadata": {},
   "outputs": [],
   "source": [
    "\n",
    "# Access requests via the `requests` attribute\n",
    "for request in driver.requests:\n",
    "    if request.response:\n",
    "        print(\n",
    "            request.url,\n",
    "            request.response.status_code,\n",
    "            request.response.headers['Content-Type']\n",
    "        )\n"
   ]
  },
  {
   "cell_type": "code",
   "execution_count": null,
   "metadata": {},
   "outputs": [],
   "source": [
    "driver.quit()"
   ]
  },
  {
   "cell_type": "code",
   "execution_count": null,
   "metadata": {},
   "outputs": [],
   "source": [
    "driver.requests[7].response.headers['Content-Type']"
   ]
  },
  {
   "cell_type": "code",
   "execution_count": null,
   "metadata": {},
   "outputs": [],
   "source": [
    "for request in driver.requests:\n",
    "    if request.response:\n",
    "        print(\n",
    "            request.response.headers['Content-Type']\n",
    "        )"
   ]
  },
  {
   "cell_type": "code",
   "execution_count": null,
   "metadata": {},
   "outputs": [],
   "source": [
    "content = \"text/html; charset=UTF-8\"\n",
    "content = \"image/webp\"\n"
   ]
  },
  {
   "cell_type": "code",
   "execution_count": null,
   "metadata": {},
   "outputs": [],
   "source": [
    "content.split(\"/\")[0]"
   ]
  },
  {
   "cell_type": "code",
   "execution_count": null,
   "metadata": {},
   "outputs": [],
   "source": [
    "if \"charset=\" in ['Content-Type']:\n",
    "    encoding = content[content.index(\"charset=\")+len(\"charset=\"):]"
   ]
  },
  {
   "cell_type": "code",
   "execution_count": null,
   "metadata": {},
   "outputs": [],
   "source": [
    "encoding"
   ]
  },
  {
   "cell_type": "code",
   "execution_count": null,
   "metadata": {},
   "outputs": [],
   "source": [
    "# Example byte object\n",
    "byte_object = b'Hello, World!'\n",
    "\n",
    "# Convert to UTF-8 string\n",
    "utf8_string = byte_object.decode('UTF-8')\n",
    "\n",
    "print(utf8_string)\n"
   ]
  },
  {
   "cell_type": "code",
   "execution_count": null,
   "metadata": {},
   "outputs": [],
   "source": [
    "import re"
   ]
  },
  {
   "cell_type": "code",
   "execution_count": null,
   "metadata": {},
   "outputs": [],
   "source": [
    "content_type = \"text/html; charset=utf-8\""
   ]
  },
  {
   "cell_type": "code",
   "execution_count": null,
   "metadata": {},
   "outputs": [],
   "source": []
  },
  {
   "cell_type": "code",
   "execution_count": null,
   "metadata": {},
   "outputs": [],
   "source": [
    "if \"charset=\" in content_type:\n",
    "    encoding = re.search(r\"?<(charset=).+\", content_type)\n",
    "else:\n",
    "    encoding = \"utf-8\""
   ]
  },
  {
   "cell_type": "code",
   "execution_count": null,
   "metadata": {},
   "outputs": [],
   "source": []
  },
  {
   "cell_type": "code",
   "execution_count": null,
   "metadata": {},
   "outputs": [],
   "source": [
    "res_body = '</,[]>'\n",
    "# j_start_end = [\"[\", \"]\", \"{\", \"}\"]\n",
    "j_start_end = \"[]{}\"\n",
    "start = False\n",
    "end = False\n",
    "while not start and not end:\n",
    "    if res_body[0] not in j_start_end:\n",
    "        print(f\"start {res_body[0]}\")\n",
    "        res_body = res_body[1:] \n",
    "    else:\n",
    "        start = True\n",
    "        \n",
    "    if res_body[-1] not in j_start_end:\n",
    "        print(f\"end {res_body[-1]}\")\n",
    "        res_body = res_body[:-2] \n",
    "    else:\n",
    "        end = True\n",
    "print(res_body)  "
   ]
  },
  {
   "cell_type": "code",
   "execution_count": null,
   "metadata": {},
   "outputs": [],
   "source": [
    "res_body = '</,[]>'"
   ]
  },
  {
   "cell_type": "code",
   "execution_count": null,
   "metadata": {},
   "outputs": [],
   "source": [
    "res_body[0:None]"
   ]
  },
  {
   "cell_type": "code",
   "execution_count": null,
   "metadata": {},
   "outputs": [],
   "source": [
    "res_body = '</,{[]}>'\n",
    "# j_start_end = [\"[\", \"]\", \"{\", \"}\"]\n"
   ]
  },
  {
   "cell_type": "code",
   "execution_count": null,
   "metadata": {},
   "outputs": [],
   "source": [
    "\n",
    "def clean_json_string(self, string: str) -> str:\n",
    "    j_start_end = '[]{}'\n",
    "    start = False\n",
    "    end = False\n",
    "\n",
    "    while not start:\n",
    "        if string[0] not in j_start_end:\n",
    "            string = string[1:] \n",
    "        else:\n",
    "            start = True\n",
    "            \n",
    "    while not end:       \n",
    "        if string[-1] not in j_start_end:\n",
    "            string = string[:-1] \n",
    "        else:\n",
    "            end = True\n",
    "    return string\n"
   ]
  },
  {
   "cell_type": "code",
   "execution_count": null,
   "metadata": {},
   "outputs": [],
   "source": [
    "clean_json_string(res_body)"
   ]
  },
  {
   "cell_type": "code",
   "execution_count": null,
   "metadata": {},
   "outputs": [],
   "source": [
    "import requests"
   ]
  },
  {
   "cell_type": "code",
   "execution_count": null,
   "metadata": {},
   "outputs": [],
   "source": [
    "req = {\n",
    "    \"url\": \"https://www.realtor.com/api/v1/rdc_search_srp?client_id=rdc-search-for-sale-search&schema=vesta\",\n",
    "    \"headers\": {\n",
    "        \"host\": \"www.realtor.com\",\n",
    "        \"accept\": \"application/json, text/javascript\",\n",
    "        \"accept-language\": \"en-US,en;q=0.5\",\n",
    "        \"accept-encoding\": \"gzip, deflate, br\",\n",
    "        \"content-type\": \"application/json\",\n",
    "        \"rdc-ab-test-client\": \"rdc-search-for-sale\",\n",
    "        \"origin\": \"https://www.realtor.com\",\n",
    "        \"sec-fetch-dest\": \"empty\",\n",
    "        \"sec-fetch-mode\": \"cors\",\n",
    "        \"sec-fetch-site\": \"same-origin\",\n",
    "        \"connection\": \"keep-alive\",\n",
    "        \"newrelic\": \"eyJ2IjpbMCwxXSwiZCI6eyJ0eSI6IkJyb3dzZXIiLCJhYyI6IjM3ODU4NCIsImFwIjoiMTM4NjEyODM5MCIsImlkIjoiMjRjNzgzNjQxNjJlMTdiZSIsInRyIjoiMWQwZTM3NDc4ZWU5MzRjMzY1M2VmNGFjOWU1OThkNzciLCJ0aSI6MTcyMTczNDM3NzcyMywidGsiOiIxMDIyNjgxIn19\",\n",
    "        \"traceparent\": \"00-1d0e37478ee934c3653ef4ac9e598d77-24c78364162e17be-01\",\n",
    "        \"tracestate\": \"1022681@nr=0-1-378584-1386128390-24c78364162e17be----1721734377723\",\n",
    "        \"user-agent\": \"Mozilla/5.0 (Windows NT 10.0; Win64; x64) AppleWebKit/537.36 (KHTML, like Gecko) Chrome/121.0.0.0 Safari/537.36 Edg/121.0.0.0 Trailer/92.3.3357.27\",\n",
    "        \"referer\": \"https://www.realtor.com/realestateandhomes-search/Alaska\",\n",
    "        \"referrer\": \"https://www.realtor.com/realestateandhomes-search/alaska/nc-hide/dom-1/pg-1\"\n",
    "    },\n",
    "    \"body\": \"{\\\"query\\\":\\\"\\\\n  query ConsumerSearchQuery(\\\\n    $query: HomeSearchCriteria!\\\\n    $limit: Int\\\\n    $offset: Int\\\\n    $search_promotion: SearchPromotionInput\\\\n    $sort: [SearchAPISort]\\\\n    $sort_type: SearchSortType\\\\n    $client_data: JSON\\\\n    $bucket: SearchAPIBucket\\\\n  ) {\\\\n    home_search: home_search(\\\\n      query: $query\\\\n      sort: $sort\\\\n      limit: $limit\\\\n      offset: $offset\\\\n      sort_type: $sort_type\\\\n      client_data: $client_data\\\\n      bucket: $bucket\\\\n      search_promotion: $search_promotion\\\\n    ) {\\\\n      count\\\\n      total\\\\n      search_promotion {\\\\n        name\\\\n        slots\\\\n        promoted_properties {\\\\n          id\\\\n          from_other_page\\\\n        }\\\\n      }\\\\n      properties: results {\\\\n        property_id\\\\n        list_price\\\\n        search_promotions {\\\\n          name\\\\n          asset_id\\\\n        }\\\\n        primary_photo(https: true) {\\\\n          href\\\\n        }\\\\n        rent_to_own {\\\\n          right_to_purchase\\\\n          rent\\\\n        }\\\\n        listing_id\\\\n        matterport\\\\n        virtual_tours {\\\\n          href\\\\n          type\\\\n        }\\\\n        status\\\\n        products {\\\\n          products\\\\n          brand_name\\\\n        }\\\\n        source {\\\\n          id\\\\n          type\\\\n          spec_id\\\\n          plan_id\\\\n          agents {\\\\n            office_name\\\\n          }\\\\n        }\\\\n        lead_attributes {\\\\n          show_contact_an_agent\\\\n          opcity_lead_attributes {\\\\n            cashback_enabled\\\\n            flip_the_market_enabled\\\\n          }\\\\n          lead_type\\\\n          ready_connect_mortgage {\\\\n            show_contact_a_lender\\\\n            show_veterans_united\\\\n          }\\\\n        }\\\\n        community {\\\\n          description {\\\\n            name\\\\n          }\\\\n          property_id\\\\n          permalink\\\\n          advertisers {\\\\n            office {\\\\n              hours\\\\n              phones {\\\\n                type\\\\n                number\\\\n                primary\\\\n                trackable\\\\n              }\\\\n            }\\\\n          }\\\\n          promotions {\\\\n            description\\\\n            href\\\\n            headline\\\\n          }\\\\n        }\\\\n        permalink\\\\n        price_reduced_amount\\\\n        description {\\\\n          name\\\\n          beds\\\\n          baths_consolidated\\\\n          sqft\\\\n          lot_sqft\\\\n          baths_max\\\\n          baths_min\\\\n          beds_min\\\\n          beds_max\\\\n          sqft_min\\\\n          sqft_max\\\\n          type\\\\n          sub_type\\\\n          sold_price\\\\n          sold_date\\\\n        }\\\\n        location {\\\\n          address {\\\\n            line\\\\n            postal_code\\\\n            state\\\\n            state_code\\\\n            city\\\\n            coordinate {\\\\n              lat\\\\n              lon\\\\n            }\\\\n          }\\\\n          county {\\\\n            name\\\\n            fips_code\\\\n          }\\\\n        }\\\\n        open_houses {\\\\n          start_date\\\\n          end_date\\\\n        }\\\\n        branding {\\\\n          type\\\\n          name\\\\n          photo\\\\n        }\\\\n        flags {\\\\n          is_coming_soon\\\\n          is_new_listing(days: 1)\\\\n          is_price_reduced(days: 1)\\\\n          is_foreclosure\\\\n          is_new_construction\\\\n          is_pending\\\\n          is_contingent\\\\n        }\\\\n        list_date\\\\n        photos(limit: 2, https: true) {\\\\n          href\\\\n        }\\\\n      }\\\\n    }\\\\n  }\\\\n\\\",\\\"variables\\\":{\\\"geoSupportedSlug\\\":\\\"\\\",\\\"query\\\":{\\\"primary\\\":true,\\\"status\\\":[\\\"for_sale\\\"],\\\"search_location\\\":{\\\"location\\\":\\\"alaska\\\"},\\\"new_construction\\\":false,\\\"list_date\\\":{\\\"min\\\":\\\"2024-07-25\\\"}},\\\"client_data\\\":{\\\"device_data\\\":{\\\"device_type\\\":\\\"desktop\\\"}},\\\"limit\\\":42,\\\"offset\\\":0,\\\"sort_type\\\":\\\"relevant\\\"},\\\"seoPayload\\\":{\\\"asPath\\\":\\\"/realestateandhomes-search/alaska\\\",\\\"pageType\\\":{\\\"silo\\\":\\\"search_result_page\\\",\\\"status\\\":\\\"for_sale\\\"},\\\"county_needed_for_uniq\\\":false,\\\"isFaqSupport\\\":false}}\"\n",
    "}"
   ]
  },
  {
   "cell_type": "code",
   "execution_count": null,
   "metadata": {},
   "outputs": [],
   "source": [
    "response = requests.post(url=req[\"url\"], headers= req[\"headers\"], data= req[\"body\"])"
   ]
  },
  {
   "cell_type": "code",
   "execution_count": null,
   "metadata": {},
   "outputs": [],
   "source": [
    "response.status_code"
   ]
  },
  {
   "cell_type": "code",
   "execution_count": null,
   "metadata": {},
   "outputs": [],
   "source": [
    "response.json()[\"data\"][\"home_search\"][\"total\"]"
   ]
  },
  {
   "cell_type": "code",
   "execution_count": null,
   "metadata": {},
   "outputs": [],
   "source": [
    "response.text"
   ]
  },
  {
   "cell_type": "code",
   "execution_count": null,
   "metadata": {},
   "outputs": [],
   "source": [
    "j_listings = jmespath.search(\"data.home_search.properties\",response.json())"
   ]
  },
  {
   "cell_type": "code",
   "execution_count": null,
   "metadata": {},
   "outputs": [],
   "source": [
    "j_listings[0]"
   ]
  },
  {
   "cell_type": "code",
   "execution_count": null,
   "metadata": {},
   "outputs": [],
   "source": [
    "from scrapy.crawler import CrawlerProcess\n",
    "from scrapy.utils.project import get_project_settings\n",
    "from twisted.internet import reactor\n",
    "\n",
    "def run_spider(spider_name):\n",
    "    process = CrawlerProcess(get_project_settings())\n",
    "    process.crawl(spider_name)\n",
    "    \n",
    "    # Check if reactor is already running\n",
    "    if not reactor.running:\n",
    "        process.start()\n",
    "\n",
    "if __name__ == \"__main__\":\n",
    "    run_spider('your_spider_name')\n"
   ]
  },
  {
   "cell_type": "code",
   "execution_count": null,
   "metadata": {},
   "outputs": [],
   "source": [
    "while True:\n",
    "    if input(\"please login and press y: \").lower() == \"y\":\n",
    "        break"
   ]
  },
  {
   "cell_type": "code",
   "execution_count": null,
   "metadata": {},
   "outputs": [],
   "source": [
    "captured a request B1 -----------\n",
    "{'accept': 'application/json, text/javascript',\n",
    " 'accept-encoding': 'gzip, deflate, br',\n",
    " 'accept-language': 'en-US,en;q=0.5',\n",
    " 'connection': 'keep-alive',\n",
    " 'content-type': 'application/json',\n",
    " 'host': 'www.realtor.com',\n",
    " 'newrelic': 'eyJ2IjpbMCwxXSwiZCI6eyJ0eSI6IkJyb3dzZXIiLCJhYyI6IjM3ODU4NCIsImFwIjoiMTM4NjEyODM5MCIsImlkIjoiZmUxMGNkZjAxMjYyYzgyNCIsInRyIjoiNjgxMTJmODhjMTA3MmFkN2FlNWM2MTE0ZjYxOTlkMGIiLCJ0aSI6MTcyMjA1NTIxMTgxOCwidGsiOiIxMDIyNjgxIn19',\n",
    " 'origin': 'https://www.realtor.com',\n",
    " 'rdc-ab-test-client': 'rdc-search-for-sale',\n",
    " 'referer': 'https://www.realtor.com/realestateandhomes-search/Alabama/show-recently-sold',\n",
    " 'sec-fetch-dest': 'empty',\n",
    " 'sec-fetch-mode': 'cors',\n",
    " 'sec-fetch-site': 'same-origin',\n",
    " 'traceparent': '00-68112f88c1072ad7ae5c6114f6199d0b-fe10cdf01262c824-01',\n",
    " 'tracestate': '1022681@nr=0-1-378584-1386128390-fe10cdf01262c824----1722055211818',\n",
    " 'user-agent': 'Mozilla/5.0 (Macintosh; Intel Mac OS X 10_15_5) '\n",
    "               'AppleWebKit/537.36 (KHTML, like Gecko) Chrome/122.0.0.0 '\n",
    "               'Safari/537.36'}\n",
    "\n",
    "captured a request B1 -----------\n",
    "{'accept': 'application/json, text/javascript',\n",
    " 'accept-encoding': 'gzip, deflate, br',\n",
    " 'accept-language': 'en-US,en;q=0.5',\n",
    " 'connection': 'keep-alive',\n",
    " 'content-type': 'application/json',\n",
    " 'host': 'www.realtor.com',\n",
    " 'newrelic': 'eyJ2IjpbMCwxXSwiZCI6eyJ0eSI6IkJyb3dzZXIiLCJhYyI6IjM3ODU4NCIsImFwIjoiMTM4NjEyODM5MCIsImlkIjoiMTRiY2MwNTYxMDA5OGM0YSIsInRyIjoiNDc5MmE5OTg4MGFhOGY2MDk4MDA1ODVjNzZkZTNmOWUiLCJ0aSI6MTcyMjA1NTIxODk0MCwidGsiOiIxMDIyNjgxIn19',\n",
    " 'origin': 'https://www.realtor.com',\n",
    " 'rdc-ab-test-client': 'rdc-search-for-sale',\n",
    " 'referer': 'https://www.realtor.com/realestateandhomes-search/Alabama/show-recently-sold',\n",
    " 'sec-fetch-dest': 'empty',\n",
    " 'sec-fetch-mode': 'cors',\n",
    " 'sec-fetch-site': 'same-origin',\n",
    " 'traceparent': '00-4792a99880aa8f609800585c76de3f9e-14bcc05610098c4a-01',\n",
    " 'tracestate': '1022681@nr=0-1-378584-1386128390-14bcc05610098c4a----1722055218940',\n",
    " 'user-agent': 'Mozilla/5.0 (Macintosh; Intel Mac OS X 10_15_5) '\n",
    "               'AppleWebKit/537.36 (KHTML, like Gecko) Chrome/122.0.0.0 '\n",
    "               'Safari/537.36'}\n",
    "\n",
    "captured a request B1 -----------\n",
    "{'accept': 'application/json, text/javascript',\n",
    " 'accept-encoding': 'gzip, deflate, br',\n",
    " 'accept-language': 'en-US,en;q=0.5',\n",
    " 'connection': 'keep-alive',\n",
    " 'content-type': 'application/json',\n",
    " 'host': 'www.realtor.com',\n",
    " 'newrelic': 'eyJ2IjpbMCwxXSwiZCI6eyJ0eSI6IkJyb3dzZXIiLCJhYyI6IjM3ODU4NCIsImFwIjoiMTM4NjEyODM5MCIsImlkIjoiMGI5ZTRkZjFjZDI4OTBkNSIsInRyIjoiZTQ3Yjg0ZjZhNWJiZDAyNmVmNDEzMWEwMDFmOTlmNTQiLCJ0aSI6MTcyMjA1NTIyMTUzNywidGsiOiIxMDIyNjgxIn19',\n",
    " 'origin': 'https://www.realtor.com',\n",
    " 'rdc-ab-test-client': 'rdc-search-for-sale',\n",
    " 'referer': 'https://www.realtor.com/realestateandhomes-search/Alabama/show-recently-sold',\n",
    " 'sec-fetch-dest': 'empty',\n",
    " 'sec-fetch-mode': 'cors',\n",
    " 'sec-fetch-site': 'same-origin',\n",
    " 'traceparent': '00-e47b84f6a5bbd026ef4131a001f99f54-0b9e4df1cd2890d5-01',\n",
    " 'tracestate': '1022681@nr=0-1-378584-1386128390-0b9e4df1cd2890d5----1722055221537',\n",
    " 'user-agent': 'Mozilla/5.0 (Macintosh; Intel Mac OS X 10_15_5) '\n",
    "               'AppleWebKit/537.36 (KHTML, like Gecko) Chrome/122.0.0.0 '\n",
    "               'Safari/537.36'}\n",
    "\n",
    "captured a request B1 -----------\n",
    "{'accept': 'application/json, text/javascript',\n",
    " 'accept-encoding': 'gzip, deflate, br',\n",
    " 'accept-language': 'en-US,en;q=0.5',\n",
    " 'connection': 'keep-alive',\n",
    " 'content-type': 'application/json',\n",
    " 'host': 'www.realtor.com',\n",
    " 'newrelic': 'eyJ2IjpbMCwxXSwiZCI6eyJ0eSI6IkJyb3dzZXIiLCJhYyI6IjM3ODU4NCIsImFwIjoiMTM4NjEyODM5MCIsImlkIjoiNTgxNDg1YzYyNDU3Y2QwOCIsInRyIjoiYTcyNDBmMzI4YzA3MmU4MWY5ZmU1MjJjYjIwZGRjNjciLCJ0aSI6MTcyMjA1NTI0NDA5NywidGsiOiIxMDIyNjgxIn19',\n",
    " 'origin': 'https://www.realtor.com',\n",
    " 'rdc-ab-test-client': 'rdc-search-for-sale',\n",
    " 'referer': 'https://www.realtor.com/realestateandhomes-search/Alabama/show-recently-sold',\n",
    " 'sec-fetch-dest': 'empty',\n",
    " 'sec-fetch-mode': 'cors',\n",
    " 'sec-fetch-site': 'same-origin',\n",
    " 'traceparent': '00-a7240f328c072e81f9fe522cb20ddc67-581485c62457cd08-01',\n",
    " 'tracestate': '1022681@nr=0-1-378584-1386128390-581485c62457cd08----1722055244097',\n",
    " 'user-agent': 'Mozilla/5.0 (Macintosh; Intel Mac OS X 10_15_5) '\n",
    "               'AppleWebKit/537.36 (KHTML, like Gecko) Chrome/122.0.0.0 '\n",
    "               'Safari/537.36'}\n",
    "\n",
    "captured a request B1 -----------\n",
    "{'accept': 'application/json, text/javascript',\n",
    " 'accept-encoding': 'gzip, deflate, br',\n",
    " 'accept-language': 'en-US,en;q=0.5',\n",
    " 'connection': 'keep-alive',\n",
    " 'content-type': 'application/json',\n",
    " 'host': 'www.realtor.com',\n",
    " 'newrelic': 'eyJ2IjpbMCwxXSwiZCI6eyJ0eSI6IkJyb3dzZXIiLCJhYyI6IjM3ODU4NCIsImFwIjoiMTM4NjEyODM5MCIsImlkIjoiZDZlZGY3M2VkOGY0ZjFjZSIsInRyIjoiZDRmMDZiMjI1MWIyMTIzODQwYzg5OTE0NzZiODMwM2UiLCJ0aSI6MTcyMjA1NTMxMzUxNSwidGsiOiIxMDIyNjgxIn19',\n",
    " 'origin': 'https://www.realtor.com',\n",
    " 'rdc-ab-test-client': 'rdc-search-for-sale',\n",
    " 'referer': 'https://www.realtor.com/realestateandhomes-search/Alabama/show-recently-sold',\n",
    " 'sec-fetch-dest': 'empty',\n",
    " 'sec-fetch-mode': 'cors',\n",
    " 'sec-fetch-site': 'same-origin',\n",
    " 'traceparent': '00-d4f06b2251b2123840c8991476b8303e-d6edf73ed8f4f1ce-01',\n",
    " 'tracestate': '1022681@nr=0-1-378584-1386128390-d6edf73ed8f4f1ce----1722055313515',\n",
    " 'user-agent': 'Mozilla/5.0 (Macintosh; Intel Mac OS X 10_15_5) '\n",
    "               'AppleWebKit/537.36 (KHTML, like Gecko) Chrome/122.0.0.0 '\n",
    "               'Safari/537.36'}\n",
    "\n",
    "captured a request B1 -----------\n",
    "{'accept': 'application/json, text/javascript',\n",
    " 'accept-encoding': 'gzip, deflate, br',\n",
    " 'accept-language': 'en-US,en;q=0.5',\n",
    " 'connection': 'keep-alive',\n",
    " 'content-type': 'application/json',\n",
    " 'host': 'www.realtor.com',\n",
    " 'newrelic': 'eyJ2IjpbMCwxXSwiZCI6eyJ0eSI6IkJyb3dzZXIiLCJhYyI6IjM3ODU4NCIsImFwIjoiMTM4NjEyODM5MCIsImlkIjoiZTA1ODQ5MTJhZmVhNTNiNiIsInRyIjoiNmRkZTZkZWUxNzE3ZjU5ZTE5MjFjNDM5ZjVjNDc0NjYiLCJ0aSI6MTcyMjA1NTMxODk4MywidGsiOiIxMDIyNjgxIn19',\n",
    " 'origin': 'https://www.realtor.com',\n",
    " 'rdc-ab-test-client': 'rdc-search-for-sale',\n",
    " 'referer': 'https://www.realtor.com/realestateandhomes-search/Alabama',\n",
    " 'sec-fetch-dest': 'empty',\n",
    " 'sec-fetch-mode': 'cors',\n",
    " 'sec-fetch-site': 'same-origin',\n",
    " 'traceparent': '00-6dde6dee1717f59e1921c439f5c47466-e0584912afea53b6-01',\n",
    " 'tracestate': '1022681@nr=0-1-378584-1386128390-e0584912afea53b6----1722055318983',\n",
    " 'user-agent': 'Mozilla/5.0 (Macintosh; Intel Mac OS X 10_15_5) '\n",
    "               'AppleWebKit/537.36 (KHTML, like Gecko) Chrome/122.0.0.0 '\n",
    "               'Safari/537.36'}\n",
    "\n",
    "captured a request B1 -----------\n",
    "{'accept': 'application/json, text/javascript',\n",
    " 'accept-encoding': 'gzip, deflate, br',\n",
    " 'accept-language': 'en-US,en;q=0.5',\n",
    " 'connection': 'keep-alive',\n",
    " 'content-type': 'application/json',\n",
    " 'host': 'www.realtor.com',\n",
    " 'newrelic': 'eyJ2IjpbMCwxXSwiZCI6eyJ0eSI6IkJyb3dzZXIiLCJhYyI6IjM3ODU4NCIsImFwIjoiMTM4NjEyODM5MCIsImlkIjoiYjNiNDg0MDkxNmU0MGJkOCIsInRyIjoiMGRmZGEwMTM1OTJkNTUzNjgwZmNjYjk0ZmIzZWZjZTQiLCJ0aSI6MTcyMjA1NTMxOTAzMCwidGsiOiIxMDIyNjgxIn19',\n",
    " 'origin': 'https://www.realtor.com',\n",
    " 'rdc-ab-test-client': 'rdc-search-for-sale',\n",
    " 'referer': 'https://www.realtor.com/realestateandhomes-search/Alabama',\n",
    " 'sec-fetch-dest': 'empty',\n",
    " 'sec-fetch-mode': 'cors',\n",
    " 'sec-fetch-site': 'same-origin',\n",
    " 'traceparent': '00-0dfda013592d553680fccb94fb3efce4-b3b4840916e40bd8-01',\n",
    " 'tracestate': '1022681@nr=0-1-378584-1386128390-b3b4840916e40bd8----1722055319030',\n",
    " 'user-agent': 'Mozilla/5.0 (Macintosh; Intel Mac OS X 10_15_5) '\n",
    "               'AppleWebKit/537.36 (KHTML, like Gecko) Chrome/122.0.0.0 '\n",
    "               'Safari/537.36'}\n",
    "\n",
    "captured a request B1 -----------\n",
    "{'accept': 'application/json, text/javascript',\n",
    " 'accept-encoding': 'gzip, deflate, br',\n",
    " 'accept-language': 'en-US,en;q=0.5',\n",
    " 'connection': 'keep-alive',\n",
    " 'content-type': 'application/json',\n",
    " 'host': 'www.realtor.com',\n",
    " 'newrelic': 'eyJ2IjpbMCwxXSwiZCI6eyJ0eSI6IkJyb3dzZXIiLCJhYyI6IjM3ODU4NCIsImFwIjoiMTM4NjEyODM5MCIsImlkIjoiZjgwYjcwOTJlY2FjYjQ5ZCIsInRyIjoiNWMyYzY5MWQ5NzBlNTk5YWU3N2U5M2ZhN2E3NzdhNjMiLCJ0aSI6MTcyMjA1NTM1MjczMiwidGsiOiIxMDIyNjgxIn19',\n",
    " 'origin': 'https://www.realtor.com',\n",
    " 'rdc-ab-test-client': 'rdc-search-for-sale',\n",
    " 'referer': 'https://www.realtor.com/realestateandhomes-search/Alabama',\n",
    " 'sec-fetch-dest': 'empty',\n",
    " 'sec-fetch-mode': 'cors',\n",
    " 'sec-fetch-site': 'same-origin',\n",
    " 'traceparent': '00-5c2c691d970e599ae77e93fa7a777a63-f80b7092ecacb49d-01',\n",
    " 'tracestate': '1022681@nr=0-1-378584-1386128390-f80b7092ecacb49d----1722055352732',\n",
    " 'user-agent': 'Mozilla/5.0 (Macintosh; Intel Mac OS X 10_15_5) '\n",
    "               'AppleWebKit/537.36 (KHTML, like Gecko) Chrome/122.0.0.0 '\n",
    "               'Safari/537.36'}\n",
    "\n",
    "captured a request B1 -----------\n",
    "{'accept': 'application/json, text/javascript',\n",
    " 'accept-encoding': 'gzip, deflate, br',\n",
    " 'accept-language': 'en-US,en;q=0.5',\n",
    " 'connection': 'keep-alive',\n",
    " 'content-type': 'application/json',\n",
    " 'host': 'www.realtor.com',\n",
    " 'newrelic': 'eyJ2IjpbMCwxXSwiZCI6eyJ0eSI6IkJyb3dzZXIiLCJhYyI6IjM3ODU4NCIsImFwIjoiMTM4NjEyODM5MCIsImlkIjoiY2Q2OGIzNzQ0ZGZhZTczZCIsInRyIjoiNWQzNjY5NTY3MTM1MDI5YjI5MDlmNThkZjZkNmNjMDMiLCJ0aSI6MTcyMjA1NTM2MDAxMywidGsiOiIxMDIyNjgxIn19',\n",
    " 'origin': 'https://www.realtor.com',\n",
    " 'rdc-ab-test-client': 'rdc-search-for-sale',\n",
    " 'referer': 'https://www.realtor.com/realestateandhomes-search/Alabama/pg-2',\n",
    " 'sec-fetch-dest': 'empty',\n",
    " 'sec-fetch-mode': 'cors',\n",
    " 'sec-fetch-site': 'same-origin',\n",
    " 'traceparent': '00-5d3669567135029b2909f58df6d6cc03-cd68b3744dfae73d-01',\n",
    " 'tracestate': '1022681@nr=0-1-378584-1386128390-cd68b3744dfae73d----1722055360013',\n",
    " 'user-agent': 'Mozilla/5.0 (Macintosh; Intel Mac OS X 10_15_5) '\n",
    "               'AppleWebKit/537.36 (KHTML, like Gecko) Chrome/122.0.0.0 '\n",
    "               'Safari/537.36'}\n",
    "\n",
    "captured a request B1 -----------\n",
    "{'accept': 'application/json, text/javascript',\n",
    " 'accept-encoding': 'gzip, deflate, br',\n",
    " 'accept-language': 'en-US,en;q=0.5',\n",
    " 'connection': 'keep-alive',\n",
    " 'content-type': 'application/json',\n",
    " 'host': 'www.realtor.com',\n",
    " 'newrelic': 'eyJ2IjpbMCwxXSwiZCI6eyJ0eSI6IkJyb3dzZXIiLCJhYyI6IjM3ODU4NCIsImFwIjoiMTM4NjEyODM5MCIsImlkIjoiY2Y0YmMwOTE2MjIyNmM2NCIsInRyIjoiYTZhOTcwNGFlMDAyMjk5NzE5NzI4NjdhYjc0NjU5MDIiLCJ0aSI6MTcyMjA1NTQwMDk0NywidGsiOiIxMDIyNjgxIn19',\n",
    " 'origin': 'https://www.realtor.com',\n",
    " 'rdc-ab-test-client': 'rdc-search-for-sale',\n",
    " 'referer': 'https://www.realtor.com/realestateandhomes-search/Alabama/pg-2',\n",
    " 'sec-fetch-dest': 'empty',\n",
    " 'sec-fetch-mode': 'cors',\n",
    " 'sec-fetch-site': 'same-origin',\n",
    " 'traceparent': '00-a6a9704ae00229971972867ab7465902-cf4bc09162226c64-01',\n",
    " 'tracestate': '1022681@nr=0-1-378584-1386128390-cf4bc09162226c64----1722055400947',\n",
    " 'user-agent': 'Mozilla/5.0 (Macintosh; Intel Mac OS X 10_15_5) '\n",
    "               'AppleWebKit/537.36 (KHTML, like Gecko) Chrome/122.0.0.0 '\n",
    "               'Safari/537.36'}\n",
    "\n",
    "captured a request B1 -----------\n",
    "{'accept': 'application/json, text/javascript',\n",
    " 'accept-encoding': 'gzip, deflate, br',\n",
    " 'accept-language': 'en-US,en;q=0.5',\n",
    " 'connection': 'keep-alive',\n",
    " 'content-type': 'application/json',\n",
    " 'host': 'www.realtor.com',\n",
    " 'newrelic': 'eyJ2IjpbMCwxXSwiZCI6eyJ0eSI6IkJyb3dzZXIiLCJhYyI6IjM3ODU4NCIsImFwIjoiMTM4NjEyODM5MCIsImlkIjoiNzg3ZDdhM2E4YjUzZDJiNiIsInRyIjoiMGZlNDY2MzA2MTQ0OWEwNGE5ZWUwODgyMGJkYjlkMTQiLCJ0aSI6MTcyMjA1NTQxOTQ3MSwidGsiOiIxMDIyNjgxIn19',\n",
    " 'origin': 'https://www.realtor.com',\n",
    " 'rdc-ab-test-client': 'rdc-search-for-sale',\n",
    " 'referer': 'https://www.realtor.com/realestateandhomes-search/Alabama/pg-2',\n",
    " 'sec-fetch-dest': 'empty',\n",
    " 'sec-fetch-mode': 'cors',\n",
    " 'sec-fetch-site': 'same-origin',\n",
    " 'traceparent': '00-0fe4663061449a04a9ee08820bdb9d14-787d7a3a8b53d2b6-01',\n",
    " 'tracestate': '1022681@nr=0-1-378584-1386128390-787d7a3a8b53d2b6----1722055419471',\n",
    " 'user-agent': 'Mozilla/5.0 (Macintosh; Intel Mac OS X 10_15_5) '\n",
    "               'AppleWebKit/537.36 (KHTML, like Gecko) Chrome/122.0.0.0 '\n",
    "               'Safari/537.36'}\n",
    "\n",
    "captured a request B2 -----------\n",
    "{'accept': 'application/json, text/javascript',\n",
    " 'accept-encoding': 'gzip, deflate, br',\n",
    " 'accept-language': 'en-US,en;q=0.5',\n",
    " 'connection': 'keep-alive',\n",
    " 'content-type': 'application/json',\n",
    " 'host': 'www.realtor.com',\n",
    " 'newrelic': 'eyJ2IjpbMCwxXSwiZCI6eyJ0eSI6IkJyb3dzZXIiLCJhYyI6IjM3ODU4NCIsImFwIjoiMTM4NjEyODM5MCIsImlkIjoiZmUxMGNkZjAxMjYyYzgyNCIsInRyIjoiNjgxMTJmODhjMTA3MmFkN2FlNWM2MTE0ZjYxOTlkMGIiLCJ0aSI6MTcyMjA1NTIxMTgxOCwidGsiOiIxMDIyNjgxIn19',\n",
    " 'origin': 'https://www.realtor.com',\n",
    " 'rdc-ab-test-client': 'rdc-search-for-sale',\n",
    " 'referer': 'https://www.realtor.com/realestateandhomes-search/Alabama/show-recently-sold',\n",
    " 'sec-fetch-dest': 'empty',\n",
    " 'sec-fetch-mode': 'cors',\n",
    " 'sec-fetch-site': 'same-origin',\n",
    " 'traceparent': '00-68112f88c1072ad7ae5c6114f6199d0b-fe10cdf01262c824-01',\n",
    " 'tracestate': '1022681@nr=0-1-378584-1386128390-fe10cdf01262c824----1722055211818',\n",
    " 'user-agent': 'Mozilla/5.0 (Macintosh; Intel Mac OS X 10_15_5) '\n",
    "               'AppleWebKit/537.36 (KHTML, like Gecko) Chrome/122.0.0.0 '\n",
    "               'Safari/537.36'}\n",
    "obtained the headers successfully.\n",
    "{'host': 'www.realtor.com', 'accept': 'application/json, text/javascript', 'accept-language': 'en-US,en;q=0.5', 'accept-encoding': 'gzip, deflate, br', 'content-type': 'application/json', 'rdc-ab-test-client': 'rdc-search-for-sale', 'origin': 'https://www.realtor.com', 'sec-fetch-dest': 'empty', 'sec-fetch-mode': 'cors', 'sec-fetch-site': 'same-origin', 'connection': 'keep-alive', 'newrelic': 'eyJ2IjpbMCwxXSwiZCI6eyJ0eSI6IkJyb3dzZXIiLCJhYyI6IjM3ODU4NCIsImFwIjoiMTM4NjEyODM5MCIsImlkIjoiZmUxMGNkZjAxMjYyYzgyNCIsInRyIjoiNjgxMTJmODhjMTA3MmFkN2FlNWM2MTE0ZjYxOTlkMGIiLCJ0aSI6MTcyMjA1NTIxMTgxOCwidGsiOiIxMDIyNjgxIn19', 'traceparent': '00-68112f88c1072ad7ae5c6114f6199d0b-fe10cdf01262c824-01', 'tracestate': '1022681@nr=0-1-378584-1386128390-fe10cdf01262c824----1722055211818', 'user-agent': 'Mozilla/5.0 (Macintosh; Intel Mac OS X 10_15_5) AppleWebKit/537.36 (KHTML, like Gecko) Chrome/122.0.0.0 Safari/537.36', 'referer': 'https://www.realtor.com/realestateandhomes-search/Alabama/show-recently-sold'}\n",
    "\n",
    "(env) D:\\Documents\\web scraping\\realtor_FULL_SITE_scrapy>"
   ]
  },
  {
   "cell_type": "code",
   "execution_count": null,
   "metadata": {},
   "outputs": [],
   "source": [
    "def process_item(self, item, spider):\n",
    "        item[\"headers_to_update\"] = {\"referer\": f\"{self.WEBSITE}/realestateandhomes-detail/{item['permalink']}\"}\n",
    "        item[\"payload\"] = R_PAYLOAD.replace(\"**\", item[\"property_id\"]).replace(\"++\", item[\"listing_id\"] if type(item[\"listing_id\"])== str else \"\")    \n",
    "        del item[\"permalink\"]\n",
    "        del item[\"property_id\"]\n",
    "        del item[\"listing_id\"]\n",
    "        \n",
    "file_name = f\"{self.state} listings req_data batch{self.batch_number} date {spider.today_date} .json\""
   ]
  },
  {
   "cell_type": "code",
   "execution_count": 1,
   "metadata": {},
   "outputs": [],
   "source": [
    "import sys\n",
    "import os\n",
    "\n",
    "# Path to the directory containing your module\n",
    "module_path = r\"D:\\Documents\\my_funtions\"\n",
    "\n",
    "# Add the path to sys.path\n",
    "if module_path not in sys.path:\n",
    "    sys.path.append(module_path)\n",
    "\n",
    "# Now you can import your module\n",
    "from my_functions import get_attributes_and_methods\n",
    "\n"
   ]
  },
  {
   "cell_type": "code",
   "execution_count": null,
   "metadata": {},
   "outputs": [],
   "source": [
    "get_attributes_and_methods(print)"
   ]
  },
  {
   "cell_type": "code",
   "execution_count": null,
   "metadata": {},
   "outputs": [],
   "source": [
    "\"\"\" \n",
    "\n",
    "I am working on a scraping project with scrpay, I want to create a downloader middleware that changes the headers through a\n",
    "method called \"self.update_headers\" that sets \"self.updating_headers\" to \"True\" when initiated and sets it back to \"False\" when it finishes\n",
    "and calls \"get_fresh_headers\" function and use it's return return to set \"self.requests_headers\" \n",
    "\n",
    "if the request's \"newrelic\" header is not the same as the \"self.requests_headers[\"newrelic\"]\"and\n",
    "the last part of the URL of the failed requests from \"pg-\" to \"page-\", and I want \n",
    "the part of the code that will change the headers to sleep for 1 second while the variable \n",
    "\"self.updating_headers\" equals \"False\" then updates the headers\n",
    "\"\"\""
   ]
  },
  {
   "cell_type": "code",
   "execution_count": null,
   "metadata": {},
   "outputs": [],
   "source": [
    "\"\"\"\n",
    "I am working on a scraping project with scrpay and I need to set the request header for each request made \n",
    "trough a \"downloader middleware\" class.\n",
    "I want the download middleware class to work as following:\n",
    "- when the spider is initiated it looks for the value of \"SCRAPING_HEADERS\" (dict) in the settings and set it's value to\n",
    "the \"self.scraping_headers\" attribute, and if it's empty then run \"get_fresh_headers\" function and set it's return value \n",
    "as the \"self.scraping_headers\".\n",
    "- for each request made set the \"newrelic\" header to the same value as the \"self.scraping_headers[\"newrelic\"]\".\n",
    "- if a request got a bad response then the class acts in one of the three ways according to the \"newrelic\" header in the request header:\n",
    "1- if the \"newrelic\" header is not the same value as the \"self.scraping_headers[\"newrelic\"]\" then \n",
    "set the \"newrelic\" header to the same value as the \"self.scraping_headers[\"newrelic\"]\" and change the substirng \"pg-\" in the \n",
    "request url to \"page-\".\n",
    "2- if the \"newrelic\" header is the same value as the \"self.scraping_headers[\"newrelic\"]\" and the \"self.updating\" attribute is \"False\" then \n",
    "run the \"self.update_scraping_headers\" method which sets the value of \"self.updating\" to \"True\" and it runs the \"get_fresh_headers\" function\n",
    "to update the \"self.scraping_headers\" attribute then it sets the \"self.updating\" attribute back to \"False\".\n",
    "3- if the \"newrelic\" header is the same value as the \"self.scraping_headers[\"newrelic\"]\" and the \"self.updating\" attribute is \"True\" then\n",
    "sleep 0.5 seconds while the the \"self.updating\" attribute equals to \"True\" and when the \"self.updating\" changes back to false set the \n",
    "set the \"newrelic\" request header to the same value as the \"self.scraping_headers[\"newrelic\"]\".\n",
    "at last when the spider closes set the \"SCRAPING_HEADERS\" variable in the setting to the same value as the \n",
    "\"self.scraping_headers\".\n",
    "\"\"\""
   ]
  },
  {
   "cell_type": "code",
   "execution_count": null,
   "metadata": {},
   "outputs": [],
   "source": []
  },
  {
   "cell_type": "code",
   "execution_count": 1,
   "metadata": {},
   "outputs": [],
   "source": [
    "updating_headers = False"
   ]
  },
  {
   "cell_type": "code",
   "execution_count": null,
   "metadata": {},
   "outputs": [],
   "source": [
    "while updating_headers:\n",
    "    sleep(1)\n",
    "    break\n"
   ]
  },
  {
   "cell_type": "code",
   "execution_count": 1,
   "metadata": {},
   "outputs": [],
   "source": [
    "import requests "
   ]
  },
  {
   "cell_type": "code",
   "execution_count": 2,
   "metadata": {},
   "outputs": [],
   "source": [
    "start_urls = [\n",
    "        'http://httpbin.org/status/200',  # Successful response\n",
    "        'http://httpbin.org/status/200',  # Successful response\n",
    "        'http://httpbin.org/status/200',  # Successful response\n",
    "        'http://httpbin.org/status/404',  # Not found\n",
    "        'http://httpbin.org/status/200',  # Server error\n",
    "        'http://httpbin.org/status/500',\n",
    "        'http://httpbin.org/status/200'\n",
    "    ]"
   ]
  },
  {
   "cell_type": "code",
   "execution_count": null,
   "metadata": {},
   "outputs": [],
   "source": [
    "response = requests.get(start_urls[-2])\n",
    "response"
   ]
  },
  {
   "cell_type": "code",
   "execution_count": null,
   "metadata": {},
   "outputs": [],
   "source": [
    "response.text"
   ]
  },
  {
   "cell_type": "code",
   "execution_count": null,
   "metadata": {},
   "outputs": [],
   "source": [
    "''' \n",
    "(env) D:\\Documents\\WebScraping\\realtor_FULL_SITE_scrapy\\realtor>scrapy crawl test_spider\n",
    "request number 0\n",
    "DMW request url= http://httpbin.org/status/200\n",
    "DMW request headers= {}\n",
    "DMW request headers= {b'Update_Number': [b'0']}\n",
    "\n",
    "\n",
    "self.update_number 0\n",
    "-- enter parse -----------------------------\n",
    "Request headers for http://httpbin.org/status/200: {b'Update_Number': [b'0'], b'Accept': [b'text/html,application/xhtml+xml,application/xml;q=0.9,*/*;q=0.8'], b'Accept-Language': [b'en'], b'User-Agent': [b'Scrapy/2.11.2 (+https://scrapy.org)'], b'Accept-Encoding': [b'gzip, deflate, br, zstd']}\n",
    "\n",
    "\n",
    "\n",
    "(env) D:\\Documents\\WebScraping\\realtor_FULL_SITE_scrapy\\realtor>\n",
    "'''"
   ]
  },
  {
   "cell_type": "code",
   "execution_count": null,
   "metadata": {},
   "outputs": [],
   "source": [
    "''' \n",
    "(env) D:\\Documents\\WebScraping\\realtor_FULL_SITE_scrapy\\realtor>scrapy crawl test_spider\n",
    "request number 0\n",
    "DMW request url= http://httpbin.org/status/404\n",
    "DMW request headers= {}\n",
    "DMW request headers= {b'Update_Number': [b'1'], b'Modified': [b'TEST']}\n",
    "\n",
    "\n",
    "request number 1\n",
    "DMW request url= http://httpbin.org/status/200\n",
    "DMW request headers= {}\n",
    "DMW request headers= {b'Update_Number': [b'1'], b'Modified': [b'TEST']}\n",
    "\n",
    "\n",
    "request number 2\n",
    "DMW request url= http://httpbin.org/status/500\n",
    "DMW request headers= {}\n",
    "DMW request headers= {b'Update_Number': [b'1'], b'Modified': [b'TEST']}\n",
    "\n",
    "\n",
    "request number 3\n",
    "DMW request url= http://httpbin.org/status/400\n",
    "DMW request headers= {}\n",
    "DMW request headers= {b'Update_Number': [b'1'], b'Modified': [b'TEST']}\n",
    "\n",
    "\n",
    "self.update_number 1\n",
    "**************************************************\n",
    "process response status 500\n",
    "process_response request old url http://httpbin.org/status/500\n",
    "process_response request headers {b'Update_Number': [b'2'], b'Modified': [b'SUCCESSES'], b'Accept': [b'text/html,application/xhtml+xml,application/xml;q=0.9,*/*;q=0.8'], b'Accept-Language': [b'en'], b'User-Agent': [b'Scrapy/2.11.2 (+https://scrapy.org)'], b'Accept-Encoding': [b'gzip, deflate, br, zstd']}\n",
    "process_response request new url http://httpbin.org/status/200\n",
    "\n",
    "\n",
    "self.update_number 2\n",
    "self.update_number 2\n",
    "process response status 404\n",
    "process_response request old url http://httpbin.org/status/404\n",
    "process_response request headers {b'Update_Number': [b'2'], b'Modified': [b'SUCCESSES'], b'Accept': [b'text/html,application/xhtml+xml,application/xml;q=0.9,*/*;q=0.8'], b'Accept-Language': [b'en'], b'User-Agent': [b'Scrapy/2.11.2 (+https://scrapy.org)'], b'Accept-Encoding': [b'gzip, deflate, br, zstd']}\n",
    "process_response request new url http://httpbin.org/status/200\n",
    "\n",
    "\n",
    "self.update_number 2\n",
    "process response status 400\n",
    "process_response request old url http://httpbin.org/status/400\n",
    "process_response request headers {b'Update_Number': [b'2'], b'Modified': [b'SUCCESSES'], b'Accept': [b'text/html,application/xhtml+xml,application/xml;q=0.9,*/*;q=0.8'], b'Accept-Language': [b'en'], b'User-Agent': [b'Scrapy/2.11.2 (+https://scrapy.org)'], b'Accept-Encoding': [b'gzip, deflate, br, zstd']}\n",
    "process_response request new url http://httpbin.org/status/200\n",
    "\n",
    "\n",
    "DMW request url= http://httpbin.org/status/200\n",
    "DMW request headers= {b'Update_Number': [b'2'], b'Modified': [b'SUCCESSES'], b'Accept': [b'text/html,application/xhtml+xml,application/xml;q=0.9,*/*;q=0.8'], b'Accept-Language': [b'en'], b'User-Agent': [b'Scrapy/2.11.2 (+https://scrapy.org)'], b'Accept-Encoding': [b'gzip, deflate, br, zstd']}\n",
    "DMW request headers= {b'Update_Number': [b'2'], b'Modified': [b'TEST'], b'Accept': [b'text/html,application/xhtml+xml,application/xml;q=0.9,*/*;q=0.8'], b'Accept-Language': [b'en'], b'User-Agent': [b'Scrapy/2.11.2 (+https://scrapy.org)'], b'Accept-Encoding': [b'gzip, deflate, br, zstd']}\n",
    "\n",
    "\n",
    "DMW request url= http://httpbin.org/status/200\n",
    "DMW request headers= {b'Update_Number': [b'2'], b'Modified': [b'SUCCESSES'], b'Accept': [b'text/html,application/xhtml+xml,application/xml;q=0.9,*/*;q=0.8'], b'Accept-Language': [b'en'], b'User-Agent': [b'Scrapy/2.11.2 (+https://scrapy.org)'], b'Accept-Encoding': [b'gzip, deflate, br, zstd']}\n",
    "DMW request headers= {b'Update_Number': [b'2'], b'Modified': [b'TEST'], b'Accept': [b'text/html,application/xhtml+xml,application/xml;q=0.9,*/*;q=0.8'], b'Accept-Language': [b'en'], b'User-Agent': [b'Scrapy/2.11.2 (+https://scrapy.org)'], b'Accept-Encoding': [b'gzip, deflate, br, zstd']}\n",
    "\n",
    "\n",
    "DMW request url= http://httpbin.org/status/200\n",
    "DMW request headers= {b'Update_Number': [b'2'], b'Modified': [b'SUCCESSES'], b'Accept': [b'text/html,application/xhtml+xml,application/xml;q=0.9,*/*;q=0.8'], b'Accept-Language': [b'en'], b'User-Agent': [b'Scrapy/2.11.2 (+https://scrapy.org)'], b'Accept-Encoding': [b'gzip, deflate, br, zstd']}\n",
    "DMW request headers= {b'Update_Number': [b'2'], b'Modified': [b'TEST'], b'Accept': [b'text/html,application/xhtml+xml,application/xml;q=0.9,*/*;q=0.8'], b'Accept-Language': [b'en'], b'User-Agent': [b'Scrapy/2.11.2 (+https://scrapy.org)'], b'Accept-Encoding': [b'gzip, deflate, br, zstd']}\n",
    "\n",
    "\n",
    "----\n",
    "enter parse -----------------------------\n",
    "----\n",
    "Request headers for http://httpbin.org/status/200: {b'Update_Number': [b'1'], b'Modified': [b'TEST'], b'Accept': [b'text/html,application/xhtml+xml,application/xml;q=0.9,*/*;q=0.8'], b'Accept-Language': [b'en'], b'User-Agent': [b'Scrapy/2.11.2 (+https://scrapy.org)'], b'Accept-Encoding': [b'gzip, deflate, br, zstd']}\n",
    "\n",
    "\n",
    "self.update_number 2\n",
    "----\n",
    "enter parse -----------------------------\n",
    "----\n",
    "Request headers for http://httpbin.org/status/200: {b'Update_Number': [b'2'], b'Modified': [b'TEST'], b'Accept': [b'text/html,application/xhtml+xml,application/xml;q=0.9,*/*;q=0.8'], b'Accept-Language': [b'en'], b'User-Agent': [b'Scrapy/2.11.2 (+https://scrapy.org)'], b'Accept-Encoding': [b'gzip, deflate, br, zstd']}\n",
    "\n",
    "\n",
    "self.update_number 2\n",
    "----\n",
    "enter parse -----------------------------\n",
    "----\n",
    "Request headers for http://httpbin.org/status/200: {b'Update_Number': [b'2'], b'Modified': [b'TEST'], b'Accept': [b'text/html,application/xhtml+xml,application/xml;q=0.9,*/*;q=0.8'], b'Accept-Language': [b'en'], b'User-Agent': [b'Scrapy/2.11.2 (+https://scrapy.org)'], b'Accept-Encoding': [b'gzip, deflate, br, zstd']}\n",
    "\n",
    "\n",
    "self.update_number 2\n",
    "----\n",
    "enter parse -----------------------------\n",
    "----\n",
    "Request headers for http://httpbin.org/status/200: {b'Update_Number': [b'2'], b'Modified': [b'TEST'], b'Accept': [b'text/html,application/xhtml+xml,application/xml;q=0.9,*/*;q=0.8'], b'Accept-Language': [b'en'], b'User-Agent': [b'Scrapy/2.11.2 (+https://scrapy.org)'], b'Accept-Encoding': [b'gzip, deflate, br, zstd']}\n",
    "\n",
    "\n",
    "\n",
    "(env) D:\\Documents\\WebScraping\\realtor_FULL_SITE_scrapy\\realtor>\n",
    "'''"
   ]
  },
  {
   "cell_type": "code",
   "execution_count": null,
   "metadata": {},
   "outputs": [],
   "source": [
    "\"\"\" \n",
    "(env) D:\\Documents\\WebScraping\\realtor_FULL_SITE_scrapy\\realtor>scrapy crawl test_spider\n",
    "request number 0\n",
    "\n",
    "\n",
    "\n",
    "DMW request url= http://httpbin.org/status/404\n",
    "DMW request headers= {}\n",
    "DMW request headers= {b'Update_Number': [b'0']}\n",
    "request number 1\n",
    "\n",
    "\n",
    "\n",
    "DMW request url= http://httpbin.org/status/200\n",
    "DMW request headers= {}\n",
    "DMW request headers= {b'Update_Number': [b'0']}\n",
    "self.update_number 0\n",
    "process_response request url http://httpbin.org/status/404\n",
    "process_response request headers {b'Update_Number': [b'1'], b'Accept': [b'text/html,application/xhtml+xml,application/xml;q=0.9,*/*;q=0.8'], b'Accept-Language': [b'en'], b'User-Agent': [b'Scrapy/2.11.2 (+https://scrapy.org)'], b'Accept-Encoding': [b'gzip, deflate, br, zstd'], b'Modified': [b'SUCCESSES']}\n",
    "self.update_number 1\n",
    "enter parse............\n",
    "Request headers for http://httpbin.org/status/200: {b'Update_Number': [b'0'], b'Accept': [b'text/html,application/xhtml+xml,application/xml;q=0.9,*/*;q=0.8'], b'Accept-Language': [b'en'], b'User-Agent': [b'Scrapy/2.11.2 (+https://scrapy.org)'], b'Accept-Encoding': [b'gzip, deflate, br, zstd']}\n",
    "\"\"\""
   ]
  },
  {
   "cell_type": "code",
   "execution_count": null,
   "metadata": {},
   "outputs": [],
   "source": [
    "b'1'"
   ]
  },
  {
   "cell_type": "code",
   "execution_count": 1,
   "metadata": {},
   "outputs": [],
   "source": [
    "from time import time, sleep"
   ]
  },
  {
   "cell_type": "code",
   "execution_count": 8,
   "metadata": {},
   "outputs": [],
   "source": [
    "start = time()"
   ]
  },
  {
   "cell_type": "code",
   "execution_count": 9,
   "metadata": {},
   "outputs": [],
   "source": [
    "end = time()\n",
    "headers_updating_time = end - start"
   ]
  },
  {
   "cell_type": "code",
   "execution_count": null,
   "metadata": {},
   "outputs": [],
   "source": [
    "headers_updating_time"
   ]
  },
  {
   "cell_type": "code",
   "execution_count": null,
   "metadata": {},
   "outputs": [],
   "source": [
    "'''\n",
    "CONCURRENT_REQUESTS\n",
    "DEFAULT_REQUEST_HEADERS\n",
    "RANDOMIZE_DOWNLOAD_DELAY\n",
    "DOWNLOAD_DELAY\n",
    "DOWNLOAD_SLOTS\n",
    "DOWNLOAD_TIMEOUT\n",
    "AUTOTHROTTLE_MAX_DELAY\n",
    "'''"
   ]
  },
  {
   "cell_type": "code",
   "execution_count": null,
   "metadata": {},
   "outputs": [],
   "source": [
    "\"\"\" \n",
    "(env) D:\\Documents\\WebScraping\\realtor_FULL_SITE_scrapy\\realtor>scrapy crawl secondary_stage \n",
    "\n",
    "DevTools listening on ws://127.0.0.1:49961/devtools/browser/fd12b557-0ade-4f9c-b240-2f75b36facfb\n",
    "entering the website---------\n",
    "\n",
    "captured a request B1 -----------\n",
    "{'accept': 'application/json, text/javascript',\n",
    " 'accept-encoding': 'gzip, deflate, br',\n",
    " 'accept-language': 'en-US,en;q=0.5',\n",
    " 'connection': 'keep-alive',\n",
    " 'content-type': 'application/json',\n",
    " 'host': 'www.realtor.com',\n",
    " 'newrelic': 'eyJ2IjpbMCwxXSwiZCI6eyJ0eSI6IkJyb3dzZXIiLCJhYyI6IjM3ODU4NCIsImFwIjoiMTM4NjEyODM5MCIsImlkIjoiZmNjNjE3NWE5NGZmN2EwMiIsInRyIjoiZDNhOWIzZmUzNWE1ZDQ4OTdiZDBlN2FhZTQ4YTdkYmQiLCJ0aSI6MTcyNDY0NDM0NDAzNSwidGsiOiIxMDIyNjgxIn19',\n",
    " 'origin': 'https://www.realtor.com',\n",
    " 'rdc-ab-test-client': 'rdc-search-for-sale',\n",
    " 'referer': 'https://www.realtor.com/realestateandhomes-search/New-Jersey/show-recently-sold',\n",
    " 'sec-fetch-dest': 'empty',\n",
    " 'sec-fetch-mode': 'cors',\n",
    " 'sec-fetch-site': 'same-origin',\n",
    " 'traceparent': '00-d3a9b3fe35a5d4897bd0e7aae48a7dbd-fcc6175a94ff7a02-01',\n",
    " 'tracestate': '1022681@nr=0-1-378584-1386128390-fcc6175a94ff7a02----1724644344035',\n",
    " 'user-agent': 'Mozilla/5.0 (Macintosh; Intel Mac OS X 10_15_7) '\n",
    "               'AppleWebKit/537.36 (KHTML, like Gecko) Chrome/122.0.0.0 '\n",
    "               'Safari/537.36'}\n",
    "\n",
    "captured a request B1 -----------\n",
    "{'accept': 'application/json, text/javascript',\n",
    " 'accept-encoding': 'gzip, deflate, br',\n",
    " 'accept-language': 'en-US,en;q=0.5',\n",
    " 'connection': 'keep-alive',\n",
    " 'content-type': 'application/json',\n",
    " 'host': 'www.realtor.com',\n",
    " 'newrelic': 'eyJ2IjpbMCwxXSwiZCI6eyJ0eSI6IkJyb3dzZXIiLCJhYyI6IjM3ODU4NCIsImFwIjoiMTM4NjEyODM5MCIsImlkIjoiOWI1NDc4NTM3ZTYyMzFkZSIsInRyIjoiMjU2YjhkMDZhOTAxY2UwZDIzYjJjODc3YjZhYjJiM2IiLCJ0aSI6MTcyNDY0NDM1MTAxNiwidGsiOiIxMDIyNjgxIn19', \n",
    " 'origin': 'https://www.realtor.com',\n",
    " 'rdc-ab-test-client': 'rdc-search-for-sale',\n",
    " 'referer': 'https://www.realtor.com/realestateandhomes-search/New-Jersey/show-recently-sold',\n",
    " 'sec-fetch-dest': 'empty',\n",
    " 'sec-fetch-mode': 'cors',\n",
    " 'sec-fetch-site': 'same-origin',\n",
    " 'traceparent': '00-256b8d06a901ce0d23b2c877b6ab2b3b-9b5478537e6231de-01',\n",
    " 'tracestate': '1022681@nr=0-1-378584-1386128390-9b5478537e6231de----1724644351016',\n",
    " 'user-agent': 'Mozilla/5.0 (Macintosh; Intel Mac OS X 10_15_7) '\n",
    "               'AppleWebKit/537.36 (KHTML, like Gecko) Chrome/122.0.0.0 '\n",
    "               'Safari/537.36'}\n",
    "\n",
    "captured a request B1 -----------\n",
    "{'accept': 'application/json, text/javascript',\n",
    " 'accept-encoding': 'gzip, deflate, br',\n",
    " 'accept-language': 'en-US,en;q=0.5',\n",
    " 'connection': 'keep-alive',\n",
    " 'content-type': 'application/json',\n",
    " 'host': 'www.realtor.com',\n",
    " 'newrelic': 'eyJ2IjpbMCwxXSwiZCI6eyJ0eSI6IkJyb3dzZXIiLCJhYyI6IjM3ODU4NCIsImFwIjoiMTM4NjEyODM5MCIsImlkIjoiNzNjMmY1YmQzNGJiMjU4NSIsInRyIjoiOTA3YjUyNzdiMzVkMjcwY2UwNDJlMzZjZDA2OWUzOTEiLCJ0aSI6MTcyNDY0NDM1MzQ2NCwidGsiOiIxMDIyNjgxIn19',\n",
    " 'origin': 'https://www.realtor.com',\n",
    " 'rdc-ab-test-client': 'rdc-search-for-sale',\n",
    " 'referer': 'https://www.realtor.com/realestateandhomes-search/New-Jersey/show-recently-sold',\n",
    " 'sec-fetch-dest': 'empty',\n",
    " 'sec-fetch-mode': 'cors',\n",
    " 'sec-fetch-site': 'same-origin',\n",
    " 'traceparent': '00-907b5277b35d270ce042e36cd069e391-73c2f5bd34bb2585-01',\n",
    " 'tracestate': '1022681@nr=0-1-378584-1386128390-73c2f5bd34bb2585----1724644353464',\n",
    " 'user-agent': 'Mozilla/5.0 (Macintosh; Intel Mac OS X 10_15_7) '\n",
    "               'AppleWebKit/537.36 (KHTML, like Gecko) Chrome/122.0.0.0 '\n",
    "               'Safari/537.36'}\n",
    "\n",
    "captured a request B1 -----------\n",
    "{'accept': 'application/json, text/javascript',\n",
    " 'accept-encoding': 'gzip, deflate, br',\n",
    " 'accept-language': 'en-US,en;q=0.5',\n",
    " 'connection': 'keep-alive',\n",
    " 'content-type': 'application/json',\n",
    " 'host': 'www.realtor.com',\n",
    " 'newrelic': 'eyJ2IjpbMCwxXSwiZCI6eyJ0eSI6IkJyb3dzZXIiLCJhYyI6IjM3ODU4NCIsImFwIjoiMTM4NjEyODM5MCIsImlkIjoiNzNiOGZlYWVjZWMyMWQwZSIsInRyIjoiZDEzNGE3YjRmNmQzNDdiYTUxNDdlODhjYjFkOWIwYmMiLCJ0aSI6MTcyNDY0NDM3NjE5OSwidGsiOiIxMDIyNjgxIn19', \n",
    " 'origin': 'https://www.realtor.com',\n",
    " 'rdc-ab-test-client': 'rdc-search-for-sale',\n",
    " 'referer': 'https://www.realtor.com/realestateandhomes-search/New-Jersey/show-recently-sold',\n",
    " 'sec-fetch-dest': 'empty',\n",
    " 'sec-fetch-mode': 'cors',\n",
    " 'sec-fetch-site': 'same-origin',\n",
    " 'traceparent': '00-d134a7b4f6d347ba5147e88cb1d9b0bc-73b8feaecec21d0e-01',\n",
    " 'tracestate': '1022681@nr=0-1-378584-1386128390-73b8feaecec21d0e----1724644376199',\n",
    " 'user-agent': 'Mozilla/5.0 (Macintosh; Intel Mac OS X 10_15_7) '\n",
    "               'AppleWebKit/537.36 (KHTML, like Gecko) Chrome/122.0.0.0 '\n",
    "               'Safari/537.36'}\n",
    "\n",
    "captured a request B1 -----------\n",
    "{'accept': 'application/json, text/javascript',\n",
    " 'accept-encoding': 'gzip, deflate, br',\n",
    " 'accept-language': 'en-US,en;q=0.5',\n",
    " 'connection': 'keep-alive',\n",
    " 'content-type': 'application/json',\n",
    " 'host': 'www.realtor.com',\n",
    " 'newrelic': 'eyJ2IjpbMCwxXSwiZCI6eyJ0eSI6IkJyb3dzZXIiLCJhYyI6IjM3ODU4NCIsImFwIjoiMTM4NjEyODM5MCIsImlkIjoiMmY0YWM2ZGM2YjAwN2MyOCIsInRyIjoiYTE5NjBkZjcyOWQ5YzdkMTllODJmNDU1Nzg1YjNiMTciLCJ0aSI6MTcyNDY0NDQxMTYzNiwidGsiOiIxMDIyNjgxIn19', \n",
    " 'origin': 'https://www.realtor.com',\n",
    " 'rdc-ab-test-client': 'rdc-search-for-sale',\n",
    " 'referer': 'https://www.realtor.com/realestateandhomes-search/New-Jersey/show-recently-sold',\n",
    " 'sec-fetch-dest': 'empty',\n",
    " 'sec-fetch-mode': 'cors',\n",
    " 'sec-fetch-site': 'same-origin',\n",
    " 'traceparent': '00-a1960df729d9c7d19e82f455785b3b17-2f4ac6dc6b007c28-01',\n",
    " 'tracestate': '1022681@nr=0-1-378584-1386128390-2f4ac6dc6b007c28----1724644411636',\n",
    " 'user-agent': 'Mozilla/5.0 (Macintosh; Intel Mac OS X 10_15_7) '\n",
    "               'AppleWebKit/537.36 (KHTML, like Gecko) Chrome/122.0.0.0 '\n",
    "               'Safari/537.36'}\n",
    "\n",
    "captured a request B1 -----------\n",
    "{'accept': 'application/json, text/javascript',\n",
    " 'accept-encoding': 'gzip, deflate, br',\n",
    " 'accept-language': 'en-US,en;q=0.5',\n",
    " 'connection': 'keep-alive',\n",
    " 'content-type': 'application/json',\n",
    " 'host': 'www.realtor.com',\n",
    " 'newrelic': 'eyJ2IjpbMCwxXSwiZCI6eyJ0eSI6IkJyb3dzZXIiLCJhYyI6IjM3ODU4NCIsImFwIjoiMTM4NjEyODM5MCIsImlkIjoiNGQ0N2EyMThhYzk2N2ZlNSIsInRyIjoiYWZlMjU0NWE2YzI5ZDU0Njk0M2VlYTBmNmI0ODY1NjYiLCJ0aSI6MTcyNDY0NDQ1NzI3MCwidGsiOiIxMDIyNjgxIn19',\n",
    " 'origin': 'https://www.realtor.com',\n",
    " 'rdc-ab-test-client': 'rdc-search-for-sale',\n",
    " 'referer': 'https://www.realtor.com/realestateandhomes-search/New-Jersey/show-recently-sold/pg-2',\n",
    " 'sec-fetch-dest': 'empty',\n",
    " 'sec-fetch-mode': 'cors',\n",
    " 'sec-fetch-site': 'same-origin',\n",
    " 'traceparent': '00-afe2545a6c29d546943eea0f6b486566-4d47a218ac967fe5-01',\n",
    " 'tracestate': '1022681@nr=0-1-378584-1386128390-4d47a218ac967fe5----1724644457270',\n",
    " 'user-agent': 'Mozilla/5.0 (Macintosh; Intel Mac OS X 10_15_7) '\n",
    "               'AppleWebKit/537.36 (KHTML, like Gecko) Chrome/122.0.0.0 '\n",
    "               'Safari/537.36'}\n",
    "\n",
    "captured a request B1 -----------\n",
    "{'accept': 'application/json, text/javascript',\n",
    " 'accept-encoding': 'gzip, deflate, br',\n",
    " 'accept-language': 'en-US,en;q=0.5',\n",
    " 'connection': 'keep-alive',\n",
    " 'content-type': 'application/json',\n",
    " 'host': 'www.realtor.com',\n",
    " 'newrelic': 'eyJ2IjpbMCwxXSwiZCI6eyJ0eSI6IkJyb3dzZXIiLCJhYyI6IjM3ODU4NCIsImFwIjoiMTM4NjEyODM5MCIsImlkIjoiYTJiNThjY2MyOGUzNDJhNyIsInRyIjoiMmFmYjI0N2Q2NGY5OWYwYTA5MDIyNGMyOGVlNzRkZDkiLCJ0aSI6MTcyNDY0NDQ1NzQ2OCwidGsiOiIxMDIyNjgxIn19', \n",
    " 'origin': 'https://www.realtor.com',\n",
    " 'rdc-ab-test-client': 'rdc-search-for-sale',\n",
    " 'referer': 'https://www.realtor.com/realestateandhomes-search/New-Jersey/show-recently-sold/pg-2',\n",
    " 'sec-fetch-dest': 'empty',\n",
    " 'sec-fetch-mode': 'cors',\n",
    " 'sec-fetch-site': 'same-origin',\n",
    " 'traceparent': '00-2afb247d64f99f0a090224c28ee74dd9-a2b58ccc28e342a7-01',\n",
    " 'tracestate': '1022681@nr=0-1-378584-1386128390-a2b58ccc28e342a7----1724644457468',\n",
    " 'user-agent': 'Mozilla/5.0 (Macintosh; Intel Mac OS X 10_15_7) '\n",
    "               'AppleWebKit/537.36 (KHTML, like Gecko) Chrome/122.0.0.0 '\n",
    "               'Safari/537.36'}\n",
    "\n",
    "captured a request B1 -----------\n",
    "{'accept': 'application/json, text/javascript',\n",
    " 'accept-encoding': 'gzip, deflate, br',\n",
    " 'accept-language': 'en-US,en;q=0.5',\n",
    " 'connection': 'keep-alive',\n",
    " 'content-type': 'application/json',\n",
    " 'host': 'www.realtor.com',\n",
    " 'newrelic': 'eyJ2IjpbMCwxXSwiZCI6eyJ0eSI6IkJyb3dzZXIiLCJhYyI6IjM3ODU4NCIsImFwIjoiMTM4NjEyODM5MCIsImlkIjoiYzQwMmUwYTBmMDg4NjVhNiIsInRyIjoiMjdmOTgzNDUzODg0M2U2NzU0ZDA0NDZiODkxMDA5ODkiLCJ0aSI6MTcyNDY0NDQ5OTcyMSwidGsiOiIxMDIyNjgxIn19', \n",
    " 'origin': 'https://www.realtor.com',\n",
    " 'rdc-ab-test-client': 'rdc-search-for-sale',\n",
    " 'referer': 'https://www.realtor.com/realestateandhomes-search/New-Jersey/show-recently-sold/pg-2',\n",
    " 'sec-fetch-dest': 'empty',\n",
    " 'sec-fetch-mode': 'cors',\n",
    " 'sec-fetch-site': 'same-origin',\n",
    " 'traceparent': '00-27f9834538843e6754d0446b89100989-c402e0a0f08865a6-01',\n",
    " 'tracestate': '1022681@nr=0-1-378584-1386128390-c402e0a0f08865a6----1724644499721',\n",
    " 'user-agent': 'Mozilla/5.0 (Macintosh; Intel Mac OS X 10_15_7) '\n",
    "               'AppleWebKit/537.36 (KHTML, like Gecko) Chrome/122.0.0.0 '\n",
    "               'Safari/537.36'}\n",
    "\n",
    "captured a request B1 -----------\n",
    "{'accept': 'application/json, text/javascript',\n",
    " 'accept-encoding': 'gzip, deflate, br',\n",
    " 'accept-language': 'en-US,en;q=0.5',\n",
    " 'connection': 'keep-alive',\n",
    " 'content-type': 'application/json',\n",
    " 'host': 'www.realtor.com',\n",
    " 'newrelic': 'eyJ2IjpbMCwxXSwiZCI6eyJ0eSI6IkJyb3dzZXIiLCJhYyI6IjM3ODU4NCIsImFwIjoiMTM4NjEyODM5MCIsImlkIjoiMDhmMDg2NDFiM2JhNGQwMiIsInRyIjoiYjUxZmQ3NmY3NjA3NGIxNThkMmE2MDYwOTliMTA5NGYiLCJ0aSI6MTcyNDY0NDUxNzg4MCwidGsiOiIxMDIyNjgxIn19', \n",
    " 'origin': 'https://www.realtor.com',\n",
    " 'rdc-ab-test-client': 'rdc-search-for-sale',\n",
    " 'referer': 'https://www.realtor.com/realestateandhomes-search/New-Jersey/show-recently-sold/pg-2',\n",
    " 'sec-fetch-dest': 'empty',\n",
    " 'sec-fetch-mode': 'cors',\n",
    " 'sec-fetch-site': 'same-origin',\n",
    " 'traceparent': '00-b51fd76f76074b158d2a606099b1094f-08f08641b3ba4d02-01',\n",
    " 'tracestate': '1022681@nr=0-1-378584-1386128390-08f08641b3ba4d02----1724644517880',\n",
    " 'user-agent': 'Mozilla/5.0 (Macintosh; Intel Mac OS X 10_15_7) '\n",
    "               'AppleWebKit/537.36 (KHTML, like Gecko) Chrome/122.0.0.0 '\n",
    "               'Safari/537.36'}\n",
    "\n",
    "\n",
    "procedures concluded\n",
    "\n",
    "\n",
    "\n",
    "captured a request B2 -----------\n",
    "{'accept': 'application/json, text/javascript',\n",
    " 'accept-encoding': 'gzip, deflate, br',\n",
    " 'accept-language': 'en-US,en;q=0.5',\n",
    " 'connection': 'keep-alive',\n",
    " 'content-type': 'application/json',\n",
    " 'host': 'www.realtor.com',\n",
    " 'newrelic': 'eyJ2IjpbMCwxXSwiZCI6eyJ0eSI6IkJyb3dzZXIiLCJhYyI6IjM3ODU4NCIsImFwIjoiMTM4NjEyODM5MCIsImlkIjoiZmNjNjE3NWE5NGZmN2EwMiIsInRyIjoiZDNhOWIzZmUzNWE1ZDQ4OTdiZDBlN2FhZTQ4YTdkYmQiLCJ0aSI6MTcyNDY0NDM0NDAzNSwidGsiOiIxMDIyNjgxIn19', \n",
    " 'origin': 'https://www.realtor.com',\n",
    " 'rdc-ab-test-client': 'rdc-search-for-sale',\n",
    " 'referer': 'https://www.realtor.com/realestateandhomes-search/New-Jersey/show-recently-sold',\n",
    " 'sec-fetch-dest': 'empty',\n",
    " 'sec-fetch-mode': 'cors',\n",
    " 'sec-fetch-site': 'same-origin',\n",
    " 'traceparent': '00-d3a9b3fe35a5d4897bd0e7aae48a7dbd-fcc6175a94ff7a02-01',\n",
    " 'tracestate': '1022681@nr=0-1-378584-1386128390-fcc6175a94ff7a02----1724644344035',\n",
    " 'user-agent': 'Mozilla/5.0 (Macintosh; Intel Mac OS X 10_15_7) '\n",
    "               'AppleWebKit/537.36 (KHTML, like Gecko) Chrome/122.0.0.0 '\n",
    "               'Safari/537.36'}\n",
    "obtained the headers successfully.\n",
    "\n",
    "self.output_dir save_points\n",
    "self.output_dir type <class 'str'>\n",
    "\n",
    "started a request\n",
    "DMW_REQ request url= https://www.realtor.com/api/v1/hulk?client_id=detail-pages&schema=vesta\n",
    "DMW_REQ request new headers= {b'Referrer': [b'www.realtor.com/realestateandhomes-detail/455-Ridgecrest-Dr_Bethel_AK_99559_M94815-10229'], b'Accept': [b'text/html,application/xhtml+xml,application/xml;q=0.9,*/*;q=0.8'], b'Accept-Language': [b'en'], b'User-Agent': [b'Mozilla/5.0 (Macintosh; Intel Mac OS X 10_15_7) AppleWebKit/537.36 (KHTML, like Gecko) Chrome/122.0.0.0 Safari/537.36'], b'Newrelic': [b'eyJ2IjpbMCwxXSwiZCI6eyJ0eSI6IkJyb3dzZXIiLCJhYyI6IjM3ODU4NCIsImFwIjoiMTM4NjEyODM5MCIsImlkIjoiZmNjNjE3NWE5NGZmN2EwMiIsInRyIjoiZDNhOWIzZmUzNWE1ZDQ4OTdiZDBlN2FhZTQ4YTdkYmQiLCJ0aSI6MTcyNDY0NDM0NDAzNSwidGsiOiIxMDIyNjgxIn19'], b'Traceparent': [b'00-d3a9b3fe35a5d4897bd0e7aae48a7dbd-fcc6175a94ff7a02-01'], b'Tracestate': [b'1022681@nr=0-1-378584-1386128390-fcc6175a94ff7a02----1724644344035'], b'Host': [b'www.realtor.com'], b'Accept-Encoding': [b'gzip, deflate, br'], b'Origin': [b'https://www.realtor.com'], b'Rdc-Ab-Test-Client': [b'eyJ2IjpbMCwxXSwiZCI6eyJ0eSI6IkJyb3dzZXIiLCJhYyI6IjM3ODU4NCIsImFwIjoiMTM4NjEyODM5MCIsImlkIjoiZmNjNjE3NWE5NGZmN2EwMiIsInRyIjoiZDNhOWIzZmUzNWE1ZDQ4OTdiZDBlN2FhZTQ4YTdkYmQiLCJ0aSI6MTcyNDY0NDM0NDAzNSwidGsiOiIxMDIyNjgxIn19'], b'Referer': [b'https://www.realtor.com/realestateandhomes-search/New-Jersey/show-recently-sold'], b'Sec-Fetch-Dest': [b'empty'], b'Sec-Fetch-Mode': [b'cors'], b'Sec-Fetch-Site': [b'same-origin']}\n",
    "\n",
    "\n",
    "**************************************************\n",
    "\n",
    "DevTools listening on ws://127.0.0.1:51615/devtools/browser/3d052d67-0157-4631-a3ca-634dd4548a47\n",
    "entering the website---------\n",
    "\n",
    "captured a request B1 -----------\n",
    "{'accept': 'application/json, text/javascript',\n",
    " 'accept-encoding': 'gzip, deflate, br',\n",
    " 'accept-language': 'en-US,en;q=0.5',\n",
    " 'connection': 'keep-alive',\n",
    " 'content-type': 'application/json',\n",
    " 'host': 'www.realtor.com',\n",
    " 'newrelic': 'eyJ2IjpbMCwxXSwiZCI6eyJ0eSI6IkJyb3dzZXIiLCJhYyI6IjM3ODU4NCIsImFwIjoiMTM4NjEyODM5MCIsImlkIjoiZDhhMjQ0ZTAxNjU3MjVlZiIsInRyIjoiNTNkYjE2MmFkZTMxMWZhODY1Yjc0MjQ3MDBiOTg4NzciLCJ0aSI6MTcyNDY0NDU2MzM0MywidGsiOiIxMDIyNjgxIn19', \n",
    " 'origin': 'https://www.realtor.com',\n",
    " 'rdc-ab-test-client': 'rdc-search-for-sale',\n",
    " 'referer': 'https://www.realtor.com/realestateandhomes-search/California/show-recently-sold',\n",
    " 'sec-fetch-dest': 'empty',\n",
    " 'sec-fetch-mode': 'cors',\n",
    " 'sec-fetch-site': 'same-origin',\n",
    " 'traceparent': '00-53db162ade311fa865b7424700b98877-d8a244e0165725ef-01',\n",
    " 'tracestate': '1022681@nr=0-1-378584-1386128390-d8a244e0165725ef----1724644563343',\n",
    " 'user-agent': 'Mozilla/5.0 (Macintosh; Intel Mac OS X 10_15_7) '\n",
    "               'AppleWebKit/537.36 (KHTML, like Gecko) Chrome/122.0.0.0 '\n",
    "               'Safari/537.36'}\n",
    "\n",
    "captured a request B1 -----------\n",
    "{'accept': 'application/json, text/javascript',\n",
    " 'accept-encoding': 'gzip, deflate, br',\n",
    " 'accept-language': 'en-US,en;q=0.5',\n",
    " 'connection': 'keep-alive',\n",
    " 'content-type': 'application/json',\n",
    " 'host': 'www.realtor.com',\n",
    " 'newrelic': 'eyJ2IjpbMCwxXSwiZCI6eyJ0eSI6IkJyb3dzZXIiLCJhYyI6IjM3ODU4NCIsImFwIjoiMTM4NjEyODM5MCIsImlkIjoiNTVlOWI2NThjNGUxY2I0ZSIsInRyIjoiN2M0ZmMyN2IyMWRhNjQzYzgwMGI0MmVkN2I3ODJiOGEiLCJ0aSI6MTcyNDY0NDU3MDcyNywidGsiOiIxMDIyNjgxIn19', \n",
    " 'origin': 'https://www.realtor.com',\n",
    " 'rdc-ab-test-client': 'rdc-search-for-sale',\n",
    " 'referer': 'https://www.realtor.com/realestateandhomes-search/California/show-recently-sold',\n",
    " 'sec-fetch-dest': 'empty',\n",
    " 'sec-fetch-mode': 'cors',\n",
    " 'sec-fetch-site': 'same-origin',\n",
    " 'traceparent': '00-7c4fc27b21da643c800b42ed7b782b8a-55e9b658c4e1cb4e-01',\n",
    " 'tracestate': '1022681@nr=0-1-378584-1386128390-55e9b658c4e1cb4e----1724644570727',\n",
    " 'user-agent': 'Mozilla/5.0 (Macintosh; Intel Mac OS X 10_15_7) '\n",
    "               'AppleWebKit/537.36 (KHTML, like Gecko) Chrome/122.0.0.0 '\n",
    "               'Safari/537.36'}\n",
    "\n",
    "captured a request B1 -----------\n",
    "{'accept': 'application/json, text/javascript',\n",
    " 'accept-encoding': 'gzip, deflate, br',\n",
    " 'accept-language': 'en-US,en;q=0.5',\n",
    " 'connection': 'keep-alive',\n",
    " 'content-type': 'application/json',\n",
    " 'host': 'www.realtor.com',\n",
    " 'newrelic': 'eyJ2IjpbMCwxXSwiZCI6eyJ0eSI6IkJyb3dzZXIiLCJhYyI6IjM3ODU4NCIsImFwIjoiMTM4NjEyODM5MCIsImlkIjoiMTFhOWMyMmFmZDlkZDU5NCIsInRyIjoiZTkzYjcwOGFlMzQ3MzZhNmYwMGY0Y2U1NGY4NWFkMmQiLCJ0aSI6MTcyNDY0NDU3MzIzNiwidGsiOiIxMDIyNjgxIn19', \n",
    " 'origin': 'https://www.realtor.com',\n",
    " 'rdc-ab-test-client': 'rdc-search-for-sale',\n",
    " 'referer': 'https://www.realtor.com/realestateandhomes-search/California/show-recently-sold',\n",
    " 'sec-fetch-dest': 'empty',\n",
    " 'sec-fetch-mode': 'cors',\n",
    " 'sec-fetch-site': 'same-origin',\n",
    " 'traceparent': '00-e93b708ae34736a6f00f4ce54f85ad2d-11a9c22afd9dd594-01',\n",
    " 'tracestate': '1022681@nr=0-1-378584-1386128390-11a9c22afd9dd594----1724644573236',\n",
    " 'user-agent': 'Mozilla/5.0 (Macintosh; Intel Mac OS X 10_15_7) '\n",
    "               'AppleWebKit/537.36 (KHTML, like Gecko) Chrome/122.0.0.0 '\n",
    "               'Safari/537.36'}\n",
    "\n",
    "captured a request B1 -----------\n",
    "{'accept': 'application/json, text/javascript',\n",
    " 'accept-encoding': 'gzip, deflate, br',\n",
    " 'accept-language': 'en-US,en;q=0.5',\n",
    " 'connection': 'keep-alive',\n",
    " 'content-type': 'application/json',\n",
    " 'host': 'www.realtor.com',\n",
    " 'newrelic': 'eyJ2IjpbMCwxXSwiZCI6eyJ0eSI6IkJyb3dzZXIiLCJhYyI6IjM3ODU4NCIsImFwIjoiMTM4NjEyODM5MCIsImlkIjoiNzVhMmVmMDMyMTUxNTg1MSIsInRyIjoiNDdlODI1Y2I4Y2U3ODlmMjU3NWZmNzY3YmM2N2I5YWYiLCJ0aSI6MTcyNDY0NDU4NDY3NCwidGsiOiIxMDIyNjgxIn19', \n",
    " 'origin': 'https://www.realtor.com',\n",
    " 'rdc-ab-test-client': 'rdc-search-for-sale',\n",
    " 'referer': 'https://www.realtor.com/realestateandhomes-search/California/show-recently-sold',\n",
    " 'sec-fetch-dest': 'empty',\n",
    " 'sec-fetch-mode': 'cors',\n",
    " 'sec-fetch-site': 'same-origin',\n",
    " 'traceparent': '00-47e825cb8ce789f2575ff767bc67b9af-75a2ef0321515851-01',\n",
    " 'tracestate': '1022681@nr=0-1-378584-1386128390-75a2ef0321515851----1724644584674',\n",
    " 'user-agent': 'Mozilla/5.0 (Macintosh; Intel Mac OS X 10_15_7) '\n",
    "               'AppleWebKit/537.36 (KHTML, like Gecko) Chrome/122.0.0.0 '\n",
    "               'Safari/537.36'}\n",
    "\n",
    "\"\"\""
   ]
  },
  {
   "cell_type": "code",
   "execution_count": 2,
   "metadata": {},
   "outputs": [],
   "source": [
    "headers_update_waite = {'accept': 'application/json, text/javascript',\n",
    " 'accept-encoding': 'gzip, deflate, br',\n",
    " 'accept-language': 'en-US,en;q=0.5',\n",
    " 'connection': 'keep-alive',\n",
    " 'content-type': 'application/json',\n",
    " 'host': 'www.realtor.com',\n",
    " 'newrelic': 'eyJ2IjpbMCwxXSwiZCI6eyJ0eSI6IkJyb3dzZXIiLCJhYyI6IjM3ODU4NCIsImFwIjoiMTM4NjEyODM5MCIsImlkIjoiNzVhMmVmMDMyMTUxNTg1MSIsInRyIjoiNDdlODI1Y2I4Y2U3ODlmMjU3NWZmNzY3YmM2N2I5YWYiLCJ0aSI6MTcyNDY0NDU4NDY3NCwidGsiOiIxMDIyNjgxIn19', \n",
    " 'origin': 'https://www.realtor.com',\n",
    " 'rdc-ab-test-client': 'rdc-search-for-sale',\n",
    " 'referer': 'https://www.realtor.com/realestateandhomes-search/California/show-recently-sold',\n",
    " 'sec-fetch-dest': 'empty',\n",
    " 'sec-fetch-mode': 'cors',\n",
    " 'sec-fetch-site': 'same-origin',\n",
    " 'traceparent': '00-47e825cb8ce789f2575ff767bc67b9af-75a2ef0321515851-01',\n",
    " 'tracestate': '1022681@nr=0-1-378584-1386128390-75a2ef0321515851----1724644584674',\n",
    " 'user-agent': 'Mozilla/5.0 (Macintosh; Intel Mac OS X 10_15_7) '\n",
    "               'AppleWebKit/537.36 (KHTML, like Gecko) Chrome/122.0.0.0 '\n",
    "               'Safari/537.36'}"
   ]
  },
  {
   "cell_type": "code",
   "execution_count": 9,
   "metadata": {},
   "outputs": [],
   "source": [
    "from pprint import pprint\n",
    "import requests "
   ]
  },
  {
   "cell_type": "code",
   "execution_count": null,
   "metadata": {},
   "outputs": [],
   "source": [
    "print(f\"DMWR_RES request headers\")\n",
    "pprint(headers_update_waite)"
   ]
  },
  {
   "cell_type": "code",
   "execution_count": 44,
   "metadata": {},
   "outputs": [],
   "source": [
    "request = [\"https://www.realtor.com/api/v1/hulk?client_id=detail-pages&schema=vesta\", {\"referrer\": \"www.realtor.com/realestateandhomes-detail/455-Ridgecrest-Dr_Bethel_AK_99559_M94815-10229\"}, \"{\\\"callFrom\\\":\\\"PDP\\\",\\\"isClient\\\":true,\\\"query\\\":\\\"query home_search(\\\\n    $propertyId: ID!\\\\n    $listingId: ID\\\\n    $historicalYearsMin: DateTime\\\\n    $historicalYearsMax: DateTime\\\\n    $forecastedMonthsMax: DateTime\\\\n    $streetViewWidth: String\\\\n  ) {\\\\n    home(property_id: $propertyId, listing_id: $listingId) {\\\\n      advertisers {\\\\n        team_name\\\\n        team {\\\\n          name\\\\n        }\\\\n        state_license\\\\n        address {\\\\n          city\\\\n          country\\\\n          line\\\\n          postal_code\\\\n          state\\\\n          state_code\\\\n        }\\\\n        builder {\\\\n          fulfillment_id\\\\n          name\\\\n          logo\\\\n          href\\\\n        }\\\\n        broker {\\\\n          accent_color\\\\n          designations\\\\n          fulfillment_id\\\\n          name\\\\n          logo\\\\n        }\\\\n        email\\\\n        fulfillment_id\\\\n        href\\\\n        mls_set\\\\n        name\\\\n        nrds_id\\\\n        office {\\\\n          address {\\\\n            city\\\\n            coordinate {\\\\n              lat\\\\n              lon\\\\n            }\\\\n            country\\\\n            line\\\\n            postal_code\\\\n            state\\\\n            state_code\\\\n          }\\\\n          application_url\\\\n          email\\\\n          lead_email {\\\\n            to\\\\n            cc\\\\n          }\\\\n          fulfillment_id\\\\n          hours\\\\n          href\\\\n          mls_set\\\\n          out_of_community\\\\n          name\\\\n          phones {\\\\n            ext\\\\n            number\\\\n            primary\\\\n            trackable\\\\n            type\\\\n          }\\\\n          photo {\\\\n            href\\\\n          }\\\\n          slogan\\\\n        }\\\\n        phones {\\\\n          ext\\\\n          number\\\\n          primary\\\\n          trackable\\\\n          type\\\\n        }\\\\n        photo {\\\\n          href\\\\n        }\\\\n        slogan\\\\n        type\\\\n      }\\\\n      builder {\\\\n        builder_id\\\\n        href\\\\n        name\\\\n        source_builder_id\\\\n        logo {\\\\n          href\\\\n        }\\\\n      }\\\\n      products {\\\\n        products\\\\n        brand_name\\\\n      }\\\\n      consumer_advertisers {\\\\n        advertiser_id\\\\n        agent_id\\\\n        broker_id\\\\n        office_id\\\\n        name\\\\n        type\\\\n        slogan\\\\n        phone\\\\n        href\\\\n        show_realtor_logo\\\\n        hours\\\\n        contact_name\\\\n        address {\\\\n          city\\\\n          state_code\\\\n        }\\\\n        photo {\\\\n          description\\\\n          href\\\\n          type\\\\n        }\\\\n      }\\\\n      buyers {\\\\n        address {\\\\n          city\\\\n          country\\\\n          line\\\\n          postal_code\\\\n          state\\\\n          state_code\\\\n        }\\\\n        broker {\\\\n          accent_color\\\\n          designations\\\\n          fulfillment_id\\\\n          name\\\\n          logo\\\\n        }\\\\n        email\\\\n        fulfillment_id\\\\n        href\\\\n        mls_set\\\\n        name\\\\n        nrds_id\\\\n        office {\\\\n          address {\\\\n            city\\\\n            coordinate {\\\\n              lat\\\\n              lon\\\\n            }\\\\n            country\\\\n            line\\\\n            postal_code\\\\n            state\\\\n            state_code\\\\n          }\\\\n          application_url\\\\n          email\\\\n          lead_email {\\\\n            to\\\\n            cc\\\\n          }\\\\n          fulfillment_id\\\\n          hours\\\\n          href\\\\n          mls_set\\\\n          out_of_community\\\\n          name\\\\n          phones {\\\\n            ext\\\\n            number\\\\n            primary\\\\n            trackable\\\\n            type\\\\n          }\\\\n          photo {\\\\n            href\\\\n          }\\\\n          slogan\\\\n        }\\\\n        phones {\\\\n          ext\\\\n          number\\\\n          primary\\\\n          trackable\\\\n          type\\\\n        }\\\\n        photo {\\\\n          href\\\\n        }\\\\n        slogan\\\\n        type\\\\n      }\\\\n      community {\\\\n        advertisers {\\\\n          office {\\\\n            hours\\\\n            phones {\\\\n              number\\\\n              type\\\\n            }\\\\n          }\\\\n          builder {\\\\n            fulfillment_id\\\\n          }\\\\n        }\\\\n        builder {\\\\n          builder_id\\\\n          href\\\\n          name\\\\n          source_builder_id\\\\n          logo {\\\\n            href\\\\n          }\\\\n        }\\\\n        description {\\\\n          name\\\\n          text\\\\n          plan_types\\\\n        }\\\\n        details {\\\\n          category\\\\n          text\\\\n        }\\\\n        list_price_min\\\\n        list_price_max\\\\n        permalink\\\\n        property_id\\\\n        unit_count\\\\n        units(status: ready_to_build) {\\\\n          property_id\\\\n          primary\\\\n          list_price\\\\n          href\\\\n          status\\\\n          list_date\\\\n          matterport\\\\n          plan_id\\\\n          permalink\\\\n          primary_photo(https: true) {\\\\n            href\\\\n          }\\\\n          description {\\\\n            baths\\\\n            baths_full_calc\\\\n            baths_partial_calc\\\\n            beds\\\\n            sqft\\\\n            type\\\\n            stories\\\\n            garage\\\\n            name\\\\n          }\\\\n          location {\\\\n            address {\\\\n              line\\\\n              city\\\\n              state_code\\\\n              postal_code\\\\n              country\\\\n              state\\\\n            }\\\\n          }\\\\n        }\\\\n        video_count\\\\n        videos {\\\\n          href\\\\n        }\\\\n        property_id\\\\n      }\\\\n      estimates {\\\\n        current_values(filter: { status: [\\\\\\\"sold\\\\\\\", \\\\\\\"off_market\\\\\\\", \\\\\\\"other\\\\\\\"] }) {\\\\n          isbest_homevalue\\\\n          estimate\\\\n          estimate_high\\\\n          estimate_low\\\\n          date\\\\n          source {\\\\n            type\\\\n            name\\\\n          }\\\\n        }\\\\n        historical_values(date_range: { min: $historicalYearsMin, max: $historicalYearsMax }) {\\\\n          source {\\\\n            name\\\\n            type\\\\n          }\\\\n          estimates {\\\\n            estimate\\\\n            date\\\\n          }\\\\n        }\\\\n        forecast_values(max_date: $forecastedMonthsMax) {\\\\n          source {\\\\n            name\\\\n            type\\\\n          }\\\\n          estimates {\\\\n            estimate\\\\n            date\\\\n          }\\\\n        }\\\\n      }\\\\n      days_on_market\\\\n      move_in_date\\\\n      description {\\\\n        baths\\\\n        baths_3qtr\\\\n        baths_full\\\\n        baths_full_calc\\\\n        baths_half\\\\n        baths_max\\\\n        baths_min\\\\n        baths_partial_calc\\\\n        baths_total\\\\n        baths_consolidated\\\\n        beds\\\\n        beds_max\\\\n        beds_min\\\\n        construction\\\\n        cooling\\\\n        exterior\\\\n        fireplace\\\\n        garage\\\\n        garage_max\\\\n        garage_min\\\\n        garage_type\\\\n        heating\\\\n        logo {\\\\n          href\\\\n        }\\\\n        lot_sqft\\\\n        name\\\\n        pool\\\\n        roofing\\\\n        rooms\\\\n        sqft\\\\n        sqft_max\\\\n        sqft_min\\\\n        stories\\\\n        styles\\\\n        sub_type\\\\n        text\\\\n        type\\\\n        units\\\\n        year_built\\\\n        year_renovated\\\\n        zoning\\\\n      }\\\\n      details {\\\\n        category\\\\n        parent_category\\\\n        text\\\\n      }\\\\n      other_listings {\\\\n        rdc {\\\\n          listing_id\\\\n          status\\\\n          listing_key\\\\n          sold_date\\\\n          primary\\\\n          unique\\\\n        }\\\\n      }\\\\n      lead_attributes(caller: mobile_web) {\\\\n        show_contact_an_agent\\\\n        lead_type\\\\n        show_lead_form\\\\n        disclaimer_text\\\\n        is_tcpa_message_enabled\\\\n        show_text_leads\\\\n        opcity_lead_attributes {\\\\n          flip_the_market_enabled\\\\n          cashback_enabled\\\\n          smarthome_enabled\\\\n          phones {\\\\n            number\\\\n            category\\\\n          }\\\\n        }\\\\n        ready_connect_mortgage {\\\\n          show_contact_a_lender\\\\n          show_veterans_united\\\\n        }\\\\n      }\\\\n      flags {\\\\n        is_coming_soon\\\\n        is_contingent\\\\n        is_deal_available\\\\n        is_for_rent\\\\n        is_foreclosure\\\\n        is_garage_present\\\\n        is_new_construction\\\\n        is_pending\\\\n        is_price_excludes_land\\\\n        is_senior_community\\\\n        is_short_sale\\\\n        is_subdivision\\\\n        is_price_reduced\\\\n        is_new_listing\\\\n      }\\\\n      floorplans {\\\\n        floorplan_interactive {\\\\n          href\\\\n          source\\\\n          type\\\\n        }\\\\n      }\\\\n      href\\\\n      last_sold_date\\\\n      last_sold_price\\\\n      list_date\\\\n      list_price\\\\n      last_price_change_amount\\\\n      listing_id\\\\n      local {\\\\n        flood {\\\\n          flood_factor_severity\\\\n          flood_trend\\\\n        }\\\\n        wildfire {\\\\n          fire_factor_severity\\\\n          fire_trend\\\\n        }\\\\n        noise {\\\\n          score\\\\n          noise_categories {\\\\n            text\\\\n            type\\\\n          }\\\\n        }\\\\n      }\\\\n      location {\\\\n        street_view_url(input: { size: $streetViewWidth })\\\\n        street_view_metadata_url\\\\n        address {\\\\n          city\\\\n          coordinate {\\\\n            lat\\\\n            lon\\\\n          }\\\\n          country\\\\n          line\\\\n          postal_code\\\\n          state\\\\n          state_code\\\\n          street_direction\\\\n          street_name\\\\n          street_number\\\\n          street_post_direction\\\\n          street_suffix\\\\n          unit\\\\n          validation_code\\\\n        }\\\\n        county {\\\\n          fips_code\\\\n          name\\\\n          state_code\\\\n        }\\\\n        neighborhoods {\\\\n          city\\\\n          id\\\\n          level\\\\n          name\\\\n          geo_type\\\\n          state_code\\\\n          slug_id\\\\n          geo_statistics(group_by: property_type) {\\\\n            housing_market {\\\\n              median_listing_price\\\\n            }\\\\n          }\\\\n        }\\\\n        search_areas {\\\\n          city\\\\n          state_code\\\\n        }\\\\n        city {\\\\n          county_needed_for_uniq\\\\n          slug_id\\\\n        }\\\\n        postal_code {\\\\n          geo_statistics {\\\\n            housing_market {\\\\n              hot_market_badge\\\\n            }\\\\n          }\\\\n        }\\\\n      }\\\\n      matterport {\\\\n        property_id\\\\n        videos {\\\\n          href\\\\n        }\\\\n      }\\\\n      virtual_tours {\\\\n        href\\\\n        type\\\\n      }\\\\n      home_tours {\\\\n        virtual_tours {\\\\n          category\\\\n          href\\\\n          type\\\\n        }\\\\n      }\\\\n      open_houses {\\\\n        start_date\\\\n        end_date\\\\n      }\\\\n      nearby_schools {\\\\n        schools {\\\\n          coordinate {\\\\n            lat\\\\n            lon\\\\n          }\\\\n          distance_in_miles\\\\n          district {\\\\n            id\\\\n            name\\\\n          }\\\\n          education_levels\\\\n          funding_type\\\\n          grades\\\\n          greatschools_id\\\\n          id\\\\n          name\\\\n          nces_code\\\\n          parent_rating\\\\n          rating\\\\n          review_count\\\\n          slug_id\\\\n          student_count\\\\n        }\\\\n      }\\\\n      open_houses {\\\\n        start_date\\\\n        end_date\\\\n        description\\\\n        time_zone\\\\n        dst\\\\n      }\\\\n      permalink\\\\n      photo_count\\\\n      photos {\\\\n        title\\\\n        description\\\\n        href\\\\n        type\\\\n        tags(version: v3) {\\\\n          label\\\\n          probability\\\\n        }\\\\n      }\\\\n      price_per_sqft\\\\n      primary_photo {\\\\n        href\\\\n      }\\\\n      hoa {\\\\n        fee\\\\n      }\\\\n      property_history {\\\\n        date\\\\n        event_name\\\\n        price\\\\n        price_sqft\\\\n        source_listing_id\\\\n        source_name\\\\n        listing(filter: { status: [\\\\\\\"sold\\\\\\\", \\\\\\\"off_market\\\\\\\", \\\\\\\"other\\\\\\\"] }) {\\\\n          list_price\\\\n          last_status_change_date\\\\n          last_update_date\\\\n          status\\\\n          list_date\\\\n          listing_id\\\\n          suppression_flags\\\\n          photos {\\\\n            href\\\\n          }\\\\n          description {\\\\n            text\\\\n          }\\\\n          advertisers {\\\\n            fulfillment_id\\\\n            nrds_id\\\\n            name\\\\n            email\\\\n            href\\\\n            slogan\\\\n            office {\\\\n              fulfillment_id\\\\n              name\\\\n              email\\\\n              href\\\\n              slogan\\\\n              out_of_community\\\\n              application_url\\\\n              mls_set\\\\n            }\\\\n            broker {\\\\n              fulfillment_id\\\\n              name\\\\n              accent_color\\\\n              logo\\\\n            }\\\\n            type\\\\n            mls_set\\\\n          }\\\\n          buyers {\\\\n            fulfillment_id\\\\n            nrds_id\\\\n            name\\\\n            email\\\\n            href\\\\n            slogan\\\\n            type\\\\n            mls_set\\\\n            address {\\\\n              line\\\\n              city\\\\n              postal_code\\\\n              state_code\\\\n              state\\\\n              country\\\\n              coordinate {\\\\n                lat\\\\n                lon\\\\n              }\\\\n            }\\\\n            office {\\\\n              fulfillment_id\\\\n              name\\\\n              email\\\\n              href\\\\n              slogan\\\\n              hours\\\\n              out_of_community\\\\n              application_url\\\\n              mls_set\\\\n              address {\\\\n                line\\\\n                city\\\\n                postal_code\\\\n                state_code\\\\n                state\\\\n                country\\\\n              }\\\\n              phones {\\\\n                number\\\\n                type\\\\n                primary\\\\n                trackable\\\\n                ext\\\\n              }\\\\n              county {\\\\n                name\\\\n              }\\\\n            }\\\\n            phones {\\\\n              number\\\\n              type\\\\n              primary\\\\n              trackable\\\\n              ext\\\\n            }\\\\n            broker {\\\\n              fulfillment_id\\\\n              name\\\\n              accent_color\\\\n              logo\\\\n            }\\\\n          }\\\\n          source {\\\\n            id\\\\n            agents {\\\\n              agent_id\\\\n              agent_name\\\\n              office_id\\\\n              office_name\\\\n              office_phone\\\\n              type\\\\n            }\\\\n          }\\\\n        }\\\\n      }\\\\n      property_id\\\\n      provider_url {\\\\n        href\\\\n        level\\\\n        type\\\\n      }\\\\n      source {\\\\n        agents {\\\\n          agent_id\\\\n          agent_name\\\\n          id\\\\n          office_id\\\\n          office_name\\\\n          office_phone\\\\n          type\\\\n        }\\\\n        disclaimer {\\\\n          href\\\\n          logo {\\\\n            href\\\\n            height\\\\n            width\\\\n          }\\\\n          text\\\\n        }\\\\n        id\\\\n        plan_id\\\\n        listing_id\\\\n        name\\\\n        raw {\\\\n          status\\\\n          style\\\\n          tax_amount\\\\n        }\\\\n        type\\\\n        community_id\\\\n      }\\\\n      status\\\\n      suppression_flags\\\\n      tags\\\\n      tax_history {\\\\n        assessment {\\\\n          building\\\\n          land\\\\n          total\\\\n        }\\\\n        market {\\\\n          building\\\\n          land\\\\n          total\\\\n        }\\\\n        tax\\\\n        year\\\\n      }\\\\n    }\\\\n  }\\\\n\\\",\\\"variables\\\":{\\\"propertyId\\\":\\\"9481510229\\\",\\\"listingId\\\":\\\"2970240886\\\"},\\\"isBot\\\":false}\"]"
   ]
  },
  {
   "cell_type": "code",
   "execution_count": null,
   "metadata": {},
   "outputs": [],
   "source": [
    "headers = headers_update_waite|request[1]\n",
    "headers "
   ]
  },
  {
   "cell_type": "code",
   "execution_count": 46,
   "metadata": {},
   "outputs": [],
   "source": [
    "response = requests.post(url=request[0], headers= headers, data= request[2])"
   ]
  },
  {
   "cell_type": "code",
   "execution_count": null,
   "metadata": {},
   "outputs": [],
   "source": [
    "response.status_code"
   ]
  },
  {
   "cell_type": "code",
   "execution_count": null,
   "metadata": {},
   "outputs": [],
   "source": [
    "if not []:\n",
    "    print(True)"
   ]
  },
  {
   "cell_type": "code",
   "execution_count": null,
   "metadata": {},
   "outputs": [],
   "source": [
    "{'headers_to_update': {'referer': 'www.realtor.com/realestateandhomes-detail/4425-Taku-Blvd_Juneau_AK_99801_M83125-42359'},\n",
    " 'payload': '{\"callFrom\":\"PDP\",\"isClient\":true,\"query\":\"query '\n",
    "            'home_search(\\\\n    $propertyId: ID!\\\\n    $listingId: ID\\\\n    '\n",
    "            '$historicalYearsMin: DateTime\\\\n    $historicalYearsMax: '\n",
    "            'DateTime\\\\n    $forecastedMonthsMax: DateTime\\\\n    '\n",
    "            '$streetViewWidth: String\\\\n  ) {\\\\n    home(property_id: '\n",
    "            '$propertyId, listing_id: $listingId) {\\\\n      advertisers '\n",
    "            '{\\\\n        team_name\\\\n        team {\\\\n          name\\\\n        '\n",
    "            '}\\\\n        state_license\\\\n        address {\\\\n          '\n",
    "            'city\\\\n          country\\\\n          line\\\\n          '\n",
    "            'postal_code\\\\n          state\\\\n          state_code\\\\n        '\n",
    "            '}\\\\n        builder {\\\\n          fulfillment_id\\\\n          '\n",
    "            'name\\\\n          logo\\\\n          href\\\\n        }\\\\n        '\n",
    "            'broker {\\\\n          accent_color\\\\n          '\n",
    "            'designations\\\\n          fulfillment_id\\\\n          '\n",
    "            'name\\\\n          logo\\\\n        }\\\\n        email\\\\n        '\n",
    "            'fulfillment_id\\\\n        href\\\\n        mls_set\\\\n        '\n",
    "            'name\\\\n        nrds_id\\\\n        office {\\\\n          address '\n",
    "            '{\\\\n            city\\\\n            coordinate {\\\\n              '\n",
    "            'lat\\\\n              lon\\\\n            }\\\\n            '\n",
    "            'country\\\\n            line\\\\n            '\n",
    "            'postal_code\\\\n            state\\\\n            '\n",
    "            'state_code\\\\n          }\\\\n          application_url\\\\n          '\n",
    "            'email\\\\n          lead_email {\\\\n            to\\\\n            '\n",
    "            'cc\\\\n          }\\\\n          fulfillment_id\\\\n          '\n",
    "            'hours\\\\n          href\\\\n          mls_set\\\\n          '\n",
    "            'out_of_community\\\\n          name\\\\n          phones '\n",
    "            '{\\\\n            ext\\\\n            number\\\\n            '\n",
    "            'primary\\\\n            trackable\\\\n            type\\\\n          '\n",
    "            '}\\\\n          photo {\\\\n            href\\\\n          '\n",
    "            '}\\\\n          slogan\\\\n        }\\\\n        phones {\\\\n          '\n",
    "            'ext\\\\n          number\\\\n          primary\\\\n          '\n",
    "            'trackable\\\\n          type\\\\n        }\\\\n        photo '\n",
    "            '{\\\\n          href\\\\n        }\\\\n        slogan\\\\n        '\n",
    "            'type\\\\n      }\\\\n      builder {\\\\n        builder_id\\\\n        '\n",
    "            'href\\\\n        name\\\\n        source_builder_id\\\\n        logo '\n",
    "            '{\\\\n          href\\\\n        }\\\\n      }\\\\n      products '\n",
    "            '{\\\\n        products\\\\n        brand_name\\\\n      }\\\\n      '\n",
    "            'consumer_advertisers {\\\\n        advertiser_id\\\\n        '\n",
    "            'agent_id\\\\n        broker_id\\\\n        office_id\\\\n        '\n",
    "            'name\\\\n        type\\\\n        slogan\\\\n        phone\\\\n        '\n",
    "            'href\\\\n        show_realtor_logo\\\\n        hours\\\\n        '\n",
    "            'contact_name\\\\n        address {\\\\n          city\\\\n          '\n",
    "            'state_code\\\\n        }\\\\n        photo {\\\\n          '\n",
    "            'description\\\\n          href\\\\n          type\\\\n        }\\\\n      '\n",
    "            '}\\\\n      buyers {\\\\n        address {\\\\n          '\n",
    "            'city\\\\n          country\\\\n          line\\\\n          '\n",
    "            'postal_code\\\\n          state\\\\n          state_code\\\\n        '\n",
    "            '}\\\\n        broker {\\\\n          accent_color\\\\n          '\n",
    "            'designations\\\\n          fulfillment_id\\\\n          '\n",
    "            'name\\\\n          logo\\\\n        }\\\\n        email\\\\n        '\n",
    "            'fulfillment_id\\\\n        href\\\\n        mls_set\\\\n        '\n",
    "            'name\\\\n        nrds_id\\\\n        office {\\\\n          address '\n",
    "            '{\\\\n            city\\\\n            coordinate {\\\\n              '\n",
    "            'lat\\\\n              lon\\\\n            }\\\\n            '\n",
    "            'country\\\\n            line\\\\n            '\n",
    "            'postal_code\\\\n            state\\\\n            '\n",
    "            'state_code\\\\n          }\\\\n          application_url\\\\n          '\n",
    "            'email\\\\n          lead_email {\\\\n            to\\\\n            '\n",
    "            'cc\\\\n          }\\\\n          fulfillment_id\\\\n          '\n",
    "            'hours\\\\n          href\\\\n          mls_set\\\\n          '\n",
    "            'out_of_community\\\\n          name\\\\n          phones '\n",
    "            '{\\\\n            ext\\\\n            number\\\\n            '\n",
    "            'primary\\\\n            trackable\\\\n            type\\\\n          '\n",
    "            '}\\\\n          photo {\\\\n            href\\\\n          '\n",
    "            '}\\\\n          slogan\\\\n        }\\\\n        phones {\\\\n          '\n",
    "            'ext\\\\n          number\\\\n          primary\\\\n          '\n",
    "            'trackable\\\\n          type\\\\n        }\\\\n        photo '\n",
    "            '{\\\\n          href\\\\n        }\\\\n        slogan\\\\n        '\n",
    "            'type\\\\n      }\\\\n      community {\\\\n        advertisers '\n",
    "            '{\\\\n          office {\\\\n            hours\\\\n            phones '\n",
    "            '{\\\\n              number\\\\n              type\\\\n            '\n",
    "            '}\\\\n          }\\\\n          builder {\\\\n            '\n",
    "            'fulfillment_id\\\\n          }\\\\n        }\\\\n        builder '\n",
    "            '{\\\\n          builder_id\\\\n          href\\\\n          '\n",
    "            'name\\\\n          source_builder_id\\\\n          logo '\n",
    "            '{\\\\n            href\\\\n          }\\\\n        }\\\\n        '\n",
    "            'description {\\\\n          name\\\\n          text\\\\n          '\n",
    "            'plan_types\\\\n        }\\\\n        details {\\\\n          '\n",
    "            'category\\\\n          text\\\\n        }\\\\n        '\n",
    "            'list_price_min\\\\n        list_price_max\\\\n        '\n",
    "            'permalink\\\\n        property_id\\\\n        unit_count\\\\n        '\n",
    "            'units(status: ready_to_build) {\\\\n          '\n",
    "            'property_id\\\\n          primary\\\\n          '\n",
    "            'list_price\\\\n          href\\\\n          status\\\\n          '\n",
    "            'list_date\\\\n          matterport\\\\n          plan_id\\\\n          '\n",
    "            'permalink\\\\n          primary_photo(https: true) {\\\\n            '\n",
    "            'href\\\\n          }\\\\n          description {\\\\n            '\n",
    "            'baths\\\\n            baths_full_calc\\\\n            '\n",
    "            'baths_partial_calc\\\\n            beds\\\\n            '\n",
    "            'sqft\\\\n            type\\\\n            stories\\\\n            '\n",
    "            'garage\\\\n            name\\\\n          }\\\\n          location '\n",
    "            '{\\\\n            address {\\\\n              line\\\\n              '\n",
    "            'city\\\\n              state_code\\\\n              '\n",
    "            'postal_code\\\\n              country\\\\n              '\n",
    "            'state\\\\n            }\\\\n          }\\\\n        }\\\\n        '\n",
    "            'video_count\\\\n        videos {\\\\n          href\\\\n        '\n",
    "            '}\\\\n        property_id\\\\n      }\\\\n      estimates {\\\\n        '\n",
    "            'current_values(filter: { status: [\\\\\"sold\\\\\", \\\\\"off_market\\\\\", '\n",
    "            '\\\\\"other\\\\\"] }) {\\\\n          isbest_homevalue\\\\n          '\n",
    "            'estimate\\\\n          estimate_high\\\\n          '\n",
    "            'estimate_low\\\\n          date\\\\n          source {\\\\n            '\n",
    "            'type\\\\n            name\\\\n          }\\\\n        }\\\\n        '\n",
    "            'historical_values(date_range: { min: $historicalYearsMin, max: '\n",
    "            '$historicalYearsMax }) {\\\\n          source {\\\\n            '\n",
    "            'name\\\\n            type\\\\n          }\\\\n          estimates '\n",
    "            '{\\\\n            estimate\\\\n            date\\\\n          '\n",
    "            '}\\\\n        }\\\\n        forecast_values(max_date: '\n",
    "            '$forecastedMonthsMax) {\\\\n          source {\\\\n            '\n",
    "            'name\\\\n            type\\\\n          }\\\\n          estimates '\n",
    "            '{\\\\n            estimate\\\\n            date\\\\n          '\n",
    "            '}\\\\n        }\\\\n      }\\\\n      days_on_market\\\\n      '\n",
    "            'move_in_date\\\\n      description {\\\\n        baths\\\\n        '\n",
    "            'baths_3qtr\\\\n        baths_full\\\\n        '\n",
    "            'baths_full_calc\\\\n        baths_half\\\\n        '\n",
    "            'baths_max\\\\n        baths_min\\\\n        '\n",
    "            'baths_partial_calc\\\\n        baths_total\\\\n        '\n",
    "            'baths_consolidated\\\\n        beds\\\\n        beds_max\\\\n        '\n",
    "            'beds_min\\\\n        construction\\\\n        cooling\\\\n        '\n",
    "            'exterior\\\\n        fireplace\\\\n        garage\\\\n        '\n",
    "            'garage_max\\\\n        garage_min\\\\n        garage_type\\\\n        '\n",
    "            'heating\\\\n        logo {\\\\n          href\\\\n        }\\\\n        '\n",
    "            'lot_sqft\\\\n        name\\\\n        pool\\\\n        '\n",
    "            'roofing\\\\n        rooms\\\\n        sqft\\\\n        '\n",
    "            'sqft_max\\\\n        sqft_min\\\\n        stories\\\\n        '\n",
    "            'styles\\\\n        sub_type\\\\n        text\\\\n        type\\\\n        '\n",
    "            'units\\\\n        year_built\\\\n        year_renovated\\\\n        '\n",
    "            'zoning\\\\n      }\\\\n      details {\\\\n        category\\\\n        '\n",
    "            'parent_category\\\\n        text\\\\n      }\\\\n      other_listings '\n",
    "            '{\\\\n        rdc {\\\\n          listing_id\\\\n          '\n",
    "            'status\\\\n          listing_key\\\\n          sold_date\\\\n          '\n",
    "            'primary\\\\n          unique\\\\n        }\\\\n      }\\\\n      '\n",
    "            'lead_attributes(caller: mobile_web) {\\\\n        '\n",
    "            'show_contact_an_agent\\\\n        lead_type\\\\n        '\n",
    "            'show_lead_form\\\\n        disclaimer_text\\\\n        '\n",
    "            'is_tcpa_message_enabled\\\\n        show_text_leads\\\\n        '\n",
    "            'opcity_lead_attributes {\\\\n          '\n",
    "            'flip_the_market_enabled\\\\n          cashback_enabled\\\\n          '\n",
    "            'smarthome_enabled\\\\n          phones {\\\\n            '\n",
    "            'number\\\\n            category\\\\n          }\\\\n        }\\\\n        '\n",
    "            'ready_connect_mortgage {\\\\n          '\n",
    "            'show_contact_a_lender\\\\n          show_veterans_united\\\\n        '\n",
    "            '}\\\\n      }\\\\n      flags {\\\\n        is_coming_soon\\\\n        '\n",
    "            'is_contingent\\\\n        is_deal_available\\\\n        '\n",
    "            'is_for_rent\\\\n        is_foreclosure\\\\n        '\n",
    "            'is_garage_present\\\\n        is_new_construction\\\\n        '\n",
    "            'is_pending\\\\n        is_price_excludes_land\\\\n        '\n",
    "            'is_senior_community\\\\n        is_short_sale\\\\n        '\n",
    "            'is_subdivision\\\\n        is_price_reduced\\\\n        '\n",
    "            'is_new_listing\\\\n      }\\\\n      floorplans {\\\\n        '\n",
    "            'floorplan_interactive {\\\\n          href\\\\n          '\n",
    "            'source\\\\n          type\\\\n        }\\\\n      }\\\\n      '\n",
    "            'href\\\\n      last_sold_date\\\\n      last_sold_price\\\\n      '\n",
    "            'list_date\\\\n      list_price\\\\n      '\n",
    "            'last_price_change_amount\\\\n      listing_id\\\\n      local '\n",
    "            '{\\\\n        flood {\\\\n          flood_factor_severity\\\\n          '\n",
    "            'flood_trend\\\\n        }\\\\n        wildfire {\\\\n          '\n",
    "            'fire_factor_severity\\\\n          fire_trend\\\\n        }\\\\n        '\n",
    "            'noise {\\\\n          score\\\\n          noise_categories '\n",
    "            '{\\\\n            text\\\\n            type\\\\n          }\\\\n        '\n",
    "            '}\\\\n      }\\\\n      location {\\\\n        street_view_url(input: { '\n",
    "            'size: $streetViewWidth })\\\\n        '\n",
    "            'street_view_metadata_url\\\\n        address {\\\\n          '\n",
    "            'city\\\\n          coordinate {\\\\n            lat\\\\n            '\n",
    "            'lon\\\\n          }\\\\n          country\\\\n          '\n",
    "            'line\\\\n          postal_code\\\\n          state\\\\n          '\n",
    "            'state_code\\\\n          street_direction\\\\n          '\n",
    "            'street_name\\\\n          street_number\\\\n          '\n",
    "            'street_post_direction\\\\n          street_suffix\\\\n          '\n",
    "            'unit\\\\n          validation_code\\\\n        }\\\\n        county '\n",
    "            '{\\\\n          fips_code\\\\n          name\\\\n          '\n",
    "            'state_code\\\\n        }\\\\n        neighborhoods {\\\\n          '\n",
    "            'city\\\\n          id\\\\n          level\\\\n          '\n",
    "            'name\\\\n          geo_type\\\\n          state_code\\\\n          '\n",
    "            'slug_id\\\\n          geo_statistics(group_by: property_type) '\n",
    "            '{\\\\n            housing_market {\\\\n              '\n",
    "            'median_listing_price\\\\n            }\\\\n          }\\\\n        '\n",
    "            '}\\\\n        search_areas {\\\\n          city\\\\n          '\n",
    "            'state_code\\\\n        }\\\\n        city {\\\\n          '\n",
    "            'county_needed_for_uniq\\\\n          slug_id\\\\n        }\\\\n        '\n",
    "            'postal_code {\\\\n          geo_statistics {\\\\n            '\n",
    "            'housing_market {\\\\n              hot_market_badge\\\\n            '\n",
    "            '}\\\\n          }\\\\n        }\\\\n      }\\\\n      matterport '\n",
    "            '{\\\\n        property_id\\\\n        videos {\\\\n          '\n",
    "            'href\\\\n        }\\\\n      }\\\\n      virtual_tours {\\\\n        '\n",
    "            'href\\\\n        type\\\\n      }\\\\n      home_tours {\\\\n        '\n",
    "            'virtual_tours {\\\\n          category\\\\n          href\\\\n          '\n",
    "            'type\\\\n        }\\\\n      }\\\\n      open_houses {\\\\n        '\n",
    "            'start_date\\\\n        end_date\\\\n      }\\\\n      nearby_schools '\n",
    "            '{\\\\n        schools {\\\\n          coordinate {\\\\n            '\n",
    "            'lat\\\\n            lon\\\\n          }\\\\n          '\n",
    "            'distance_in_miles\\\\n          district {\\\\n            '\n",
    "            'id\\\\n            name\\\\n          }\\\\n          '\n",
    "            'education_levels\\\\n          funding_type\\\\n          '\n",
    "            'grades\\\\n          greatschools_id\\\\n          id\\\\n          '\n",
    "            'name\\\\n          nces_code\\\\n          parent_rating\\\\n          '\n",
    "            'rating\\\\n          review_count\\\\n          slug_id\\\\n          '\n",
    "            'student_count\\\\n        }\\\\n      }\\\\n      open_houses '\n",
    "            '{\\\\n        start_date\\\\n        end_date\\\\n        '\n",
    "            'description\\\\n        time_zone\\\\n        dst\\\\n      }\\\\n      '\n",
    "            'permalink\\\\n      photo_count\\\\n      photos {\\\\n        '\n",
    "            'title\\\\n        description\\\\n        href\\\\n        '\n",
    "            'type\\\\n        tags(version: v3) {\\\\n          label\\\\n          '\n",
    "            'probability\\\\n        }\\\\n      }\\\\n      price_per_sqft\\\\n      '\n",
    "            'primary_photo {\\\\n        href\\\\n      }\\\\n      hoa {\\\\n        '\n",
    "            'fee\\\\n      }\\\\n      property_history {\\\\n        date\\\\n        '\n",
    "            'event_name\\\\n        price\\\\n        price_sqft\\\\n        '\n",
    "            'source_listing_id\\\\n        source_name\\\\n        listing(filter: '\n",
    "            '{ status: [\\\\\"sold\\\\\", \\\\\"off_market\\\\\", \\\\\"other\\\\\"] }) '\n",
    "            '{\\\\n          list_price\\\\n          '\n",
    "            'last_status_change_date\\\\n          last_update_date\\\\n          '\n",
    "            'status\\\\n          list_date\\\\n          listing_id\\\\n          '\n",
    "            'suppression_flags\\\\n          photos {\\\\n            '\n",
    "            'href\\\\n          }\\\\n          description {\\\\n            '\n",
    "            'text\\\\n          }\\\\n          advertisers {\\\\n            '\n",
    "            'fulfillment_id\\\\n            nrds_id\\\\n            '\n",
    "            'name\\\\n            email\\\\n            href\\\\n            '\n",
    "            'slogan\\\\n            office {\\\\n              '\n",
    "            'fulfillment_id\\\\n              name\\\\n              '\n",
    "            'email\\\\n              href\\\\n              slogan\\\\n              '\n",
    "            'out_of_community\\\\n              application_url\\\\n              '\n",
    "            'mls_set\\\\n            }\\\\n            broker {\\\\n              '\n",
    "            'fulfillment_id\\\\n              name\\\\n              '\n",
    "            'accent_color\\\\n              logo\\\\n            }\\\\n            '\n",
    "            'type\\\\n            mls_set\\\\n          }\\\\n          buyers '\n",
    "            '{\\\\n            fulfillment_id\\\\n            '\n",
    "            'nrds_id\\\\n            name\\\\n            email\\\\n            '\n",
    "            'href\\\\n            slogan\\\\n            type\\\\n            '\n",
    "            'mls_set\\\\n            address {\\\\n              '\n",
    "            'line\\\\n              city\\\\n              '\n",
    "            'postal_code\\\\n              state_code\\\\n              '\n",
    "            'state\\\\n              country\\\\n              coordinate '\n",
    "            '{\\\\n                lat\\\\n                lon\\\\n              '\n",
    "            '}\\\\n            }\\\\n            office {\\\\n              '\n",
    "            'fulfillment_id\\\\n              name\\\\n              '\n",
    "            'email\\\\n              href\\\\n              slogan\\\\n              '\n",
    "            'hours\\\\n              out_of_community\\\\n              '\n",
    "            'application_url\\\\n              mls_set\\\\n              address '\n",
    "            '{\\\\n                line\\\\n                city\\\\n                '\n",
    "            'postal_code\\\\n                state_code\\\\n                '\n",
    "            'state\\\\n                country\\\\n              }\\\\n              '\n",
    "            'phones {\\\\n                number\\\\n                '\n",
    "            'type\\\\n                primary\\\\n                '\n",
    "            'trackable\\\\n                ext\\\\n              }\\\\n              '\n",
    "            'county {\\\\n                name\\\\n              }\\\\n            '\n",
    "            '}\\\\n            phones {\\\\n              number\\\\n              '\n",
    "            'type\\\\n              primary\\\\n              '\n",
    "            'trackable\\\\n              ext\\\\n            }\\\\n            '\n",
    "            'broker {\\\\n              fulfillment_id\\\\n              '\n",
    "            'name\\\\n              accent_color\\\\n              '\n",
    "            'logo\\\\n            }\\\\n          }\\\\n          source '\n",
    "            '{\\\\n            id\\\\n            agents {\\\\n              '\n",
    "            'agent_id\\\\n              agent_name\\\\n              '\n",
    "            'office_id\\\\n              office_name\\\\n              '\n",
    "            'office_phone\\\\n              type\\\\n            }\\\\n          '\n",
    "            '}\\\\n        }\\\\n      }\\\\n      property_id\\\\n      provider_url '\n",
    "            '{\\\\n        href\\\\n        level\\\\n        type\\\\n      }\\\\n      '\n",
    "            'source {\\\\n        agents {\\\\n          agent_id\\\\n          '\n",
    "            'agent_name\\\\n          id\\\\n          office_id\\\\n          '\n",
    "            'office_name\\\\n          office_phone\\\\n          type\\\\n        '\n",
    "            '}\\\\n        disclaimer {\\\\n          href\\\\n          logo '\n",
    "            '{\\\\n            href\\\\n            height\\\\n            '\n",
    "            'width\\\\n          }\\\\n          text\\\\n        }\\\\n        '\n",
    "            'id\\\\n        plan_id\\\\n        listing_id\\\\n        '\n",
    "            'name\\\\n        raw {\\\\n          status\\\\n          '\n",
    "            'style\\\\n          tax_amount\\\\n        }\\\\n        type\\\\n        '\n",
    "            'community_id\\\\n      }\\\\n      status\\\\n      '\n",
    "            'suppression_flags\\\\n      tags\\\\n      tax_history {\\\\n        '\n",
    "            'assessment {\\\\n          building\\\\n          land\\\\n          '\n",
    "            'total\\\\n        }\\\\n        market {\\\\n          '\n",
    "            'building\\\\n          land\\\\n          total\\\\n        }\\\\n        '\n",
    "            'tax\\\\n        year\\\\n      }\\\\n    }\\\\n  '\n",
    "            '}\\\\n\",\"variables\":{\"propertyId\":\"8312542359\",\"listingId\":\"2971012577\"},\"isBot\":false}'}"
   ]
  },
  {
   "cell_type": "code",
   "execution_count": null,
   "metadata": {},
   "outputs": [],
   "source": [
    "\"\"\" \n",
    "(env) D:\\Documents\\WebScraping\\realtor_FULL_SITE_scrapy\\realtor>scrapy crawl primary_stage\n",
    "    - found 1291 for_sale properties. \n",
    "-----\n",
    "-constructing requests list--------------------\n",
    "----- \n",
    "-----\n",
    "-passed--------------------\n",
    "----- \n",
    "len items = 42\n",
    "started a request\n",
    "started a request\n",
    "started a request\n",
    "started a request\n",
    "started a request\n",
    "started a request\n",
    "started a request\n",
    "started a request\n",
    "started a request\n",
    "started a request\n",
    "started a request\n",
    "started a request\n",
    "started a request\n",
    "started a request\n",
    "started a request\n",
    "started a request\n",
    "started a request\n",
    "started a request\n",
    "started a request\n",
    "started a request\n",
    "started a request\n",
    "started a request\n",
    "started a request\n",
    "started a request\n",
    "started a request\n",
    "started a request\n",
    "started a request\n",
    "started a request\n",
    "started a request\n",
    "started a request\n",
    "-----\n",
    "-passed--------------------\n",
    "-----\n",
    "len items = 42\n",
    "-----\n",
    "-passed--------------------\n",
    "-----\n",
    "len items = 42\n",
    "-----\n",
    "-passed--------------------\n",
    "-----\n",
    "len items = 42\n",
    "-----\n",
    "-passed--------------------\n",
    "-----\n",
    "len items = 42\n",
    "-----\n",
    "-passed--------------------\n",
    "-----\n",
    "len items = 42\n",
    "-----\n",
    "-passed--------------------\n",
    "-----\n",
    "len items = 42\n",
    "-----\n",
    "-passed--------------------\n",
    "-----\n",
    "len items = 42\n",
    "-----\n",
    "-passed--------------------\n",
    "-----\n",
    "len items = 42\n",
    "-----\n",
    "-passed--------------------\n",
    "-----\n",
    "len items = 42\n",
    ">>>>>>>>>>>>>>\n",
    "pausing between batches for 58.96434926986694>>>>>>>>>>>>>>\n",
    "\n",
    "-----\n",
    "-passed--------------------\n",
    "-----\n",
    "-----\n",
    "-passed--------------------\n",
    "-----\n",
    "len items = 42\n",
    "-----\n",
    "-passed--------------------\n",
    "-----\n",
    "len items = 42\n",
    "-----\n",
    "-passed--------------------\n",
    "-----\n",
    "len items = 42\n",
    "-----\n",
    "-passed--------------------\n",
    "-----\n",
    "len items = 42\n",
    "-----\n",
    "-passed--------------------\n",
    "-----\n",
    "-----\n",
    "-passed--------------------\n",
    "-----\n",
    "len items = 42\n",
    "-----\n",
    "-passed--------------------\n",
    "-----\n",
    "len items = 42\n",
    "-----\n",
    "-passed--------------------\n",
    "-----\n",
    "len items = 42\n",
    "len items = 42\n",
    "-----\n",
    "-passed--------------------\n",
    "-----\n",
    "len items = 42\n",
    "-----\n",
    "-passed--------------------\n",
    "-----\n",
    "len items = 42\n",
    ">>>>>>>>>>>>>>\n",
    "pausing between batches for 60.34630608558655>>>>>>>>>>>>>>\n",
    "\n",
    "-----\n",
    "-passed--------------------\n",
    "-----\n",
    "len items = 42\n",
    "-----\n",
    "-passed--------------------\n",
    "-----\n",
    "-----\n",
    "-passed--------------------\n",
    "-----\n",
    "len items = 42\n",
    "-----\n",
    "-passed--------------------\n",
    "-----\n",
    "-----\n",
    "-passed--------------------\n",
    "-----\n",
    "len items = 42\n",
    "-----\n",
    "-passed--------------------\n",
    "-----\n",
    "len items = 42\n",
    "len items = 42\n",
    "len items = 42\n",
    "-----\n",
    "-passed--------------------\n",
    "-----\n",
    "-----\n",
    "-passed--------------------\n",
    "-----\n",
    "len items = 42\n",
    "len items = 42\n",
    "-----\n",
    "-passed--------------------\n",
    "-----\n",
    "len items = 42\n",
    "-----\n",
    "-passed--------------------\n",
    "-----\n",
    "len items = 42\n",
    "2024-08-27 18:53:57 [scrapy.core.scraper] ERROR: Error processing {'headers_to_update': {'referer': 'www.realtor.com/realestateandhomes-detail/9740-Hillside-Dr_Anchorage_AK_99507_M83387-22587'},\n",
    " 'payload': '{\"callFrom\":\"PDP\",\"isClient\":true,\"query\":\"query '\n",
    "            'home_search(\\\\n    $propertyId: ID!\\\\n    $listingId: ID\\\\n    '\n",
    "            '$historicalYearsMin: DateTime\\\\n    $historicalYearsMax: '\n",
    "            'DateTime\\\\n    $forecastedMonthsMax: DateTime\\\\n    '\n",
    "            '$streetViewWidth: String\\\\n  ) {\\\\n    home(property_id: '\n",
    "            '$propertyId, listing_id: $listingId) {\\\\n      advertisers '\n",
    "            '{\\\\n        team_name\\\\n        team {\\\\n          name\\\\n        '\n",
    "            '}\\\\n        state_license\\\\n        address {\\\\n          '\n",
    "            'city\\\\n          country\\\\n          line\\\\n          '\n",
    "            'postal_code\\\\n          state\\\\n          state_code\\\\n        '\n",
    "            '}\\\\n        builder {\\\\n          fulfillment_id\\\\n          '\n",
    "            'name\\\\n          logo\\\\n          href\\\\n        }\\\\n        '\n",
    "            'broker {\\\\n          accent_color\\\\n          '\n",
    "            'designations\\\\n          fulfillment_id\\\\n          '\n",
    "            'name\\\\n          logo\\\\n        }\\\\n        email\\\\n        '\n",
    "            'fulfillment_id\\\\n        href\\\\n        mls_set\\\\n        '\n",
    "            'name\\\\n        nrds_id\\\\n        office {\\\\n          address '\n",
    "            '{\\\\n            city\\\\n            coordinate {\\\\n              '\n",
    "            'lat\\\\n              lon\\\\n            }\\\\n            '\n",
    "            'country\\\\n            line\\\\n            '\n",
    "            'postal_code\\\\n            state\\\\n            '\n",
    "            'state_code\\\\n          }\\\\n          application_url\\\\n          '\n",
    "            'email\\\\n          lead_email {\\\\n            to\\\\n            '\n",
    "            'cc\\\\n          }\\\\n          fulfillment_id\\\\n          '\n",
    "            'hours\\\\n          href\\\\n          mls_set\\\\n          '\n",
    "            'out_of_community\\\\n          name\\\\n          phones '\n",
    "            '{\\\\n            ext\\\\n            number\\\\n            '\n",
    "            'primary\\\\n            trackable\\\\n            type\\\\n          '\n",
    "            '}\\\\n          photo {\\\\n            href\\\\n          '\n",
    "            '}\\\\n          slogan\\\\n        }\\\\n        phones {\\\\n          '\n",
    "            'ext\\\\n          number\\\\n          primary\\\\n          '\n",
    "            'trackable\\\\n          type\\\\n        }\\\\n        photo '\n",
    "            '{\\\\n          href\\\\n        }\\\\n        slogan\\\\n        '\n",
    "            'type\\\\n      }\\\\n      builder {\\\\n        builder_id\\\\n        '\n",
    "            'href\\\\n        name\\\\n        source_builder_id\\\\n        logo '\n",
    "            '{\\\\n          href\\\\n        }\\\\n      }\\\\n      products '\n",
    "            '{\\\\n        products\\\\n        brand_name\\\\n      }\\\\n      '\n",
    "            'consumer_advertisers {\\\\n        advertiser_id\\\\n        '\n",
    "            'agent_id\\\\n        broker_id\\\\n        office_id\\\\n        '\n",
    "            'name\\\\n        type\\\\n        slogan\\\\n        phone\\\\n        '\n",
    "            'href\\\\n        show_realtor_logo\\\\n        hours\\\\n        '\n",
    "            'contact_name\\\\n        address {\\\\n          city\\\\n          '\n",
    "            'state_code\\\\n        }\\\\n        photo {\\\\n          '\n",
    "            'description\\\\n          href\\\\n          type\\\\n        }\\\\n      '\n",
    "            '}\\\\n      buyers {\\\\n        address {\\\\n          '\n",
    "            'city\\\\n          country\\\\n          line\\\\n          '\n",
    "            'postal_code\\\\n          state\\\\n          state_code\\\\n        '\n",
    "            '}\\\\n        broker {\\\\n          accent_color\\\\n          '\n",
    "            'designations\\\\n          fulfillment_id\\\\n          '\n",
    "            'name\\\\n          logo\\\\n        }\\\\n        email\\\\n        '\n",
    "            'fulfillment_id\\\\n        href\\\\n        mls_set\\\\n        '\n",
    "            'name\\\\n        nrds_id\\\\n        office {\\\\n          address '\n",
    "            '{\\\\n            city\\\\n            coordinate {\\\\n              '\n",
    "            'lat\\\\n              lon\\\\n            }\\\\n            '\n",
    "            'country\\\\n            line\\\\n            '\n",
    "            'postal_code\\\\n            state\\\\n            '\n",
    "            'state_code\\\\n          }\\\\n          application_url\\\\n          '\n",
    "            'email\\\\n          lead_email {\\\\n            to\\\\n            '\n",
    "            'cc\\\\n          }\\\\n          fulfillment_id\\\\n          '\n",
    "            'hours\\\\n          href\\\\n          mls_set\\\\n          '\n",
    "            'out_of_community\\\\n          name\\\\n          phones '\n",
    "            '{\\\\n            ext\\\\n            number\\\\n            '\n",
    "            'primary\\\\n            trackable\\\\n            type\\\\n          '\n",
    "            '}\\\\n          photo {\\\\n            href\\\\n          '\n",
    "            '}\\\\n          slogan\\\\n        }\\\\n        phones {\\\\n          '\n",
    "            'ext\\\\n          number\\\\n          primary\\\\n          '\n",
    "            'trackable\\\\n          type\\\\n        }\\\\n        photo '\n",
    "            '{\\\\n          href\\\\n        }\\\\n        slogan\\\\n        '\n",
    "            'type\\\\n      }\\\\n      community {\\\\n        advertisers '\n",
    "            '{\\\\n          office {\\\\n            hours\\\\n            phones '\n",
    "            '{\\\\n              number\\\\n              type\\\\n            '\n",
    "            '}\\\\n          }\\\\n          builder {\\\\n            '\n",
    "            'fulfillment_id\\\\n          }\\\\n        }\\\\n        builder '\n",
    "            '{\\\\n          builder_id\\\\n          href\\\\n          '\n",
    "            'name\\\\n          source_builder_id\\\\n          logo '\n",
    "            '{\\\\n            href\\\\n          }\\\\n        }\\\\n        '\n",
    "            'description {\\\\n          name\\\\n          text\\\\n          '\n",
    "            'plan_types\\\\n        }\\\\n        details {\\\\n          '\n",
    "            'category\\\\n          text\\\\n        }\\\\n        '\n",
    "            'list_price_min\\\\n        list_price_max\\\\n        '\n",
    "            'permalink\\\\n        property_id\\\\n        unit_count\\\\n        '\n",
    "            'units(status: ready_to_build) {\\\\n          '\n",
    "            'property_id\\\\n          primary\\\\n          '\n",
    "            'list_price\\\\n          href\\\\n          status\\\\n          '\n",
    "            'list_date\\\\n          matterport\\\\n          plan_id\\\\n          '\n",
    "            'permalink\\\\n          primary_photo(https: true) {\\\\n            '\n",
    "            'href\\\\n          }\\\\n          description {\\\\n            '\n",
    "            'baths\\\\n            baths_full_calc\\\\n            '\n",
    "            'baths_partial_calc\\\\n            beds\\\\n            '\n",
    "            'sqft\\\\n            type\\\\n            stories\\\\n            '\n",
    "            'garage\\\\n            name\\\\n          }\\\\n          location '\n",
    "            '{\\\\n            address {\\\\n              line\\\\n              '\n",
    "            'city\\\\n              state_code\\\\n              '\n",
    "            'postal_code\\\\n              country\\\\n              '\n",
    "            'state\\\\n            }\\\\n          }\\\\n        }\\\\n        '\n",
    "            'video_count\\\\n        videos {\\\\n          href\\\\n        '\n",
    "            '}\\\\n        property_id\\\\n      }\\\\n      estimates {\\\\n        '\n",
    "            'current_values(filter: { status: [\\\\\"sold\\\\\", \\\\\"off_market\\\\\", '\n",
    "            '\\\\\"other\\\\\"] }) {\\\\n          isbest_homevalue\\\\n          '\n",
    "            'estimate\\\\n          estimate_high\\\\n          '\n",
    "            'estimate_low\\\\n          date\\\\n          source {\\\\n            '\n",
    "            'type\\\\n            name\\\\n          }\\\\n        }\\\\n        '\n",
    "            'historical_values(date_range: { min: $historicalYearsMin, max: '\n",
    "            '$historicalYearsMax }) {\\\\n          source {\\\\n            '\n",
    "            'name\\\\n            type\\\\n          }\\\\n          estimates '\n",
    "            '{\\\\n            estimate\\\\n            date\\\\n          '\n",
    "            '}\\\\n        }\\\\n        forecast_values(max_date: '\n",
    "            '$forecastedMonthsMax) {\\\\n          source {\\\\n            '\n",
    "            'name\\\\n            type\\\\n          }\\\\n          estimates '\n",
    "            '{\\\\n            estimate\\\\n            date\\\\n          '\n",
    "            '}\\\\n        }\\\\n      }\\\\n      days_on_market\\\\n      '\n",
    "            'move_in_date\\\\n      description {\\\\n        baths\\\\n        '\n",
    "            'baths_3qtr\\\\n        baths_full\\\\n        '\n",
    "            'baths_full_calc\\\\n        baths_half\\\\n        '\n",
    "            'baths_max\\\\n        baths_min\\\\n        '\n",
    "            'baths_partial_calc\\\\n        baths_total\\\\n        '\n",
    "            'baths_consolidated\\\\n        beds\\\\n        beds_max\\\\n        '\n",
    "            'beds_min\\\\n        construction\\\\n        cooling\\\\n        '\n",
    "            'exterior\\\\n        fireplace\\\\n        garage\\\\n        '\n",
    "            'garage_max\\\\n        garage_min\\\\n        garage_type\\\\n        '\n",
    "            'heating\\\\n        logo {\\\\n          href\\\\n        }\\\\n        '\n",
    "            'lot_sqft\\\\n        name\\\\n        pool\\\\n        '\n",
    "            'roofing\\\\n        rooms\\\\n        sqft\\\\n        '\n",
    "            'sqft_max\\\\n        sqft_min\\\\n        stories\\\\n        '\n",
    "            'styles\\\\n        sub_type\\\\n        text\\\\n        type\\\\n        '\n",
    "            'units\\\\n        year_built\\\\n        year_renovated\\\\n        '\n",
    "            'zoning\\\\n      }\\\\n      details {\\\\n        category\\\\n        '\n",
    "            'parent_category\\\\n        text\\\\n      }\\\\n      other_listings '\n",
    "            '{\\\\n        rdc {\\\\n          listing_id\\\\n          '\n",
    "            'status\\\\n          listing_key\\\\n          sold_date\\\\n          '\n",
    "            'primary\\\\n          unique\\\\n        }\\\\n      }\\\\n      '\n",
    "            'lead_attributes(caller: mobile_web) {\\\\n        '\n",
    "            'show_contact_an_agent\\\\n        lead_type\\\\n        '\n",
    "            'show_lead_form\\\\n        disclaimer_text\\\\n        '\n",
    "            'is_tcpa_message_enabled\\\\n        show_text_leads\\\\n        '\n",
    "            'opcity_lead_attributes {\\\\n          '\n",
    "            'flip_the_market_enabled\\\\n          cashback_enabled\\\\n          '\n",
    "            'smarthome_enabled\\\\n          phones {\\\\n            '\n",
    "            'number\\\\n            category\\\\n          }\\\\n        }\\\\n        '\n",
    "            'ready_connect_mortgage {\\\\n          '\n",
    "            'show_contact_a_lender\\\\n          show_veterans_united\\\\n        '\n",
    "            '}\\\\n      }\\\\n      flags {\\\\n        is_coming_soon\\\\n        '\n",
    "            'is_contingent\\\\n        is_deal_available\\\\n        '\n",
    "            'is_for_rent\\\\n        is_foreclosure\\\\n        '\n",
    "            'is_garage_present\\\\n        is_new_construction\\\\n        '\n",
    "            'is_pending\\\\n        is_price_excludes_land\\\\n        '\n",
    "            'is_senior_community\\\\n        is_short_sale\\\\n        '\n",
    "            'is_subdivision\\\\n        is_price_reduced\\\\n        '\n",
    "            'is_new_listing\\\\n      }\\\\n      floorplans {\\\\n        '\n",
    "            'floorplan_interactive {\\\\n          href\\\\n          '\n",
    "            'source\\\\n          type\\\\n        }\\\\n      }\\\\n      '\n",
    "            'href\\\\n      last_sold_date\\\\n      last_sold_price\\\\n      '\n",
    "            'list_date\\\\n      list_price\\\\n      '\n",
    "            'last_price_change_amount\\\\n      listing_id\\\\n      local '\n",
    "            '{\\\\n        flood {\\\\n          flood_factor_severity\\\\n          '\n",
    "            'flood_trend\\\\n        }\\\\n        wildfire {\\\\n          '\n",
    "            'fire_factor_severity\\\\n          fire_trend\\\\n        }\\\\n        '\n",
    "            'noise {\\\\n          score\\\\n          noise_categories '\n",
    "            '{\\\\n            text\\\\n            type\\\\n          }\\\\n        '\n",
    "            '}\\\\n      }\\\\n      location {\\\\n        street_view_url(input: { '\n",
    "            'size: $streetViewWidth })\\\\n        '\n",
    "            'street_view_metadata_url\\\\n        address {\\\\n          '\n",
    "            'city\\\\n          coordinate {\\\\n            lat\\\\n            '\n",
    "            'lon\\\\n          }\\\\n          country\\\\n          '\n",
    "            'line\\\\n          postal_code\\\\n          state\\\\n          '\n",
    "            'state_code\\\\n          street_direction\\\\n          '\n",
    "            'street_name\\\\n          street_number\\\\n          '\n",
    "            'street_post_direction\\\\n          street_suffix\\\\n          '\n",
    "            'unit\\\\n          validation_code\\\\n        }\\\\n        county '\n",
    "            '{\\\\n          fips_code\\\\n          name\\\\n          '\n",
    "            'state_code\\\\n        }\\\\n        neighborhoods {\\\\n          '\n",
    "            'city\\\\n          id\\\\n          level\\\\n          '\n",
    "            'name\\\\n          geo_type\\\\n          state_code\\\\n          '\n",
    "            'slug_id\\\\n          geo_statistics(group_by: property_type) '\n",
    "            '{\\\\n            housing_market {\\\\n              '\n",
    "            'median_listing_price\\\\n            }\\\\n          }\\\\n        '\n",
    "            '}\\\\n        search_areas {\\\\n          city\\\\n          '\n",
    "            'state_code\\\\n        }\\\\n        city {\\\\n          '\n",
    "            'county_needed_for_uniq\\\\n          slug_id\\\\n        }\\\\n        '\n",
    "            'postal_code {\\\\n          geo_statistics {\\\\n            '\n",
    "            'housing_market {\\\\n              hot_market_badge\\\\n            '\n",
    "            '}\\\\n          }\\\\n        }\\\\n      }\\\\n      matterport '\n",
    "            '{\\\\n        property_id\\\\n        videos {\\\\n          '\n",
    "            'href\\\\n        }\\\\n      }\\\\n      virtual_tours {\\\\n        '\n",
    "            'href\\\\n        type\\\\n      }\\\\n      home_tours {\\\\n        '\n",
    "            'virtual_tours {\\\\n          category\\\\n          href\\\\n          '\n",
    "            'type\\\\n        }\\\\n      }\\\\n      open_houses {\\\\n        '\n",
    "            'start_date\\\\n        end_date\\\\n      }\\\\n      nearby_schools '\n",
    "            '{\\\\n        schools {\\\\n          coordinate {\\\\n            '\n",
    "            'lat\\\\n            lon\\\\n          }\\\\n          '\n",
    "            'distance_in_miles\\\\n          district {\\\\n            '\n",
    "            'id\\\\n            name\\\\n          }\\\\n          '\n",
    "            'education_levels\\\\n          funding_type\\\\n          '\n",
    "            'grades\\\\n          greatschools_id\\\\n          id\\\\n          '\n",
    "            'name\\\\n          nces_code\\\\n          parent_rating\\\\n          '\n",
    "            'rating\\\\n          review_count\\\\n          slug_id\\\\n          '\n",
    "            'student_count\\\\n        }\\\\n      }\\\\n      open_houses '\n",
    "            '{\\\\n        start_date\\\\n        end_date\\\\n        '\n",
    "            'description\\\\n        time_zone\\\\n        dst\\\\n      }\\\\n      '\n",
    "            'permalink\\\\n      photo_count\\\\n      photos {\\\\n        '\n",
    "            'title\\\\n        description\\\\n        href\\\\n        '\n",
    "            'type\\\\n        tags(version: v3) {\\\\n          label\\\\n          '\n",
    "            'probability\\\\n        }\\\\n      }\\\\n      price_per_sqft\\\\n      '\n",
    "            'primary_photo {\\\\n        href\\\\n      }\\\\n      hoa {\\\\n        '\n",
    "            'fee\\\\n      }\\\\n      property_history {\\\\n        date\\\\n        '\n",
    "            'event_name\\\\n        price\\\\n        price_sqft\\\\n        '\n",
    "            'source_listing_id\\\\n        source_name\\\\n        listing(filter: '\n",
    "            '{ status: [\\\\\"sold\\\\\", \\\\\"off_market\\\\\", \\\\\"other\\\\\"] }) '\n",
    "            '{\\\\n          list_price\\\\n          '\n",
    "            'last_status_change_date\\\\n          last_update_date\\\\n          '\n",
    "            'status\\\\n          list_date\\\\n          listing_id\\\\n          '\n",
    "            'suppression_flags\\\\n          photos {\\\\n            '\n",
    "            'href\\\\n          }\\\\n          description {\\\\n            '\n",
    "            'text\\\\n          }\\\\n          advertisers {\\\\n            '\n",
    "            'fulfillment_id\\\\n            nrds_id\\\\n            '\n",
    "            'name\\\\n            email\\\\n            href\\\\n            '\n",
    "            'slogan\\\\n            office {\\\\n              '\n",
    "            'fulfillment_id\\\\n              name\\\\n              '\n",
    "            'email\\\\n              href\\\\n              slogan\\\\n              '\n",
    "            'out_of_community\\\\n              application_url\\\\n              '\n",
    "            'mls_set\\\\n            }\\\\n            broker {\\\\n              '\n",
    "            'fulfillment_id\\\\n              name\\\\n              '\n",
    "            'accent_color\\\\n              logo\\\\n            }\\\\n            '\n",
    "            'type\\\\n            mls_set\\\\n          }\\\\n          buyers '\n",
    "            '{\\\\n            fulfillment_id\\\\n            '\n",
    "            'nrds_id\\\\n            name\\\\n            email\\\\n            '\n",
    "            'href\\\\n            slogan\\\\n            type\\\\n            '\n",
    "            'mls_set\\\\n            address {\\\\n              '\n",
    "            'line\\\\n              city\\\\n              '\n",
    "            'postal_code\\\\n              state_code\\\\n              '\n",
    "            'state\\\\n              country\\\\n              coordinate '\n",
    "            '{\\\\n                lat\\\\n                lon\\\\n              '\n",
    "            '}\\\\n            }\\\\n            office {\\\\n              '\n",
    "            'fulfillment_id\\\\n              name\\\\n              '\n",
    "            'email\\\\n              href\\\\n              slogan\\\\n              '\n",
    "            'hours\\\\n              out_of_community\\\\n              '\n",
    "            'application_url\\\\n              mls_set\\\\n              address '\n",
    "            '{\\\\n                line\\\\n                city\\\\n                '\n",
    "            'postal_code\\\\n                state_code\\\\n                '\n",
    "            'state\\\\n                country\\\\n              }\\\\n              '\n",
    "            'phones {\\\\n                number\\\\n                '\n",
    "            'type\\\\n                primary\\\\n                '\n",
    "            'trackable\\\\n                ext\\\\n              }\\\\n              '\n",
    "            'county {\\\\n                name\\\\n              }\\\\n            '\n",
    "            '}\\\\n            phones {\\\\n              number\\\\n              '\n",
    "            'type\\\\n              primary\\\\n              '\n",
    "            'trackable\\\\n              ext\\\\n            }\\\\n            '\n",
    "            'broker {\\\\n              fulfillment_id\\\\n              '\n",
    "            'name\\\\n              accent_color\\\\n              '\n",
    "            'logo\\\\n            }\\\\n          }\\\\n          source '\n",
    "            '{\\\\n            id\\\\n            agents {\\\\n              '\n",
    "            'agent_id\\\\n              agent_name\\\\n              '\n",
    "            'office_id\\\\n              office_name\\\\n              '\n",
    "            'office_phone\\\\n              type\\\\n            }\\\\n          '\n",
    "            '}\\\\n        }\\\\n      }\\\\n      property_id\\\\n      provider_url '\n",
    "            '{\\\\n        href\\\\n        level\\\\n        type\\\\n      }\\\\n      '\n",
    "            'source {\\\\n        agents {\\\\n          agent_id\\\\n          '\n",
    "            'agent_name\\\\n          id\\\\n          office_id\\\\n          '\n",
    "            'office_name\\\\n          office_phone\\\\n          type\\\\n        '\n",
    "            '}\\\\n        disclaimer {\\\\n          href\\\\n          logo '\n",
    "            '{\\\\n            href\\\\n            height\\\\n            '\n",
    "            'width\\\\n          }\\\\n          text\\\\n        }\\\\n        '\n",
    "            'id\\\\n        plan_id\\\\n        listing_id\\\\n        '\n",
    "            'name\\\\n        raw {\\\\n          status\\\\n          '\n",
    "            'style\\\\n          tax_amount\\\\n        }\\\\n        type\\\\n        '\n",
    "            'community_id\\\\n      }\\\\n      status\\\\n      '\n",
    "            'suppression_flags\\\\n      tags\\\\n      tax_history {\\\\n        '\n",
    "            'assessment {\\\\n          building\\\\n          land\\\\n          '\n",
    "            'total\\\\n        }\\\\n        market {\\\\n          '\n",
    "            'building\\\\n          land\\\\n          total\\\\n        }\\\\n        '\n",
    "            'tax\\\\n        year\\\\n      }\\\\n    }\\\\n  '\n",
    "            '}\\\\n\",\"variables\":{\"propertyId\":\"8338722587\",\"listingId\":\"2970856570\"},\"isBot\":false}'}\n",
    "Traceback (most recent call last):\n",
    "  File \"C:\\Users\\Abdalrhman\\AppData\\Local\\Programs\\Python\\Python312\\Lib\\site-packages\\twisted\\internet\\defer.py\", line 1078, in _runCallbacks\n",
    "    current.result = callback(  # type: ignore[misc]\n",
    "  File \"C:\\Users\\Abdalrhman\\AppData\\Local\\Programs\\Python\\Python312\\Lib\\site-packages\\scrapy\\utils\\defer.py\", line 340, in f\n",
    "    return deferred_from_coro(coro_f(*coro_args, **coro_kwargs))\n",
    "  File \"D:\\Documents\\WebScraping\\realtor_FULL_SITE_scrapy\\realtor\\realtor\\pipelines.py\", line 53, in process_item\n",
    "    self._write_items_to_file(spider)\n",
    "  File \"D:\\Documents\\WebScraping\\realtor_FULL_SITE_scrapy\\realtor\\realtor\\pipelines.py\", line 81, in _write_items_to_file\n",
    "    between_batch_wait = 61-(batch_end_time-self.crawler.request_batch_delay)\n",
    "TypeError: unsupported operand type(s) for -: 'float' and 'NoneType'\n",
    "len items = 43\n",
    "len items = 30\n",
    "\n",
    "(env) D:\\Documents\\WebScraping\\realtor_FULL_SITE_scrapy\\realtor>\n",
    "\"\"\""
   ]
  },
  {
   "cell_type": "code",
   "execution_count": 18,
   "metadata": {},
   "outputs": [],
   "source": [
    "from tqdm import tqdm"
   ]
  },
  {
   "cell_type": "code",
   "execution_count": null,
   "metadata": {},
   "outputs": [],
   "source": [
    "pbar =  tqdm(total=(len(range(5+1))),unit =\"page\", desc =\"listing pages\")"
   ]
  },
  {
   "cell_type": "code",
   "execution_count": null,
   "metadata": {},
   "outputs": [],
   "source": [
    "pbar.update(5)"
   ]
  },
  {
   "cell_type": "code",
   "execution_count": null,
   "metadata": {},
   "outputs": [],
   "source": [
    "pbar.last_print_n"
   ]
  },
  {
   "cell_type": "code",
   "execution_count": null,
   "metadata": {},
   "outputs": [],
   "source": []
  },
  {
   "cell_type": "code",
   "execution_count": null,
   "metadata": {},
   "outputs": [],
   "source": [
    "pbar.close()"
   ]
  },
  {
   "cell_type": "code",
   "execution_count": 11,
   "metadata": {},
   "outputs": [],
   "source": [
    "pbar.update(2)"
   ]
  },
  {
   "cell_type": "code",
   "execution_count": null,
   "metadata": {},
   "outputs": [],
   "source": [
    "g = 0\n",
    "if not g:\n",
    "    print(\"True\")"
   ]
  },
  {
   "cell_type": "code",
   "execution_count": null,
   "metadata": {},
   "outputs": [],
   "source": [
    "-1 == False"
   ]
  },
  {
   "cell_type": "code",
   "execution_count": null,
   "metadata": {},
   "outputs": [],
   "source": [
    "os.listdir()"
   ]
  },
  {
   "cell_type": "code",
   "execution_count": 2,
   "metadata": {},
   "outputs": [],
   "source": [
    "import json"
   ]
  },
  {
   "cell_type": "code",
   "execution_count": 4,
   "metadata": {},
   "outputs": [],
   "source": [
    "data = {\n",
    "            'accept': 'application/json, text/javascript',\n",
    "            'accept-encoding': 'gzip, deflate, br',\n",
    "            'accept-language': 'en-US,en;q=0.5',\n",
    "            'connection': 'keep-alive',\n",
    "            'content-type': 'application/json',\n",
    "            'host': 'www.realtor.com',\n",
    "            'newrelic': 'eyJ2IjpbMCwxXSwiZCI6eyJ0eSI6IkJyb3dzZXIiLCJhYyI6IjM3ODU4NCIsImFwIjoiMTM4NjEyODM5MCIsImlkIjoiNzVhMmVmMDMyMTUxNTg1MSIsInRyIjoiNDdlODI1Y2I4Y2U3ODlmMjU3NWZmNzY3YmM2N2I5YWYiLCJ0aSI6MTcyNDY0NDU4NDY3NCwidGsiOiIxMDIyNjgxIn19', \n",
    "            'origin': 'https://www.realtor.com',\n",
    "            'rdc-ab-test-client': 'rdc-search-for-sale',\n",
    "            'referer': 'https://www.realtor.com/realestateandhomes-search/California/show-recently-sold',\n",
    "            'sec-fetch-dest': 'empty',\n",
    "            'sec-fetch-mode': 'cors',\n",
    "            'sec-fetch-site': 'same-origin',\n",
    "            'traceparent': '00-47e825cb8ce789f2575ff767bc67b9af-75a2ef0321515851-01',\n",
    "            'tracestate': '1022681@nr=0-1-378584-1386128390-75a2ef0321515851----1724644584674',\n",
    "            'user-agent': 'Mozilla/5.0 (Macintosh; Intel Mac OS X 10_15_7) '\n",
    "                        'AppleWebKit/537.36 (KHTML, like Gecko) Chrome/122.0.0.0 '\n",
    "                        'Safari/537.36'\n",
    "        }"
   ]
  },
  {
   "cell_type": "code",
   "execution_count": 6,
   "metadata": {},
   "outputs": [],
   "source": [
    "with open(\"scraping_headers.json\", \"w\") as f:\n",
    "    json.dump(self.scraping_headers,f)"
   ]
  },
  {
   "cell_type": "code",
   "execution_count": 7,
   "metadata": {},
   "outputs": [],
   "source": [
    "with open(\"scraping_headers.json\", \"r\") as f:\n",
    "    self.scraping_headers = json.load(f)"
   ]
  },
  {
   "cell_type": "code",
   "execution_count": null,
   "metadata": {},
   "outputs": [],
   "source": [
    "if \"scraping_headers.json\" in os.listdir(\"realtor\"):\n",
    "    with open(\"realtor/scraping_headers.json\", \"r\") as f:\n",
    "        scraping_headers = json.load(f)\n",
    "else:\n",
    "    update_scraping_headers()"
   ]
  },
  {
   "cell_type": "code",
   "execution_count": null,
   "metadata": {},
   "outputs": [],
   "source": [
    "scraping_headers"
   ]
  },
  {
   "cell_type": "code",
   "execution_count": null,
   "metadata": {},
   "outputs": [],
   "source": [
    "{\n",
    " \"content-length\":\"\",\n",
    " \"content-type\":\"\",\n",
    " \"accept\":\"\",\n",
    " \"accept-language\":\"\",\n",
    " \"user-agent\":\"\",\n",
    " \"rdc-ab-tests\":\"\",\n",
    " \"rdc-ab-test-client\":\"\",\n",
    " \"origin\":\"\",\n",
    " \"sec-fetch-site\":\"\",\n",
    " \"sec-fetch-mode\":\"\",\n",
    " \"sec-fetch-dest\":\"\",\n",
    " \"referer\":\"\",\n",
    " \"accept-encoding\":\"\",\n",
    " \"priority\":\"\",\n",
    "#  \"cookie\":\"\",\n",
    " }"
   ]
  },
  {
   "cell_type": "code",
   "execution_count": null,
   "metadata": {},
   "outputs": [],
   "source": [
    "fetch(\"https://www.realtor.com/api/v1/rdc_search_srp?client_id=rdc-search-for-sale-search&schema=vesta\", {\n",
    "  \"headers\": {\n",
    "    \"accept\": \"application/json, text/javascript\",\n",
    "    \"accept-language\": \"en\",\n",
    "    \"content-type\": \"application/json\",\n",
    "    \"priority\": \"u=1, i\",\n",
    "    \"rdc-ab-test-client\": \"rdc-search-for-sale\",\n",
    "    \"rdc-ab-tests\": \"commute_travel_time_variation:v1\",\n",
    "    \"sec-ch-ua\": \"\\\"(Not(A:Brand\\\";v=\\\"99\\\", \\\"Google Chrome\\\";v=\\\"127\\\", \\\"Chromium\\\";v=\\\"127\\\"\",\n",
    "    \"sec-ch-ua-full-version-list\": \"\\\"(Not(A:Brand\\\";v=\\\"99.0.0.0\\\", \\\"Google Chrome\\\";v=\\\"127\\\", \\\"Chromium\\\";v=\\\"127\\\"\",\n",
    "    \"sec-ch-ua-mobile\": \"?0\",\n",
    "    \"sec-ch-ua-platform\": \"\\\"Windows\\\"\",\n",
    "    \"sec-fetch-dest\": \"empty\",\n",
    "    \"sec-fetch-mode\": \"cors\",\n",
    "    \"sec-fetch-site\": \"same-origin\"\n",
    "  },\n",
    "  \"referrer\": \"https://www.realtor.com/realestateandhomes-search/Nebraska/pg-2\",\n",
    "  \"referrerPolicy\": \"strict-origin-when-cross-origin\",\n",
    "  \"body\": \"{\\\"query\\\":\\\"\\\\n  query ConsumerSearchQuery(\\\\n    $query: HomeSearchCriteria!\\\\n    $limit: Int\\\\n    $offset: Int\\\\n    $search_promotion: SearchPromotionInput\\\\n    $sort: [SearchAPISort]\\\\n    $sort_type: SearchSortType\\\\n    $client_data: JSON\\\\n    $bucket: SearchAPIBucket\\\\n    $mortgage_params: MortgageParamsInput\\\\n  ) {\\\\n    home_search: home_search(\\\\n      query: $query\\\\n      sort: $sort\\\\n      limit: $limit\\\\n      offset: $offset\\\\n      sort_type: $sort_type\\\\n      client_data: $client_data\\\\n      bucket: $bucket\\\\n      search_promotion: $search_promotion\\\\n      mortgage_params: $mortgage_params\\\\n    ) {\\\\n      count\\\\n      total\\\\n      search_promotion {\\\\n        names\\\\n        slots\\\\n        promoted_properties {\\\\n          id\\\\n          from_other_page\\\\n        }\\\\n      }\\\\n      mortgage_params {\\\\n        interest_rate\\\\n      }\\\\n      properties: results {\\\\n        property_id\\\\n        list_price\\\\n        search_promotions {\\\\n          name\\\\n          asset_id\\\\n        }\\\\n        primary_photo(https: true) {\\\\n          href\\\\n        }\\\\n        rent_to_own {\\\\n          right_to_purchase\\\\n          rent\\\\n        }\\\\n        listing_id\\\\n        matterport\\\\n        virtual_tours {\\\\n          href\\\\n          type\\\\n        }\\\\n        status\\\\n        products {\\\\n          products\\\\n          brand_name\\\\n        }\\\\n        source {\\\\n          id\\\\n          type\\\\n          spec_id\\\\n          plan_id\\\\n          agents {\\\\n            office_name\\\\n          }\\\\n        }\\\\n        lead_attributes {\\\\n          show_contact_an_agent\\\\n          opcity_lead_attributes {\\\\n            cashback_enabled\\\\n            flip_the_market_enabled\\\\n          }\\\\n          lead_type\\\\n          ready_connect_mortgage {\\\\n            show_contact_a_lender\\\\n            show_veterans_united\\\\n          }\\\\n        }\\\\n        community {\\\\n          description {\\\\n            name\\\\n          }\\\\n          property_id\\\\n          permalink\\\\n          advertisers {\\\\n            office {\\\\n              hours\\\\n              phones {\\\\n                type\\\\n                number\\\\n                primary\\\\n                trackable\\\\n              }\\\\n            }\\\\n          }\\\\n          promotions {\\\\n            description\\\\n            href\\\\n            headline\\\\n          }\\\\n        }\\\\n        permalink\\\\n        price_reduced_amount\\\\n        description {\\\\n          name\\\\n          beds\\\\n          baths_consolidated\\\\n          sqft\\\\n          lot_sqft\\\\n          baths_max\\\\n          baths_min\\\\n          beds_min\\\\n          beds_max\\\\n          sqft_min\\\\n          sqft_max\\\\n          type\\\\n          sub_type\\\\n          sold_price\\\\n          sold_date\\\\n        }\\\\n        location {\\\\n          street_view_url\\\\n          address {\\\\n            line\\\\n            postal_code\\\\n            state\\\\n            state_code\\\\n            city\\\\n            coordinate {\\\\n              lat\\\\n              lon\\\\n            }\\\\n          }\\\\n          county {\\\\n            name\\\\n            fips_code\\\\n          }\\\\n        }\\\\n        open_houses {\\\\n          start_date\\\\n          end_date\\\\n        }\\\\n        branding {\\\\n          type\\\\n          name\\\\n          photo\\\\n        }\\\\n        flags {\\\\n          is_coming_soon\\\\n          is_new_listing(days: 14)\\\\n          is_price_reduced(days: 30)\\\\n          is_foreclosure\\\\n          is_new_construction\\\\n          is_pending\\\\n          is_contingent\\\\n        }\\\\n        list_date\\\\n        photos(limit: 2, https: true) {\\\\n          href\\\\n        }\\\\n        advertisers {\\\\n          type\\\\n          builder {\\\\n            name\\\\n            href\\\\n            logo\\\\n          }\\\\n        }\\\\n      }\\\\n    }\\\\n\\\\n    commute_polygon: get_commute_polygon(query: $query) {\\\\n      areas {\\\\n        id\\\\n        breakpoints {\\\\n          width\\\\n          height\\\\n          zoom\\\\n        }\\\\n        radius\\\\n        center {\\\\n          lat\\\\n          lng\\\\n        }\\\\n      }\\\\n      boundary\\\\n    }\\\\n  }\\\\n\\\",\\\"variables\\\":{\\\"geoSupportedSlug\\\":\\\"\\\",\\\"query\\\":{\\\"primary\\\":true,\\\"status\\\":[\\\"for_sale\\\",\\\"ready_to_build\\\"],\\\"search_location\\\":{\\\"location\\\":\\\"Nebraska\\\"}},\\\"client_data\\\":{\\\"device_data\\\":{\\\"device_type\\\":\\\"desktop\\\"}},\\\"limit\\\":42,\\\"offset\\\":42,\\\"sort_type\\\":\\\"relevant\\\"},\\\"isClient\\\":true,\\\"visitor_id\\\":\\\"d3615d1c-7274-475e-8008-20b911eaab1b\\\"}\",\n",
    "  \"method\": \"POST\",\n",
    "  \"mode\": \"cors\",\n",
    "  \"credentials\": \"include\"\n",
    "});"
   ]
  },
  {
   "cell_type": "code",
   "execution_count": null,
   "metadata": {},
   "outputs": [],
   "source": [
    "{\n",
    "    \"accept\": \"application/json, text/javascript\",\n",
    "    \"accept-language\": \"en\",\n",
    "    \"content-type\": \"application/json\",\n",
    "    \"priority\": \"u=1, i\",\n",
    "    \"rdc-ab-test-client\": \"rdc-search-for-sale\",\n",
    "    \"rdc-ab-tests\": \"commute_travel_time_variation:v1\",\n",
    "    \"sec-ch-ua\": \"\\\"(Not(A:Brand\\\";v=\\\"99\\\", \\\"Google Chrome\\\";v=\\\"127\\\", \\\"Chromium\\\";v=\\\"127\\\"\",\n",
    "    \"sec-ch-ua-full-version-list\": \"\\\"(Not(A:Brand\\\";v=\\\"99.0.0.0\\\", \\\"Google Chrome\\\";v=\\\"127\\\", \\\"Chromium\\\";v=\\\"127\\\"\",\n",
    "    \"sec-ch-ua-mobile\": \"?0\",\n",
    "    \"sec-ch-ua-platform\": \"\\\"Windows\\\"\",\n",
    "    \"sec-fetch-dest\": \"empty\",\n",
    "    \"sec-fetch-mode\": \"cors\",\n",
    "    \"sec-fetch-site\": \"same-origin\"\n",
    "  }"
   ]
  },
  {
   "cell_type": "code",
   "execution_count": null,
   "metadata": {},
   "outputs": [],
   "source": [
    "headers={'accept': 'application/json, text/javascript',\n",
    " 'accept-encoding': 'gzip, deflate, br, zstd',\n",
    " 'accept-language': 'en-US,en;q=0.9',\n",
    " 'content-length': '4319',\n",
    " 'content-type': 'application/json',\n",
    "'origin': 'https://www.realtor.com',\n",
    " 'priority': 'u=1, i',\n",
    " 'rdc-ab-test-client': 'rdc-search-for-sale',\n",
    " 'rdc-ab-tests': 'commute_travel_time_variation:v1',\n",
    " 'sec-fetch-dest': 'empty',\n",
    " 'sec-fetch-mode': 'cors',\n",
    " 'sec-fetch-site': 'same-origin',\n",
    " 'user-agent': 'Mozilla/5.0 (Macintosh; Intel Mac OS X 10_15_7) '\n",
    "               'AppleWebKit/537.36 (KHTML, like Gecko) Chrome/122.0.0.0 '\n",
    "               'Safari/537.36'}\n",
    "{'content-length': '4319', 'content-type': 'application/json', 'accept': 'application/json, text/javascript', 'accept-language': 'en-US,en;q=0.9', 'user-agent': 'Mozilla/5.0 (Macintosh; Intel Mac OS X 10_15_7) AppleWebKit/537.36 (KHTML, like Gecko) Chrome/122.0.0.0 Safari/537.36', 'rdc-ab-tests': 'commute_travel_time_variation:v1', 'rdc-ab-test-client': 'rdc-search-for-sale', 'origin': 'https://www.realtor.com', 'sec-fetch-site': 'same-origin', 'sec-fetch-mode': 'cors', 'sec-fetch-dest': 'empty', 'referer': 'https://www.realtor.com/realestateandhomes-search/Alabama/show-recently-sold/pg-2', 'accept-encoding': 'gzip, deflate, br, zstd', 'priority': 'u=1, i', 'cookie': 'split=n; split_tcv=172; __ssn=2e1abc00-191f-4820-bf77-d54ab91095d5; __ssnstarttime=1725027470; __vst=444cfc24-e76c-4a60-927e-1acce6de8676; __bot=false; criteria=sprefix%3D%252Fnewhomecommunities%26area_type%3Dstate%26pg%3D1%26state_code%3DAL%26state%3DAlabama%26state_id%3DAL%26loc%3DAlabama%26locSlug%3DAlabama; isAuth0EnabledOnGnav=C1; ab.storage.userId.7cc9d032-9d6d-44cf-a8f5-d276489af322=g%3Avisitor_444cfc24-e76c-4a60-927e-1acce6de8676%7Ce%3Aundefined%7Cc%3A1725027477687%7Cl%3A1725027477690; ab.storage.deviceId.7cc9d032-9d6d-44cf-a8f5-d276489af322=g%3Ab53b9f8e-6b91-d931-c269-cc39bb1afc25%7Ce%3Aundefined%7Cc%3A1725027477692%7Cl%3A1725027477692; permutive-id=21cda18e-a3e7-4164-86e5-394ba13fea9f; _pbjs_userid_consent_data=3524755945110770; AMCVS_8853394255142B6A0A4C98A4%40AdobeOrg=1; s_ecid=MCMID%7C04522235474655785973072698409869076013; AMCV_8853394255142B6A0A4C98A4%40AdobeOrg=-1124106680%7CMCIDTS%7C19966%7CMCMID%7C04522235474655785973072698409869076013%7CMCAAMLH-1725632283%7C6%7CMCAAMB-1725632283%7C6G1ynYcLPuiQxYZrsz_pkqfLG9yMXBpb2zX5dvJdYQJzPXImdj0y%7CMCOPTOUT-1725034684s%7CNONE%7CMCAID%7CNONE%7CvVersion%7C5.2.0; pxcts=abc56d42-66da-11ef-9e94-d4a1deecc17b; _pxvid=abc561bd-66da-11ef-9e94-f0849078b5d8; _ncg_sp_ses.cc72=*; _ncg_id_=4ed372dd-2c2e-4948-8854-3d004af20835; __split=20; _ncg_sp_id.cc72=4ed372dd-2c2e-4948-8854-3d004af20835.1725027487.1.1725027488.1725027487.0076f713-8a65-4da3-8ead-ab3a96b781a7; _lr_retry_request=true; _lr_env_src_ats=false; __gads=ID=33c80054c8d6a8d4:T=1725027492:RT=1725027492:S=ALNI_MYsf_3Rj1WdhTNh8Ve-cF6zTwdjug; __gpi=UID=00000ee2fad2ffa0:T=1725027492:RT=1725027492:S=ALNI_MaR6NVXUulKOnq0EPls3FCgh6MMpw; __eoi=ID=3812399b8d5e3ff9:T=1725027492:RT=1725027492:S=AA-AfjakvYgLYtCULyhwiWMieZVN; _lr_sampling_rate=0; panoramaId_expiry=1725632293895; _cc_id=3a13a47b5cec9d164d789d22eb1bc155; panoramaId=e903bb5c2974da881c3f2c8ab40c185ca02cd1247bd6e423c80dcb3104cebb03; _tac=false~self|not-available; _ta=us~1~89df68bc35032d48c293adce8574aa42; _tas=8w0mpd1waen; _rdt_uuid=1725027500652.76442c3c-c67c-44ca-aa21-68cb3be7d120; _ncg_domain_id_=4ed372dd-2c2e-4948-8854-3d004af20835.1.1725027486868.1788099486868; _px3=1dc4b2c5d0cbadfe960c341a3129580f0bd3cc2735f98a3c73877d83b676acbc:DgrRiJzfxwnu84LHPqiFy5nfgOceY3IsWxwJWJFlvv3675IQ6XaP5q4Qidrf7Zijx0VaUqeE+0+oAZ866GV1bw==:1000:AqXBD/K8xWMSn2Ygkj0lqi/WlTjmjBYkNySWtVXeXnMx8GmSdnWaDQ7Uqfyfee98sxZlmlqyrYn8jw71HsvFIebX/UCZ6yJUwqi7ipthqKn5WEVPkTstOpbNudItO0yoh+ofUKibAKWFe2gzpnXhiHhFGmq2PjjsmX/09oGil74F1AJv9795HBQNGSG29HKJaklrdjDCS35GtcOvnVkiqZwG06ha+3veEY36vQTV29g=; _tt_enable_cookie=1; _ttp=mNzlNeJTuUBOCla_GHH4wUA8c50; __qca=P0-76260210-1725027487847; _ncg_g_id_=05cf3d94-0043-494d-b163-2443b3a61dd5.3.1725027513.1788099486868; adcloud={%22_les_v%22:%22c%2Cy%2Crealtor.com%2C1725029322%22}; AMCVS_AMCV_8853394255142B6A0A4C98A4%40AdobeOrg=1; AMCV_AMCV_8853394255142B6A0A4C98A4%40AdobeOrg=-1124106680%7CMCMID%7C04522235474655785973072698409869076013%7CMCIDTS%7C19966%7CMCOPTOUT-1725034722s%7CNONE%7CvVersion%7C5.2.0; ajs_anonymous_id=09f16d6b-555e-4e57-b905-8d1d826bb826; _uetsid=ca1ef4c066da11ef9a267135425205cd|e3zg1s|2|for|0|1703; _uetvid=ca1f0aa066da11ef899a97e3745e17ce|11fzgz4|1725027537214|1|1|bat.bing.com/p/insights/c/p; mdLogger=false; kampyle_userid=247f-111a-b0b1-f080-a9a2-4449-1cac-06b3; kampyleUserSession=1725027543758; kampyleUserSessionsCount=1; kampyleUserPercentile=37.67580143601206; cto_bundle=GOUIjl9PeWU5eEhZcUYxMWxvRm42SGJmYiUyRkJGdGZGa01BYzFNVHVWczJneG9LODlKd1Naa0x5OEJCS1ZqZmxTZHdFUm9PYzZmbXdTa1cwJTJGJTJGS2xtMDBjdUt1N2VjTE1vbFN0a1cySVdITWpydXpsRjJqYmlLVGt6WmdHbnhZeU1GdnJaYlJFNUdPNlNpUWp0ajFxZlFEaVVnemclM0QlM0Q; kampyleSessionPageCounter=2; ab.storage.sessionId.7cc9d032-9d6d-44cf-a8f5-d276489af322=g%3A3ef43c5d-af52-e3f9-345d-3b4b4654efba%7Ce%3A1725029380430%7Cc%3A1725027477689%7Cl%3A1725027580430'}"
   ]
  },
  {
   "cell_type": "code",
   "execution_count": 9,
   "metadata": {},
   "outputs": [],
   "source": [
    "rheaders = [\n",
    "    {\n",
    "        \"referer\": \"https://www.realtor.com/realestateandhomes-search/alaska/nc-hide/dom-1/pg-1\"\n",
    "    },\n",
    "    \"{\\\"query\\\":\\\"\\\\n  query ConsumerSearchQuery(\\\\n    $query: HomeSearchCriteria!\\\\n    $limit: Int\\\\n    $offset: Int\\\\n    $search_promotion: SearchPromotionInput\\\\n    $sort: [SearchAPISort]\\\\n    $sort_type: SearchSortType\\\\n    $client_data: JSON\\\\n    $bucket: SearchAPIBucket\\\\n  ) {\\\\n    home_search: home_search(\\\\n      query: $query\\\\n      sort: $sort\\\\n      limit: $limit\\\\n      offset: $offset\\\\n      sort_type: $sort_type\\\\n      client_data: $client_data\\\\n      bucket: $bucket\\\\n      search_promotion: $search_promotion\\\\n    ) {\\\\n      count\\\\n      total\\\\n      search_promotion {\\\\n        name\\\\n        slots\\\\n        promoted_properties {\\\\n          id\\\\n          from_other_page\\\\n        }\\\\n      }\\\\n      properties: results {\\\\n        property_id\\\\n        list_price\\\\n        search_promotions {\\\\n          name\\\\n          asset_id\\\\n        }\\\\n        primary_photo(https: true) {\\\\n          href\\\\n        }\\\\n        rent_to_own {\\\\n          right_to_purchase\\\\n          rent\\\\n        }\\\\n        listing_id\\\\n        matterport\\\\n        virtual_tours {\\\\n          href\\\\n          type\\\\n        }\\\\n        status\\\\n        products {\\\\n          products\\\\n          brand_name\\\\n        }\\\\n        source {\\\\n          id\\\\n          type\\\\n          spec_id\\\\n          plan_id\\\\n          agents {\\\\n            office_name\\\\n          }\\\\n        }\\\\n        lead_attributes {\\\\n          show_contact_an_agent\\\\n          opcity_lead_attributes {\\\\n            cashback_enabled\\\\n            flip_the_market_enabled\\\\n          }\\\\n          lead_type\\\\n          ready_connect_mortgage {\\\\n            show_contact_a_lender\\\\n            show_veterans_united\\\\n          }\\\\n        }\\\\n        community {\\\\n          description {\\\\n            name\\\\n          }\\\\n          property_id\\\\n          permalink\\\\n          advertisers {\\\\n            office {\\\\n              hours\\\\n              phones {\\\\n                type\\\\n                number\\\\n                primary\\\\n                trackable\\\\n              }\\\\n            }\\\\n          }\\\\n          promotions {\\\\n            description\\\\n            href\\\\n            headline\\\\n          }\\\\n        }\\\\n        permalink\\\\n        price_reduced_amount\\\\n        description {\\\\n          name\\\\n          beds\\\\n          baths_consolidated\\\\n          sqft\\\\n          lot_sqft\\\\n          baths_max\\\\n          baths_min\\\\n          beds_min\\\\n          beds_max\\\\n          sqft_min\\\\n          sqft_max\\\\n          type\\\\n          sub_type\\\\n          sold_price\\\\n          sold_date\\\\n        }\\\\n        location {\\\\n          address {\\\\n            line\\\\n            postal_code\\\\n            state\\\\n            state_code\\\\n            city\\\\n            coordinate {\\\\n              lat\\\\n              lon\\\\n            }\\\\n          }\\\\n          county {\\\\n            name\\\\n            fips_code\\\\n          }\\\\n        }\\\\n        open_houses {\\\\n          start_date\\\\n          end_date\\\\n        }\\\\n        branding {\\\\n          type\\\\n          name\\\\n          photo\\\\n        }\\\\n        flags {\\\\n          is_coming_soon\\\\n          is_new_listing(days: 1)\\\\n          is_price_reduced(days: 1)\\\\n          is_foreclosure\\\\n          is_new_construction\\\\n          is_pending\\\\n          is_contingent\\\\n        }\\\\n        list_date\\\\n        photos(limit: 2, https: true) {\\\\n          href\\\\n        }\\\\n      }\\\\n    }\\\\n  }\\\\n\\\",\\\"variables\\\":{\\\"geoSupportedSlug\\\":\\\"\\\",\\\"query\\\":{\\\"primary\\\":true,\\\"status\\\":[\\\"for_sale\\\"],\\\"search_location\\\":{\\\"location\\\":\\\"alaska\\\"},\\\"new_construction\\\":false,\\\"list_date\\\":{\\\"min\\\":\\\"2024-07-26\\\"}},\\\"client_data\\\":{\\\"device_data\\\":{\\\"device_type\\\":\\\"desktop\\\"}},\\\"limit\\\":42,\\\"offset\\\":0,\\\"sort_type\\\":\\\"relevant\\\"},\\\"seoPayload\\\":{\\\"asPath\\\":\\\"/realestateandhomes-search/alaska\\\",\\\"pageType\\\":{\\\"silo\\\":\\\"search_result_page\\\",\\\"status\\\":\\\"for_sale\\\"},\\\"county_needed_for_uniq\\\":false,\\\"isFaqSupport\\\":false}}\"\n",
    "]"
   ]
  },
  {
   "cell_type": "code",
   "execution_count": 2,
   "metadata": {},
   "outputs": [],
   "source": [
    "url = \"https://www.realtor.com/api/v1/rdc_search_srp?client_id=rdc-search-for-sale-search&schema=vesta\"\n"
   ]
  },
  {
   "cell_type": "code",
   "execution_count": 19,
   "metadata": {},
   "outputs": [],
   "source": [
    "with open('realtor/scraping_headers.json',\"r\") as f:\n",
    "    headers = json.load(f)"
   ]
  },
  {
   "cell_type": "code",
   "execution_count": null,
   "metadata": {},
   "outputs": [],
   "source": [
    "pip install fake_useragent"
   ]
  },
  {
   "cell_type": "code",
   "execution_count": null,
   "metadata": {},
   "outputs": [],
   "source": []
  },
  {
   "cell_type": "code",
   "execution_count": 17,
   "metadata": {},
   "outputs": [],
   "source": []
  },
  {
   "cell_type": "code",
   "execution_count": 25,
   "metadata": {},
   "outputs": [],
   "source": []
  },
  {
   "cell_type": "code",
   "execution_count": null,
   "metadata": {},
   "outputs": [],
   "source": []
  },
  {
   "cell_type": "code",
   "execution_count": 20,
   "metadata": {},
   "outputs": [],
   "source": [
    "h = headers\n",
    "h[\"referer\"] = rheaders[0][\"referer\"]\n",
    "h[\"referer\"] = \"https://www.realtor.com/realestateandhomes-search/alaska/nc-hide/dom-1/pg-150\"\n",
    "del h[\"cookie\"]\n",
    "h[\"user-agent\"] = ua.random"
   ]
  },
  {
   "cell_type": "code",
   "execution_count": null,
   "metadata": {},
   "outputs": [],
   "source": [
    "h"
   ]
  },
  {
   "cell_type": "code",
   "execution_count": 22,
   "metadata": {},
   "outputs": [],
   "source": [
    "response = requests.post(url, headers= h, data=rheaders[1])"
   ]
  },
  {
   "cell_type": "code",
   "execution_count": null,
   "metadata": {},
   "outputs": [],
   "source": [
    "response.status_code"
   ]
  },
  {
   "cell_type": "code",
   "execution_count": null,
   "metadata": {},
   "outputs": [],
   "source": [
    "response.json()"
   ]
  },
  {
   "cell_type": "code",
   "execution_count": null,
   "metadata": {},
   "outputs": [],
   "source": [
    "fetch(\"https://www.realtor.com/api/v1/rdc_search_srp?client_id=rdc-search-for-sale-search&schema=vesta\", {\n",
    "  \"headers\": {\n",
    "    \"accept\": \"application/json, text/javascript\",\n",
    "    \"accept-language\": \"en\",\n",
    "    \"content-type\": \"application/json\",\n",
    "    \"priority\": \"u=1, i\",\n",
    "    \"rdc-ab-test-client\": \"rdc-search-for-sale\",\n",
    "    \"rdc-ab-tests\": \"commute_travel_time_variation:v1\",\n",
    "    \"sec-ch-ua\": \"\\\"(Not(A:Brand\\\";v=\\\"99\\\", \\\"Google Chrome\\\";v=\\\"126\\\", \\\"Chromium\\\";v=\\\"126\\\"\",\n",
    "    \"sec-ch-ua-full-version-list\": \"\\\"(Not(A:Brand\\\";v=\\\"99.0.0.0\\\", \\\"Google Chrome\\\";v=\\\"126\\\", \\\"Chromium\\\";v=\\\"126\\\"\",\n",
    "    \"sec-ch-ua-mobile\": \"?0\",\n",
    "    \"sec-ch-ua-platform\": \"\\\"Windows\\\"\",\n",
    "    \"sec-fetch-dest\": \"empty\",\n",
    "    \"sec-fetch-mode\": \"cors\",\n",
    "    \"sec-fetch-site\": \"same-origin\",\n",
    "    # \"cookie\": \"split=n; split_tcv=108; __vst=aa779f4c-d356-4f6f-9da4-f8c078b44c38; __ssn=7a357792-3f7d-4c74-8d21-773989e8dc0d; __ssnstarttime=1725030233; __bot=false; isAuth0EnabledOnGnav=C1; pxcts=131915c8-66e1-11ef-8e2e-c4f1744447c0; _pxvid=1318b3e9-66e1-11ef-8e2c-47c84256fbf0; ab.storage.userId.7cc9d032-9d6d-44cf-a8f5-d276489af322=g%3Avisitor_aa779f4c-d356-4f6f-9da4-f8c078b44c38%7Ce%3Aundefined%7Cc%3A1725030235112%7Cl%3A1725030235116; ab.storage.deviceId.7cc9d032-9d6d-44cf-a8f5-d276489af322=g%3A317ebc40-59b3-d40a-4f3a-304fbd776957%7Ce%3Aundefined%7Cc%3A1725030235118%7Cl%3A1725030235118; permutive-id=016124b7-1dd2-48b6-9d11-2a2d17f9b0be; _pbjs_userid_consent_data=3524755945110770; AMCVS_8853394255142B6A0A4C98A4%40AdobeOrg=1; G_ENABLED_IDPS=google; _ncg_sp_ses.cc72=*; _ncg_id_=8b432aea-de6e-44ed-b8e6-4790ddd453f4; __split=66; s_ecid=MCMID%7C43646740548256203260379200065780060701; AMCV_8853394255142B6A0A4C98A4%40AdobeOrg=-1124106680%7CMCIDTS%7C19966%7CMCMID%7C43646740548256203260379200065780060701%7CMCAAMLH-1725635035%7C6%7CMCAAMB-1725635035%7C6G1ynYcLPuiQxYZrsz_pkqfLG9yMXBpb2zX5dvJdYQJzPXImdj0y%7CMCOPTOUT-1725037436s%7CNONE%7CMCAID%7CNONE%7CMCSYNCSOP%7C411-19973%7CvVersion%7C5.2.0; _fbp=fb.1.1725030236678.378570343977864522; __gads=ID=307393ed4f729019:T=1725030236:RT=1725030236:S=ALNI_MbZ_CTNahCjbwXf-lGrvJ8n4c8JUw; __gpi=UID=00000ee2fc2e2de5:T=1725030236:RT=1725030236:S=ALNI_MZY88xhz5Q4qPoiHjITLVFXyRs9VA; __eoi=ID=36d1f592c19e5d1b:T=1725030236:RT=1725030236:S=AA-AfjYF9wiVAowDIr37tuVBpqYC; ajs_anonymous_id=28976776-72a2-47df-9b22-891ffb836a19; _lr_retry_request=true; _lr_env_src_ats=false; _gcl_au=1.1.1667665595.1725030241; _gid=GA1.2.745488601.1725030241; panoramaId_expiry=1725116640983; _cc_id=77b9048e6115977b754a1b9e823e348a; _lr_sampling_rate=100; _ncg_domain_id_=8b432aea-de6e-44ed-b8e6-4790ddd453f4.1.1725030235856.1788102235856; __qca=P0-2113949150-1725030235963; _ncg_g_id_=1ce51a5b-2e83-47b7-96d4-ca6c3e5379b5.1.1725030246.1788102235856; AMCVS_AMCV_8853394255142B6A0A4C98A4%40AdobeOrg=1; AMCV_AMCV_8853394255142B6A0A4C98A4%40AdobeOrg=-1124106680%7CMCMID%7C43646740548256203260379200065780060701%7CMCIDTS%7C19966%7CMCOPTOUT-1725037446s%7CNONE%7CvVersion%7C5.2.0; adcloud={%22_les_v%22:%22c%2Cy%2Crealtor.com%2C1725032046%22}; mdLogger=false; kampyle_userid=bf5b-b42d-85e2-e961-c8f2-be77-666e-fec0; kampyleUserSession=1725030246824; kampyleUserSessionsCount=1; srchID=5efd6c7059904aaf8e869e8c44be55f9; kn_cs_visitor_id=f0463062-f72b-46b8-9e69-25b3f245de6f; _ncg_sp_id.cc72=8b432aea-de6e-44ed-b8e6-4790ddd453f4.1725030236.1.1725030257.1725030236.fa1487a7-2008-4364-b90f-e8caff3e0249; __gsas=ID=075953ceb9917b66:T=1725030255:RT=1725030255:S=ALNI_MY9n6MC_NAbJ9n-fmieH4of2tE8ng; _px3=887155c42dc242f4e0131b7689cb85c24479580df6a1df8fc8385ed883f09996:R7q7A0TFi+CtosFHBWk9jnonkMnxhBfCea+M7sthZNTwX6jsblb9x/HK+6P7gKpjP0SSjECw2h6XEzFoZGztRQ==:1000:6HL4v+laOuDmWb1wu7AvIRHNlYP2F6SBcHxdgOeWJmhRJmZ8AekYBtG1mex41wZfXyiM5ITEFmzcsbVkZF3o58FGW7gjpQ+Ojydvct4SHjl+dy18TJrEoheti2Is4lmUAOuYoB8FIg2ID6ug4BofAi4uosWvQjN9plQ6+3FVx0uxiBmzd8qZltiE7t+CRYlWcph+zi6n/B1HL2zyNr2De9qeNwgbU+VsGXWpi/jTvgI=; _ga=GA1.1.1027841357.1725030241; kampyleUserPercentile=38.62207129434345; cto_bundle=JLsQaV85akJQNjlEcnBHeUZnaHZmeWhXNklFcGp2aFQ3M3RBOVdFb2JTelU0dUkyMzQwaWJselVqaG5vSmxwZjh0ZlhIdkVyUkQ2dW1Najc4NDVvN3Q3M2ZGTDgxJTJCaWVSNTRWYnJUSTBMREZReEU0MXFDJTJGTTFyOExZcWElMkZqYlRaS2YxVA; _uetsid=14fa0cf066e111ef881cc303a58233a8|tarw9c|2|for|0|1703; _uetvid=14fa3fa066e111efb762c3f7e33d3d3b|3diojw|1725030280666|4|1|bat.bing.com/p/insights/c/p; criteria=sprefix%3D%252Fnewhomecommunities%26area_type%3Dstate%26pg%3D2%26state_code%3DNJ%26state%3DNew%2520Jersey%26state_id%3DNJ%26loc%3DNew%2520Jersey%26locSlug%3DNew-Jersey; _ga_MS5EHT6J6V=GS1.1.1725030241.1.1.1725030300.0.0.0; kampyleSessionPageCounter=4; ab.storage.sessionId.7cc9d032-9d6d-44cf-a8f5-d276489af322=g%3A7be270a4-589d-b519-7c8c-2abf6da62e93%7Ce%3A1725032106779%7Cc%3A1725030235114%7Cl%3A1725030306779\",\n",
    "    \"Referer\": \"https://www.realtor.com/realestateandhomes-search/New-Jersey/pg-3\",\n",
    "    \"Referrer-Policy\": \"strict-origin-when-cross-origin\"\n",
    "  },\n",
    "  \"body\": \"{\\\"query\\\":\\\"\\\\n  query ConsumerSearchQuery(\\\\n    $query: HomeSearchCriteria!\\\\n    $limit: Int\\\\n    $offset: Int\\\\n    $search_promotion: SearchPromotionInput\\\\n    $sort: [SearchAPISort]\\\\n    $sort_type: SearchSortType\\\\n    $client_data: JSON\\\\n    $bucket: SearchAPIBucket\\\\n    $mortgage_params: MortgageParamsInput\\\\n  ) {\\\\n    home_search: home_search(\\\\n      query: $query\\\\n      sort: $sort\\\\n      limit: $limit\\\\n      offset: $offset\\\\n      sort_type: $sort_type\\\\n      client_data: $client_data\\\\n      bucket: $bucket\\\\n      search_promotion: $search_promotion\\\\n      mortgage_params: $mortgage_params\\\\n    ) {\\\\n      count\\\\n      total\\\\n      search_promotion {\\\\n        names\\\\n        slots\\\\n        promoted_properties {\\\\n          id\\\\n          from_other_page\\\\n        }\\\\n      }\\\\n      mortgage_params {\\\\n        interest_rate\\\\n      }\\\\n      properties: results {\\\\n        property_id\\\\n        list_price\\\\n        search_promotions {\\\\n          name\\\\n          asset_id\\\\n        }\\\\n        primary_photo(https: true) {\\\\n          href\\\\n        }\\\\n        rent_to_own {\\\\n          right_to_purchase\\\\n          rent\\\\n        }\\\\n        listing_id\\\\n        matterport\\\\n        virtual_tours {\\\\n          href\\\\n          type\\\\n        }\\\\n        status\\\\n        products {\\\\n          products\\\\n          brand_name\\\\n        }\\\\n        source {\\\\n          id\\\\n          type\\\\n          spec_id\\\\n          plan_id\\\\n          agents {\\\\n            office_name\\\\n          }\\\\n        }\\\\n        lead_attributes {\\\\n          show_contact_an_agent\\\\n          opcity_lead_attributes {\\\\n            cashback_enabled\\\\n            flip_the_market_enabled\\\\n          }\\\\n          lead_type\\\\n          ready_connect_mortgage {\\\\n            show_contact_a_lender\\\\n            show_veterans_united\\\\n          }\\\\n        }\\\\n        community {\\\\n          description {\\\\n            name\\\\n          }\\\\n          property_id\\\\n          permalink\\\\n          advertisers {\\\\n            office {\\\\n              hours\\\\n              phones {\\\\n                type\\\\n                number\\\\n                primary\\\\n                trackable\\\\n              }\\\\n            }\\\\n          }\\\\n          promotions {\\\\n            description\\\\n            href\\\\n            headline\\\\n          }\\\\n        }\\\\n        permalink\\\\n        price_reduced_amount\\\\n        description {\\\\n          name\\\\n          beds\\\\n          baths_consolidated\\\\n          sqft\\\\n          lot_sqft\\\\n          baths_max\\\\n          baths_min\\\\n          beds_min\\\\n          beds_max\\\\n          sqft_min\\\\n          sqft_max\\\\n          type\\\\n          sub_type\\\\n          sold_price\\\\n          sold_date\\\\n        }\\\\n        location {\\\\n          street_view_url\\\\n          address {\\\\n            line\\\\n            postal_code\\\\n            state\\\\n            state_code\\\\n            city\\\\n            coordinate {\\\\n              lat\\\\n              lon\\\\n            }\\\\n          }\\\\n          county {\\\\n            name\\\\n            fips_code\\\\n          }\\\\n        }\\\\n        open_houses {\\\\n          start_date\\\\n          end_date\\\\n        }\\\\n        branding {\\\\n          type\\\\n          name\\\\n          photo\\\\n        }\\\\n        flags {\\\\n          is_coming_soon\\\\n          is_new_listing(days: 14)\\\\n          is_price_reduced(days: 30)\\\\n          is_foreclosure\\\\n          is_new_construction\\\\n          is_pending\\\\n          is_contingent\\\\n        }\\\\n        list_date\\\\n        photos(limit: 2, https: true) {\\\\n          href\\\\n        }\\\\n        advertisers {\\\\n          type\\\\n          builder {\\\\n            name\\\\n            href\\\\n            logo\\\\n          }\\\\n        }\\\\n      }\\\\n    }\\\\n\\\\n    commute_polygon: get_commute_polygon(query: $query) {\\\\n      areas {\\\\n        id\\\\n        breakpoints {\\\\n          width\\\\n          height\\\\n          zoom\\\\n        }\\\\n        radius\\\\n        center {\\\\n          lat\\\\n          lng\\\\n        }\\\\n      }\\\\n      boundary\\\\n    }\\\\n  }\\\\n\\\",\\\"variables\\\":{\\\"geoSupportedSlug\\\":\\\"\\\",\\\"query\\\":{\\\"primary\\\":true,\\\"status\\\":[\\\"for_sale\\\",\\\"ready_to_build\\\"],\\\"search_location\\\":{\\\"location\\\":\\\"New Jersey\\\"}},\\\"client_data\\\":{\\\"device_data\\\":{\\\"device_type\\\":\\\"desktop\\\"}},\\\"limit\\\":42,\\\"offset\\\":84,\\\"sort_type\\\":\\\"relevant\\\"},\\\"isClient\\\":true,\\\"visitor_id\\\":\\\"aa779f4c-d356-4f6f-9da4-f8c078b44c38\\\"}\",\n",
    "  \"method\": \"POST\"\n",
    "});"
   ]
  },
  {
   "cell_type": "code",
   "execution_count": null,
   "metadata": {},
   "outputs": [],
   "source": [
    "for k, v in request.headers.items():\n",
    "    k = k.decode()\n",
    "    if k in list(self.scraping_headers.keys()):\n",
    "        request.headers[k]= self.scraping_headers[k.lower()] "
   ]
  },
  {
   "cell_type": "code",
   "execution_count": null,
   "metadata": {},
   "outputs": [],
   "source": [
    "import scrapy\n",
    "from scrapy.http import JsonRequest\n",
    "from tanker.items import Listings_Request, Listings_Object\n",
    "from tanker.constants import R_PAYLOAD\n",
    "from itemadapter import ItemAdapter, is_item\n",
    "import jmespath\n",
    "import json\n",
    "import requests\n",
    "from pprint import pprint\n",
    "from tqdm import tqdm\n",
    "\n",
    "\n",
    "\n",
    "class PrimaryStageSpider(scrapy.Spider):\n",
    "    name = \"primary_stage\"\n",
    "    allowed_domains = [\"www.tanker.com\"]\n",
    "    start_urls = [\"https://www.tanker.com\"]\n",
    "    allowed_domains = [\"www.tanker.com\"]\n",
    "    WEBSITE =\"https://www.tanker.com\"\n",
    "    API = WEBSITE \n",
    "    RESULTS_PER_PAGE = 42\n",
    "    headers_status = False\n",
    "    pages_available:int\n",
    "    results_available:int\n",
    "    today_date:str\n",
    "\n",
    "    custom_settings = {\n",
    "        \"ITEM_PIPELINES\": {\n",
    "            'tanker.pipelines.PrimaryPipeline': 300,\n",
    "            },\n",
    "    }\n",
    "    requests_data=[]\n",
    "    \n",
    "\n",
    "    def __init__(self, crawler,today_date, primary_request_dict, state, state_code, listing_type, *args, **kwargs):\n",
    "        self.crawler = crawler\n",
    "        self.settings = self.crawler.settings\n",
    "        crawler.total_requests_count = 0\n",
    "        self.today_date = today_date\n",
    "        self.primary_request_dict = primary_request_dict\n",
    "        self.state = state\n",
    "        self.state_code = state_code\n",
    "        self.listing_type = listing_type\n",
    "        \n",
    "  \n",
    "    @classmethod\n",
    "    def from_crawler(cls, crawler, today_date, primary_request_dict, state, state_code, listing_type, *args, **kwargs):\n",
    "        spider = cls(crawler, today_date, primary_request_dict, state, state_code, listing_type, *args, **kwargs)\n",
    "        return spider\n",
    "                       \n",
    "    def start_requests(self):\n",
    "        headers, payload = self.configure_requests(1)\n",
    "        with open(\"first request test.json\", \"w\") as f:\n",
    "            json.dump([headers, payload],f)\n",
    "        yield scrapy.Request(url=self.API, headers=headers, body=payload, method=\"POST\", callback=self.run_requests, dont_filter=True)\n",
    "            \n",
    "    \n",
    "    def get_pages_available(self, response):  \n",
    "        self.results_available = response.json()[\"properties\"]\n",
    "        \n",
    "        if self.results_available%self.RESULTS_PER_PAGE == 0:\n",
    "            pages_available = int(self.results_available/self.RESULTS_PER_PAGE)\n",
    "        else:\n",
    "            pages_available = int((self.results_available/self.RESULTS_PER_PAGE)+1)\n",
    "        print(f\"    - found {self.results_available} {self.listing_type} properties in {pages_available} pages. \")    \n",
    "        return pages_available \n",
    "           \n",
    "    def configure_requests(self, page_number):\n",
    "        headers = {}\n",
    "        default_payload = self.primary_request_dict[self.listing_type][\"payload\"] \n",
    "        payload = default_payload\n",
    "        default_referer = self.primary_request_dict[self.listing_type][\"referer\"]\n",
    "        headers[\"referer\"] = default_referer\n",
    "        return headers, payload\n",
    "        \n",
    "    def run_requests(self,response):\n",
    "        if not self.requests_data:\n",
    "            pages_available = self.get_pages_available(response)\n",
    "            yield from self.get_listings_data(response)\n",
    "        self.crawler.total_requests_count = pages_available\n",
    "        for page_number in range(2,pages_available+1):\n",
    "            headers, payload = self.configure_requests(page_number)\n",
    "            yield scrapy.Request(url=self.API, headers=headers, body=payload, method=\"POST\", callback=self.get_listings_data, dont_filter=True)\n",
    "            # if page_number ==2:\n",
    "            #     break\n",
    "    \n",
    "    def get_listings_data(self, response):\n",
    "        j_listings = jmespath.search(\"properties\",response.json()) \n",
    "        for listing in j_listings:\n",
    "            listing_request_item = ItemAdapter(Listings_Request())\n",
    "            listing_request_item[\"link\"] = listing[\"link\"]\n",
    "            yield listing_request_item.item    "
   ]
  },
  {
   "cell_type": "code",
   "execution_count": null,
   "metadata": {},
   "outputs": [],
   "source": [
    "data = []\n",
    "for file in os.listdir(\"realtor/save_points\"):\n",
    "    if \"json\" in file:\n",
    "        with open(\"realtor/save_points/\"+file, \"r\") as f:\n",
    "            data+=json.load(f)\n",
    "df = pd.DataFrame(data)\n",
    "df.info()"
   ]
  },
  {
   "cell_type": "code",
   "execution_count": null,
   "metadata": {},
   "outputs": [],
   "source": [
    "df.drop_duplicates(inplace= True)\n",
    "df.info()"
   ]
  },
  {
   "cell_type": "code",
   "execution_count": null,
   "metadata": {},
   "outputs": [],
   "source": [
    "33*50"
   ]
  },
  {
   "cell_type": "code",
   "execution_count": null,
   "metadata": {},
   "outputs": [],
   "source": [
    "207"
   ]
  },
  {
   "cell_type": "code",
   "execution_count": null,
   "metadata": {},
   "outputs": [],
   "source": []
  },
  {
   "cell_type": "code",
   "execution_count": 3,
   "metadata": {},
   "outputs": [],
   "source": [
    "for file in os.listdir(\"realtor/crawls/primary_spider_job\"):\n",
    "    # os.remove(\"realtor/crawls/primary_spider_job/\"+file)\n",
    "    # if \"secondary\" in file:\n",
    "    print(file)"
   ]
  },
  {
   "cell_type": "code",
   "execution_count": null,
   "metadata": {},
   "outputs": [],
   "source": [
    "for file in os.listdir(\"realtor/save_points\"):\n",
    "    os.remove(\"realtor/save_points/\"+file)\n",
    "    # if \"secondary\" in file:\n",
    "    #     print(file)"
   ]
  },
  {
   "cell_type": "code",
   "execution_count": null,
   "metadata": {},
   "outputs": [],
   "source": [
    "if not 0:\n",
    "    print(True)"
   ]
  },
  {
   "cell_type": "code",
   "execution_count": null,
   "metadata": {},
   "outputs": [],
   "source": [
    "17*100"
   ]
  },
  {
   "cell_type": "code",
   "execution_count": 17,
   "metadata": {},
   "outputs": [],
   "source": [
    "x = \"secondary\"\n",
    "for file in os.listdir(\"realtor/save_points\"):\n",
    "    if x in file:\n",
    "        os.remove(\"realtor/save_points/\"+file)"
   ]
  },
  {
   "cell_type": "code",
   "execution_count": null,
   "metadata": {},
   "outputs": [],
   "source": [
    "211%42"
   ]
  },
  {
   "cell_type": "code",
   "execution_count": 5,
   "metadata": {},
   "outputs": [],
   "source": [
    "\n"
   ]
  },
  {
   "cell_type": "code",
   "execution_count": 8,
   "metadata": {},
   "outputs": [],
   "source": [
    "\"\""
   ]
  },
  {
   "cell_type": "code",
   "execution_count": null,
   "metadata": {},
   "outputs": [],
   "source": [
    "pages_available"
   ]
  },
  {
   "cell_type": "code",
   "execution_count": null,
   "metadata": {},
   "outputs": [],
   "source": [
    "results_available"
   ]
  },
  {
   "cell_type": "code",
   "execution_count": null,
   "metadata": {},
   "outputs": [],
   "source": [
    "file = \"alabama-for_sale listings on date 09-02-2024 .xlsx\"\n",
    "re.search(r\"^[a-zA-Z\\s]+\", file)"
   ]
  },
  {
   "cell_type": "code",
   "execution_count": null,
   "metadata": {},
   "outputs": [],
   "source": [
    "[\"alabama -for_sale listings\",\"new york -sold listings\"]"
   ]
  },
  {
   "cell_type": "code",
   "execution_count": null,
   "metadata": {},
   "outputs": [],
   "source": [
    "from twisted.internet import reactor, defer\n",
    "from scrapy.crawler import CrawlerRunner\n",
    "from scrapy.utils.log import configure_logging\n",
    "from scrapy.utils.project import get_project_settings\n",
    "\n",
    "from tanker.spiders.primary_stage import PrimaryStageSpider\n",
    "from tanker.spiders.secondary_stage import SecondaryStageSpider\n",
    "\n",
    "import json\n",
    "\n",
    "\n",
    " \n",
    "with open(\"scraping variables.json\", \"r\") as f:\n",
    "    variables = json.load(f)\n",
    "        \n",
    "settings = get_project_settings()\n",
    "configure_logging(settings)\n",
    "runner = CrawlerRunner(settings)\n",
    "\n",
    "\n",
    "@defer.inlineCallbacks\n",
    "def crawl(variables):\n",
    "    yield runner.crawl(PrimaryStageSpider, stage = variables[0])\n",
    "    yield runner.crawl(SecondaryStageSpider, stage = variables[1])\n",
    "    reactor.stop()\n",
    "    \n",
    "crawl(variables)\n",
    "reactor.run()  \n"
   ]
  },
  {
   "cell_type": "code",
   "execution_count": null,
   "metadata": {},
   "outputs": [],
   "source": [
    "# Example item definition\n",
    "import scrapy\n",
    "\n",
    "class MyItem(scrapy.Item):\n",
    "    field1 = scrapy.Field()\n",
    "    field2 = scrapy.Field()\n",
    "\n",
    "# Create an item instance\n",
    "item = MyItem(field1='value1', field2='value2')\n",
    "\n",
    "# Convert the item to a dictionary\n",
    "item_dict = dict(item)\n",
    "print(item_dict)"
   ]
  },
  {
   "cell_type": "code",
   "execution_count": null,
   "metadata": {},
   "outputs": [],
   "source": [
    "uniform(2,55)"
   ]
  },
  {
   "cell_type": "code",
   "execution_count": null,
   "metadata": {},
   "outputs": [],
   "source": [
    "import io\n",
    "import sys\n",
    "\n",
    "# Create a StringIO object to capture output\n",
    "captured_output = io.StringIO()\n",
    "\n",
    "# Redirect stdout to the StringIO object\n",
    "sys.stdout = captured_output\n",
    "\n",
    "# Sample print statements (replace with your code)\n",
    "print(\"This is a test message.\")\n",
    "print(\"Another line of output.\")\n",
    "\n",
    "# Restore stdout to its original state\n",
    "sys.stdout = sys.__stdout__\n",
    "\n",
    "# Get the captured output as a string\n",
    "console_output = captured_output.getvalue()\n",
    "\n",
    "# Print the captured output (optional)\n",
    "print(\"Captured Output:\")\n",
    "print(console_output)\n",
    "\n",
    "# Use the captured output stored in the variable\n",
    "# For example, you can store it in another variable, log it, or manipulate it further\n"
   ]
  },
  {
   "cell_type": "code",
   "execution_count": 17,
   "metadata": {},
   "outputs": [],
   "source": [
    "import io\n",
    "import sys\n",
    "import re\n",
    "# Create a StringIO object to capture output\n",
    "captured_output = io.StringIO()\n",
    "# Redirect stdout to the StringIO object\n",
    "sys.stdout = captured_output\n",
    "\n",
    "print(\"start--\")\n",
    "# Sample print statements (replace with your code)\n",
    "print(\"<[|]>\")\n",
    "for I in range(1,101):\n",
    "    # Restore stdout to its original state\n",
    "    sys.stdout = sys.__stdout__\n",
    "\n",
    "    # Get the captured output as a string\n",
    "    console_output = captured_output.getvalue()\n",
    "    # Print the captured output (optional)\n",
    "    console_output = re.sub(r\"\\<\\[\\|*\\]\\>\", f\"<[{'|'*I}]>\",console_output)\n",
    "    print(console_output)\n",
    "\n",
    "# Use the captured output stored in the variable\n",
    "# For example, you can store it in another variable, log it, or manipulate it further\n"
   ]
  },
  {
   "cell_type": "code",
   "execution_count": null,
   "metadata": {},
   "outputs": [],
   "source": [
    "console_output = re.sub(r\"\\<\\[\\|*\\]\\>\", f\"<[{'|'*I}]>\",console_output)"
   ]
  },
  {
   "cell_type": "code",
   "execution_count": null,
   "metadata": {},
   "outputs": [],
   "source": [
    "console_output"
   ]
  },
  {
   "cell_type": "code",
   "execution_count": 10,
   "metadata": {},
   "outputs": [],
   "source": [
    "def join_save_points(state, listing_type, today_date):\n",
    "    save_points_dir = \"realtor/save_points\"\n",
    "    output_dir = \"realtor/outputs\"\n",
    "    listings_data_list = []\n",
    "    files_list =  os.listdir(save_points_dir)\n",
    "    for file in files_list:\n",
    "        if \"secondary batch\" in file and state in file:\n",
    "            file_path = os.path.join(save_points_dir, file)\n",
    "            with open(file_path, \"r\") as f:\n",
    "                listings_data_list += json.load(f)\n",
    "                \n",
    "    df = pd.DataFrame(listings_data_list)\n",
    "    file_name = f\"{state} {listing_type} listings on date {today_date} .xlsx\"\n",
    "    file_path = os.path.join(output_dir,file_name)\n",
    "    df.to_excel(file_path, index= False)\n",
    "    print(f\"saved the xlsx:\\n{file_path}\")\n"
   ]
  },
  {
   "cell_type": "code",
   "execution_count": null,
   "metadata": {},
   "outputs": [],
   "source": [
    "join_save_points(\"alaska\", \"for_sale\", \"07-27-2024\")"
   ]
  },
  {
   "cell_type": "code",
   "execution_count": 12,
   "metadata": {},
   "outputs": [],
   "source": [
    "df = pd.read_excel(\"realtor/outputs/alaska for_sale listings on date 07-27-2024 .xlsx\")"
   ]
  },
  {
   "cell_type": "code",
   "execution_count": null,
   "metadata": {},
   "outputs": [],
   "source": [
    "df.info()"
   ]
  },
  {
   "cell_type": "code",
   "execution_count": 14,
   "metadata": {},
   "outputs": [],
   "source": [
    "df.drop_duplicates(inplace= True)"
   ]
  },
  {
   "cell_type": "code",
   "execution_count": null,
   "metadata": {},
   "outputs": [],
   "source": [
    "df.info()"
   ]
  },
  {
   "cell_type": "code",
   "execution_count": null,
   "metadata": {},
   "outputs": [],
   "source": [
    "list({\"g\":4,\"f\":5}.keys())"
   ]
  },
  {
   "cell_type": "code",
   "execution_count": 10,
   "metadata": {},
   "outputs": [],
   "source": [
    "from fake_useragent import UserAgent\n",
    "ua = UserAgent(os=\"macos\", browsers=\"safary\")\n"
   ]
  },
  {
   "cell_type": "code",
   "execution_count": null,
   "metadata": {},
   "outputs": [],
   "source": [
    "ua.random"
   ]
  },
  {
   "cell_type": "markdown",
   "metadata": {},
   "source": [
    "- define the list of states to scrapy\n",
    "- define the type of scraping for the first state in the list whether for_sale or sold\n",
    "- define the stage of scraping, \"primary or secondary\"\n",
    "- define the point to carry on the scraping \"from the start of the url list or from other location."
   ]
  },
  {
   "cell_type": "markdown",
   "metadata": {},
   "source": [
    "can you build me a \n",
    "- that scrapes a list of urls starting from \n",
    "- save each group of x items in a json file stored in a directory called \"save_points\", and add the name of the state being scraped, the type of the properties \"for_sale\" or \"sold\", the date of the scraping, and a number starting  from 1 \"file_tracker\" which is increased by one for each file being saved.\n",
    "- when a scrape is concluded join all the scraped files, drop the duplicates and save them in a xlsx file with the name of the state, the type of the properties and the date of the scraping."
   ]
  },
  {
   "cell_type": "markdown",
   "metadata": {},
   "source": []
  },
  {
   "cell_type": "code",
   "execution_count": null,
   "metadata": {},
   "outputs": [],
   "source": [
    "\"list_date\\\":{\\\"min\\\":\\\"2024-07-26\\\"}"
   ]
  },
  {
   "cell_type": "code",
   "execution_count": 18,
   "metadata": {},
   "outputs": [],
   "source": [
    "from datetime import datetime\n",
    "\n",
    "# Get today's date and format it\n",
    "today_date = datetime.today().strftime('%Y-%m-%d')\n",
    "\n",
    "print()\n"
   ]
  },
  {
   "cell_type": "code",
   "execution_count": null,
   "metadata": {},
   "outputs": [],
   "source": [
    "today_date"
   ]
  },
  {
   "cell_type": "code",
   "execution_count": 22,
   "metadata": {},
   "outputs": [],
   "source": [
    "from datetime import datetime,date, timedelta \n",
    "from time import time\n",
    "today = date.today()\n",
    "# yesterday = today - timedelta(days = 1)"
   ]
  },
  {
   "cell_type": "code",
   "execution_count": null,
   "metadata": {},
   "outputs": [],
   "source": [
    "today - timedelta(days = 15)"
   ]
  },
  {
   "cell_type": "code",
   "execution_count": null,
   "metadata": {},
   "outputs": [],
   "source": []
  },
  {
   "cell_type": "code",
   "execution_count": null,
   "metadata": {},
   "outputs": [],
   "source": []
  },
  {
   "cell_type": "code",
   "execution_count": null,
   "metadata": {},
   "outputs": [],
   "source": []
  },
  {
   "cell_type": "code",
   "execution_count": null,
   "metadata": {},
   "outputs": [],
   "source": [
    "\n",
    "import json\n",
    "import scrapy\n",
    "from twisted.internet.defer import Deferred\n",
    "\n",
    "class MySpider(scrapy.Spider):\n",
    "    name = 'my_spider'\n",
    "\n",
    "    def __init__(self, *args, **kwargs):\n",
    "        super(MySpider, self).__init__(*args, **kwargs)\n",
    "        # Load the first list of URLs from a JSON file\n",
    "        with open('first_urls.json') as f:\n",
    "            self.first_urls = json.load(f)\n",
    "        self.second_urls = []\n",
    "        self.first_requests_done = Deferred()  # Used to track when the first list of URLs is done\n",
    "\n",
    "    def start_requests(self):\n",
    "        # Request URLs from the first list\n",
    "        for url in self.first_urls:\n",
    "            yield scrapy.Request(url=url, callback=self.parse_first)\n",
    "\n",
    "    def parse_first(self, response):\n",
    "        # Extract data from the first response and collect second URLs\n",
    "        second_url = response.xpath('//some_xpath_to_extract_url').get()\n",
    "        if second_url:\n",
    "            self.second_urls.append(second_url)\n",
    "\n",
    "        # Check if all first URLs have been processed\n",
    "        if len(self.crawler.engine.slot.inprogress) == 1:  # Only this request is in progress\n",
    "            # First batch of requests done\n",
    "            self.first_requests_done.callback(None)\n",
    "\n",
    "    def _request_second_urls(self):\n",
    "        # Request the second list of URLs\n",
    "        for url in self.second_urls:\n",
    "            yield scrapy.Request(url=url, callback=self.parse_second)\n",
    "\n",
    "    def parse_second(self, response):\n",
    "        # Parse the second set of URLs\n",
    "        item = {}\n",
    "        item['data'] = response.xpath('//some_xpath_to_extract_data').get()\n",
    "        yield item\n",
    "\n",
    "    def close(self, reason):\n",
    "        # Ensure all first URLs are processed before requesting second URLs\n",
    "        self.first_requests_done.addCallback(lambda _: list(self._request_second_urls()))\n",
    "        return super(MySpider, self).close(reason)\n",
    "\n"
   ]
  },
  {
   "cell_type": "code",
   "execution_count": null,
   "metadata": {},
   "outputs": [],
   "source": [
    "MySpider"
   ]
  },
  {
   "cell_type": "code",
   "execution_count": 3,
   "metadata": {},
   "outputs": [],
   "source": [
    "df = pd.read_json(\"secondary temporary alabama new_listings.json\")"
   ]
  },
  {
   "cell_type": "code",
   "execution_count": null,
   "metadata": {},
   "outputs": [],
   "source": [
    "df.info()"
   ]
  },
  {
   "cell_type": "code",
   "execution_count": 5,
   "metadata": {},
   "outputs": [],
   "source": [
    "df_a = df[:50]\n",
    "df_b = df[50:100]\n"
   ]
  },
  {
   "cell_type": "code",
   "execution_count": 13,
   "metadata": {},
   "outputs": [],
   "source": [
    "df_c = pd.concat([df_a, df_b], axis = 1)"
   ]
  },
  {
   "cell_type": "code",
   "execution_count": null,
   "metadata": {},
   "outputs": [],
   "source": [
    "df_c.info()"
   ]
  },
  {
   "cell_type": "code",
   "execution_count": null,
   "metadata": {},
   "outputs": [],
   "source": [
    "df_c.head()"
   ]
  },
  {
   "cell_type": "code",
   "execution_count": null,
   "metadata": {},
   "outputs": [],
   "source": [
    "df = (os.path.join(self.save_points_dir, f\"primary temporary {self.state_name} {self.listing_type}.csv\"))\n",
    "self.secondary_requests_list = df.to_json()"
   ]
  },
  {
   "cell_type": "code",
   "execution_count": 6,
   "metadata": {},
   "outputs": [],
   "source": [
    "import jsonlines"
   ]
  },
  {
   "cell_type": "code",
   "execution_count": null,
   "metadata": {},
   "outputs": [],
   "source": [
    "file_path = \"realtor/realtor/crawls/temporary_save_points/secondary temporary alabama new_listings.jsonl\"\n",
    "with open(file_path, \"r\") as f:\n",
    "    data = [value for line in f if (value:=json.loads(line)) not in data]"
   ]
  },
  {
   "cell_type": "code",
   "execution_count": null,
   "metadata": {},
   "outputs": [],
   "source": [
    "len(data)"
   ]
  },
  {
   "cell_type": "code",
   "execution_count": null,
   "metadata": {},
   "outputs": [],
   "source": [
    "_df = pd.DataFrame(data)"
   ]
  },
  {
   "cell_type": "code",
   "execution_count": null,
   "metadata": {},
   "outputs": [],
   "source": [
    "_df.shape"
   ]
  },
  {
   "cell_type": "code",
   "execution_count": 44,
   "metadata": {},
   "outputs": [],
   "source": [
    "_df.drop_duplicates(inplace=True)"
   ]
  },
  {
   "cell_type": "code",
   "execution_count": null,
   "metadata": {},
   "outputs": [],
   "source": [
    "_df.shape[0]"
   ]
  },
  {
   "cell_type": "code",
   "execution_count": 50,
   "metadata": {},
   "outputs": [],
   "source": [
    "df = pd.read_json(file_path, lines= True)"
   ]
  },
  {
   "cell_type": "code",
   "execution_count": null,
   "metadata": {},
   "outputs": [],
   "source": [
    "df.info()"
   ]
  },
  {
   "cell_type": "code",
   "execution_count": null,
   "metadata": {},
   "outputs": [],
   "source": [
    "len()"
   ]
  },
  {
   "cell_type": "code",
   "execution_count": null,
   "metadata": {},
   "outputs": [],
   "source": [
    "json.loads(df.to_json(orient=\"records\"))"
   ]
  },
  {
   "cell_type": "code",
   "execution_count": 61,
   "metadata": {},
   "outputs": [],
   "source": [
    "with open(file_path) as f:\n",
    "    df = pd.DataFrame([json.loads(line) for line in f])\n",
    "df.drop_duplicates(inplace=True)\n",
    "data= json.loads(df.to_json(orient=\"records\"))"
   ]
  },
  {
   "cell_type": "code",
   "execution_count": null,
   "metadata": {},
   "outputs": [],
   "source": [
    "len(data)"
   ]
  },
  {
   "cell_type": "code",
   "execution_count": 2,
   "metadata": {},
   "outputs": [],
   "source": [
    "df = pd.read_json(\"primary temporary alabama new_listings.jsonl\", lines= True)"
   ]
  },
  {
   "cell_type": "code",
   "execution_count": 10,
   "metadata": {},
   "outputs": [],
   "source": [
    "df.to_json(\"testing write to json lines.jsonl\", lines=True, orient=\"records\")"
   ]
  },
  {
   "cell_type": "code",
   "execution_count": 5,
   "metadata": {},
   "outputs": [],
   "source": [
    "j_data = json.loads(df.to_json(orient=\"records\"))"
   ]
  },
  {
   "cell_type": "code",
   "execution_count": null,
   "metadata": {},
   "outputs": [],
   "source": [
    "len(j_data)"
   ]
  },
  {
   "cell_type": "code",
   "execution_count": 20,
   "metadata": {},
   "outputs": [],
   "source": [
    "\n",
    "class class_a:\n",
    "    def fun_1(self):\n",
    "        print(\"function 2 ----------\")"
   ]
  },
  {
   "cell_type": "code",
   "execution_count": 21,
   "metadata": {},
   "outputs": [],
   "source": [
    "class class_b(class_a):\n",
    "    def fun_2(self):\n",
    "        print(\"function 2------\")\n",
    "    def fun_3(self):\n",
    "        self.fun_1()\n",
    "   "
   ]
  },
  {
   "cell_type": "code",
   "execution_count": null,
   "metadata": {},
   "outputs": [],
   "source": [
    "print(help(class_b))"
   ]
  },
  {
   "cell_type": "code",
   "execution_count": 23,
   "metadata": {},
   "outputs": [],
   "source": [
    "cb = class_b()\n"
   ]
  },
  {
   "cell_type": "code",
   "execution_count": null,
   "metadata": {},
   "outputs": [],
   "source": [
    "cb.fun_3()"
   ]
  },
  {
   "cell_type": "code",
   "execution_count": 10,
   "metadata": {},
   "outputs": [],
   "source": [
    "STATES = ['alabama', 'alaska', 'arizona', 'arkansas', 'california', 'colorado', 'connecticut', 'delaware', 'district-of-columbia', 'florida', 'georgia', 'hawaii', 'idaho', 'illinois', 'indiana', 'iowa', 'kansas', 'kentucky', 'louisiana', 'maine', 'maryland', 'massachusetts', 'michigan', 'minnesota', 'mississippi', 'missouri', 'montana', 'nebraska', 'nevada', 'new-hampshire', 'new-jersey', 'new-mexico', 'new-york', 'north-carolina', 'north-dakota', 'ohio', 'oklahoma', 'oregon', 'pennsylvania', 'rhode-island', 'south-carolina', 'south-dakota', 'tennessee', 'texas', 'utah', 'vermont', 'virginia', 'washington', 'west-virginia', 'wisconsin', 'wyoming']\n",
    "STATES_CODES = ['AL', 'AK', 'AZ', 'AR', 'CA', 'CO', 'CT', 'DE', 'DC', 'FL', 'GA', 'HI', 'ID', 'IL', 'IN', 'IA', 'KS', 'KY', 'LA', 'ME', 'MD', 'MA', 'MI', 'MN', 'MS', 'MO', 'MT', 'NE', 'NV', 'NH', 'NJ', 'NM', 'NY', 'NC', 'ND', 'OH', 'OK', 'OR', 'PA', 'RI', 'SC', 'SD', 'TN', 'TX', 'UT', 'VT', 'VA', 'WA', 'WV', 'WI', 'WY']\n"
   ]
  },
  {
   "cell_type": "code",
   "execution_count": 13,
   "metadata": {},
   "outputs": [],
   "source": [
    "states_names_and_codes = dict(zip(STATES, STATES_CODES))"
   ]
  },
  {
   "cell_type": "code",
   "execution_count": null,
   "metadata": {},
   "outputs": [],
   "source": [
    "states_names_and_codes"
   ]
  },
  {
   "cell_type": "code",
   "execution_count": 24,
   "metadata": {},
   "outputs": [],
   "source": [
    "states_names = STATES\n"
   ]
  },
  {
   "cell_type": "code",
   "execution_count": null,
   "metadata": {},
   "outputs": [],
   "source": [
    "state_codes"
   ]
  },
  {
   "cell_type": "code",
   "execution_count": 2,
   "metadata": {},
   "outputs": [],
   "source": [
    "input_file = \"realtor inputs.txt\""
   ]
  },
  {
   "cell_type": "code",
   "execution_count": 5,
   "metadata": {},
   "outputs": [],
   "source": [
    "scrape_all = False\n",
    "if not scrape_all:\n",
    "    if input_file not in os.listdir():\n",
    "        with open(input_file,\"w\") as f:\n",
    "            f.write(\"\")\n",
    "    else:\n",
    "        with open(input_file, \"r\") as f:\n",
    "            contents = f.read()\n",
    "        states_names_and_codes = dict(zip(STATES, STATES_CODES))\n",
    "        states_names = [state_name.strip() for state_name in contents.split(\"\\n\")]\n",
    "        state_codes = [states_names_and_codes[state] for state in states_names]\n",
    "else:\n",
    "    states_names = STATES\n",
    "    state_codes = STATES_CODES\n",
    "\n"
   ]
  },
  {
   "cell_type": "code",
   "execution_count": 8,
   "metadata": {},
   "outputs": [],
   "source": []
  },
  {
   "cell_type": "code",
   "execution_count": null,
   "metadata": {},
   "outputs": [],
   "source": [
    "states_names"
   ]
  },
  {
   "cell_type": "markdown",
   "metadata": {},
   "source": []
  },
  {
   "cell_type": "markdown",
   "metadata": {},
   "source": []
  },
  {
   "cell_type": "code",
   "execution_count": 28,
   "metadata": {},
   "outputs": [],
   "source": []
  },
  {
   "cell_type": "code",
   "execution_count": 31,
   "metadata": {},
   "outputs": [],
   "source": [
    "def create_input_file_with_all_states(input_file, states):\n",
    "    with open(input_file,\"w\") as f:\n",
    "        for state_name in states:\n",
    "            f.write(f\"{state_name}\\n\")\n",
    "            \n",
    "def get_state_name_and_code(input_file):\n",
    "    with open(input_file, \"r\") as f:\n",
    "        contents = f.read()\n",
    "    states_names_and_codes = dict(zip(STATES, STATES_CODES))\n",
    "    state_name = contents.split(\"\\n\")[0].strip().replace(\" \",\"-\")\n",
    "    state_code = states_names_and_codes[state_name]\n",
    "    return state_name, state_code"
   ]
  },
  {
   "cell_type": "code",
   "execution_count": null,
   "metadata": {},
   "outputs": [],
   "source": [
    "def get_states_to_scrape():\n",
    "    input_file = \"realtor inputs.txt\"\n",
    "    if not self.scrape_all or input_file not in os.listdir(): \n",
    "        create_input_file_with_all_states(input_file)\n",
    "    state_name, state_code = get_state_name_and_code(input_file)\n",
    "    return state_name, state_code"
   ]
  },
  {
   "cell_type": "code",
   "execution_count": 12,
   "metadata": {},
   "outputs": [],
   "source": [
    "state = \"new-jersey\""
   ]
  },
  {
   "cell_type": "code",
   "execution_count": 29,
   "metadata": {},
   "outputs": [],
   "source": [
    "\n"
   ]
  },
  {
   "cell_type": "code",
   "execution_count": 32,
   "metadata": {},
   "outputs": [],
   "source": [
    "create_input_file_with_all_states(input_file, all_states)"
   ]
  },
  {
   "cell_type": "code",
   "execution_count": null,
   "metadata": {},
   "outputs": [],
   "source": [
    "with open(input_file,\"w\") as f:\n",
    "    for state in states:\n",
    "        \n",
    "    f.write(states_to_be_scaped)"
   ]
  },
  {
   "cell_type": "code",
   "execution_count": null,
   "metadata": {},
   "outputs": [],
   "source": [
    "content"
   ]
  },
  {
   "cell_type": "code",
   "execution_count": null,
   "metadata": {},
   "outputs": [],
   "source": [
    "\n",
    "content_\n"
   ]
  },
  {
   "cell_type": "code",
   "execution_count": null,
   "metadata": {},
   "outputs": [],
   "source": [
    "len()+len(\"alabama\\n\")"
   ]
  },
  {
   "cell_type": "code",
   "execution_count": null,
   "metadata": {},
   "outputs": [],
   "source": [
    "len(\"alabama\\n\")"
   ]
  },
  {
   "cell_type": "code",
   "execution_count": null,
   "metadata": {},
   "outputs": [],
   "source": [
    "len(content)"
   ]
  },
  {
   "cell_type": "code",
   "execution_count": null,
   "metadata": {},
   "outputs": [],
   "source": [
    "\n",
    "#TODO: make the pipeline generate an output file and delete\n",
    "# the temporary file for a state if the\n",
    "# spider.state_name changes which can be done through comparing \n",
    "# the spider.state_name to a crawler.current_state_name\n",
    "#\n",
    "# which can only be set from the spider on initiation and\n",
    "# and changed through the pipeline!\n",
    "\n",
    "# test the results available between pauses and resumes\n",
    "# test the scraping for each state between pauses and resumes\n",
    "# test the scraping of each state after anther continuously\n",
    "# test the scraping of each state between pauses and resumes\n",
    "[\n",
    "    \"alabama\",\n",
    "    \"alaska\",\n",
    "    \"new mexico\"\n",
    "]\n"
   ]
  },
  {
   "cell_type": "code",
   "execution_count": 3,
   "metadata": {},
   "outputs": [],
   "source": [
    "test_var = 0"
   ]
  },
  {
   "cell_type": "code",
   "execution_count": null,
   "metadata": {},
   "outputs": [],
   "source": [
    "'test_var' in globals()"
   ]
  },
  {
   "cell_type": "code",
   "execution_count": 11,
   "metadata": {},
   "outputs": [],
   "source": [
    "class A:\n",
    "    jack = 5\n",
    "    def test_method (self):\n",
    "        if \"jan\" in dir(self):\n",
    "            print(\"True\")\n",
    "        else:\n",
    "            print(\"False\") \n",
    "    def create_jan (self):\n",
    "        self.jan = 3\n",
    "    def print_attributes(self):\n",
    "        pprint(dir(self))"
   ]
  },
  {
   "cell_type": "code",
   "execution_count": 12,
   "metadata": {},
   "outputs": [],
   "source": [
    "g = A()"
   ]
  },
  {
   "cell_type": "code",
   "execution_count": null,
   "metadata": {},
   "outputs": [],
   "source": [
    "g.test_method()"
   ]
  },
  {
   "cell_type": "code",
   "execution_count": 14,
   "metadata": {},
   "outputs": [],
   "source": [
    "g.create_jan()"
   ]
  },
  {
   "cell_type": "code",
   "execution_count": null,
   "metadata": {},
   "outputs": [],
   "source": [
    "g.test_method()"
   ]
  },
  {
   "cell_type": "code",
   "execution_count": null,
   "metadata": {},
   "outputs": [],
   "source": [
    "g.print_attributes()"
   ]
  },
  {
   "cell_type": "code",
   "execution_count": null,
   "metadata": {},
   "outputs": [],
   "source": [
    "\"\"\"\n",
    "(venv) abdalrhman@DESKTOP-38PRHEA:/mnt/d/documents/webscraping/realtor_full_site_scrapy_testing/realtor$ scrapy crawl realtor_scraper -a listing_type=new_listings -a scrape_all=n\n",
    "2024-10-01 19:18:53 [scrapy.utils.log] INFO: Scrapy 2.11.2 started (bot: realtor)\n",
    "2024-10-01 19:18:53 [scrapy.utils.log] INFO: Versions: lxml 5.3.0.0, libxml2 2.12.9, cssselect 1.2.0, parsel 1.9.1, w3lib 2.2.1, Twisted 24.7.0, Python 3.12.3 (main, Sep 11 2024, 14:17:37) [GCC 13.2.0], pyOpenSSL 24.2.1 (OpenSSL 3.3.2 3 Sep 2024), cryptography 43.0.1, Platform Linux-5.15.153.1-microsoft-standard-WSL2-x86_64-with-glibc2.39\n",
    "2024-10-01 19:18:53 [scrapy.addons] INFO: Enabled addons:\n",
    "[]\n",
    "2024-10-01 19:18:53 [scrapy.extensions.telnet] INFO: Telnet Password: 32169daf945721ff\n",
    "2024-10-01 19:18:57 [scrapy.middleware] INFO: Enabled extensions:\n",
    "['scrapy.extensions.corestats.CoreStats',\n",
    " 'scrapy.extensions.telnet.TelnetConsole',\n",
    " 'scrapy.extensions.memusage.MemoryUsage',\n",
    " 'scrapy.extensions.logstats.LogStats',\n",
    " 'scrapy.extensions.spiderstate.SpiderState']\n",
    "2024-10-01 19:18:57 [scrapy.crawler] INFO: Overridden settings:\n",
    "{'BOT_NAME': 'realtor',\n",
    " 'CONCURRENT_REQUESTS': 10,\n",
    " 'FEED_EXPORT_ENCODING': 'utf-8',\n",
    " 'JOBDIR': 'realtor/crawls/realtor_spider_job',\n",
    " 'LOG_LEVEL': 'INFO',\n",
    " 'NEWSPIDER_MODULE': 'realtor.spiders',\n",
    " 'REQUEST_FINGERPRINTER_IMPLEMENTATION': '2.7',\n",
    " 'RETRY_HTTP_CODES': [],\n",
    " 'RETRY_TIMES': 3,\n",
    " 'SPIDER_MODULES': ['realtor.spiders'],\n",
    " 'TWISTED_REACTOR': 'twisted.internet.asyncioreactor.AsyncioSelectorReactor'}\n",
    "2024-10-01 19:18:58 [scrapy.middleware] INFO: Enabled downloader middlewares:\n",
    "['scrapy.downloadermiddlewares.offsite.OffsiteMiddleware',\n",
    " 'scrapy.downloadermiddlewares.httpauth.HttpAuthMiddleware',\n",
    " 'scrapy.downloadermiddlewares.downloadtimeout.DownloadTimeoutMiddleware',\n",
    " 'scrapy.downloadermiddlewares.defaultheaders.DefaultHeadersMiddleware',\n",
    " 'scrapy.downloadermiddlewares.useragent.UserAgentMiddleware',\n",
    " 'realtor.middlewares.RealtorDownloaderMiddleware',\n",
    " 'scrapy.downloadermiddlewares.retry.RetryMiddleware',\n",
    " 'scrapy.downloadermiddlewares.redirect.MetaRefreshMiddleware',\n",
    " 'scrapy.downloadermiddlewares.httpcompression.HttpCompressionMiddleware',\n",
    " 'scrapy.downloadermiddlewares.redirect.RedirectMiddleware',\n",
    " 'scrapy.downloadermiddlewares.cookies.CookiesMiddleware',\n",
    " 'scrapy.downloadermiddlewares.httpproxy.HttpProxyMiddleware',\n",
    " 'scrapy.downloadermiddlewares.stats.DownloaderStats']\n",
    "2024-10-01 19:18:58 [scrapy.middleware] INFO: Enabled spider middlewares:\n",
    "['scrapy.spidermiddlewares.httperror.HttpErrorMiddleware',\n",
    " 'scrapy.spidermiddlewares.referer.RefererMiddleware',\n",
    " 'scrapy.spidermiddlewares.urllength.UrlLengthMiddleware',\n",
    " 'scrapy.spidermiddlewares.depth.DepthMiddleware']\n",
    "2024-10-01 19:18:58 [scrapy.middleware] INFO: Enabled item pipelines:\n",
    "['realtor.secondary_pipeline.Secondary_Pipeline']\n",
    "2024-10-01 19:18:58 [scrapy.core.engine] INFO: Spider opened\n",
    "2024-10-01 19:18:58 [scrapy.extensions.logstats] INFO: Crawled 0 pages (at 0 pages/min), scraped 0 items (at 0 items/min)\n",
    "2024-10-01 19:18:58 [scrapy.extensions.telnet] INFO: Telnet console listening on 127.0.0.1:6023\n",
    "\n",
    "scraping all  the states\n",
    "\n",
    "starting scraping for new_listings in alabama state.\n",
    "\n",
    "\n",
    "primary_stage found 408 new_listings properties in 10 pages. \n",
    "total requests to make: 417\n",
    "\n",
    "exporter error -------------------------------\n",
    "created an exporter successfully -------------\n",
    "\n",
    "\n",
    "*********************************\n",
    "pause the scraper now\n",
    "\n",
    "*********************************\n",
    "2024-10-01 19:19:40 [scrapy.core.engine] INFO: Closing spider (finished)\n",
    "<class 'pandas.core.frame.DataFrame'>\n",
    "RangeIndex: 404 entries, 0 to 403\n",
    "Data columns (total 22 columns):\n",
    " #   Column           Non-Null Count  Dtype  \n",
    "---  ------           --------------  -----  \n",
    " 0   state            404 non-null    object \n",
    " 1   price            404 non-null    int64  \n",
    " 2   URL              404 non-null    object \n",
    " 3   property_id      404 non-null    int64  \n",
    " 4   listing_id       404 non-null    int64  \n",
    " 5   type             404 non-null    object \n",
    " 6   year_built       300 non-null    float64\n",
    " 7   street           404 non-null    object \n",
    " 8   city             404 non-null    object \n",
    " 9   state_code       404 non-null    object \n",
    " 10  zip_code         404 non-null    int64  \n",
    " 11  bedrooms         336 non-null    float64\n",
    " 12  bathrooms        403 non-null    float64\n",
    " 13  sqft             325 non-null    float64\n",
    " 14  parameter        362 non-null    float64\n",
    " 15  agent            398 non-null    object \n",
    " 16  office           404 non-null    object \n",
    " 17  agent_email      382 non-null    object \n",
    " 18  office_email     337 non-null    object \n",
    " 19  status           404 non-null    object \n",
    " 20  sold_date        195 non-null    object \n",
    " 21  days_on_realtor  195 non-null    float64\n",
    "dtypes: float64(6), int64(4), object(12)\n",
    "memory usage: 69.6+ KB\n",
    "\n",
    "\n",
    "\n",
    "2024-10-01 19:19:42 [scrapy.statscollectors] INFO: Dumping Scrapy stats:\n",
    "{'downloader/request_bytes': 6483425,\n",
    " 'downloader/request_count': 414,\n",
    " 'downloader/request_method_count/POST': 414,\n",
    " 'downloader/response_bytes': 3545240,\n",
    " 'downloader/response_count': 414,\n",
    " 'downloader/response_status_count/200': 414,\n",
    " 'dupefilter/filtered': 4,\n",
    " 'elapsed_time_seconds': 41.903355,\n",
    " 'finish_reason': 'finished',\n",
    " 'finish_time': datetime.datetime(2024, 10, 1, 16, 19, 40, 526592, tzinfo=datetime.timezone.utc),\n",
    " 'httpcompression/response_bytes': 13365703,\n",
    " 'httpcompression/response_count': 414,\n",
    " 'item_scraped_count': 404,\n",
    " 'log_count/INFO': 10,\n",
    " 'memusage/max': 127111168,\n",
    " 'memusage/startup': 127111168,\n",
    " 'request_depth_max': 2,\n",
    " 'response_received_count': 414,\n",
    " 'scheduler/dequeued': 414,\n",
    " 'scheduler/dequeued/disk': 414,\n",
    " 'scheduler/enqueued': 414,\n",
    " 'scheduler/enqueued/disk': 414,\n",
    " 'start_time': datetime.datetime(2024, 10, 1, 16, 18, 58, 623237, tzinfo=datetime.timezone.utc)}\n",
    "2024-10-01 19:19:42 [scrapy.core.engine] INFO: Spider closed (finished)\n",
    "(venv) abdalrhman@DESKTOP-38PRHEA:/mnt/d/documents/webscraping/realtor_full_site_scrapy_testing/realtor$ \n",
    "\"\"\""
   ]
  },
  {
   "cell_type": "code",
   "execution_count": null,
   "metadata": {},
   "outputs": [],
   "source": [
    "os.listdir()"
   ]
  },
  {
   "cell_type": "code",
   "execution_count": null,
   "metadata": {},
   "outputs": [],
   "source": [
    "def delete_the_scraped_state():\n",
    "    input_file = \"realtor inputs.txt\"\n",
    "    with open(input_file,\"r\") as f:\n",
    "        all_states = [state_name.strip().lower().replace(\" \",\"-\") for state_name in f.read().strip().split(\"\\n\")]\n",
    "    if all_states[0] == state[\"state_name\"]:\n",
    "        all_states.remove(state[\"state_name\"])\n",
    "        __write_states_to_the_input_file(all_states)\n",
    "    else:\n",
    "        raise ValueError(f'the first state in the \"{input_file}\" does not match the scraped state {state[\"state_name\"]}!')  "
   ]
  },
  {
   "cell_type": "code",
   "execution_count": 9,
   "metadata": {},
   "outputs": [],
   "source": [
    "def write_states_to_the_input_file(states):\n",
    "    input_file = \"realtor inputs.txt\"\n",
    "    state_name = \"alabama\"\n",
    "    with open(input_file,\"w\") as f:\n",
    "        for state_name in states:\n",
    "            f.write(f\"{state_name}\\n\")"
   ]
  },
  {
   "cell_type": "code",
   "execution_count": 10,
   "metadata": {},
   "outputs": [],
   "source": [
    "def delete_the_scraped_state():\n",
    "    input_file = \"realtor inputs.txt\"\n",
    "    state_name = \"alabama\"\n",
    "    with open(input_file,\"r\") as f:\n",
    "        all_states = [state_name_.strip().lower().replace(\" \",\"-\") for state_name_ in f.read().strip().split(\"\\n\")]\n",
    "        print(f\"all states: {all_states}\")\n",
    "    if all_states[0] == state_name:\n",
    "        all_states.remove(state_name)\n",
    "        write_states_to_the_input_file(all_states)\n",
    "    else:\n",
    "        raise ValueError(f'the first state in the \"{input_file}\" does not match the scraped state {state_name}!')  "
   ]
  },
  {
   "cell_type": "code",
   "execution_count": null,
   "metadata": {},
   "outputs": [],
   "source": [
    "delete_the_scraped_state()"
   ]
  },
  {
   "cell_type": "code",
   "execution_count": 2,
   "metadata": {},
   "outputs": [],
   "source": []
  },
  {
   "cell_type": "code",
   "execution_count": null,
   "metadata": {},
   "outputs": [],
   "source": [
    "df.info()"
   ]
  },
  {
   "cell_type": "code",
   "execution_count": null,
   "metadata": {},
   "outputs": [],
   "source": []
  },
  {
   "cell_type": "code",
   "execution_count": 15,
   "metadata": {},
   "outputs": [],
   "source": [
    "file_path = os.path.join(r\"realtor/realtor/crawls/temporary_save_points\",r\"temporary new_listings.jsonl\")"
   ]
  },
  {
   "cell_type": "code",
   "execution_count": null,
   "metadata": {},
   "outputs": [],
   "source": [
    "df = pd.read_json(file_path , lines = True)"
   ]
  },
  {
   "cell_type": "code",
   "execution_count": null,
   "metadata": {},
   "outputs": [],
   "source": []
  },
  {
   "cell_type": "code",
   "execution_count": null,
   "metadata": {},
   "outputs": [],
   "source": [
    "states_scraped_list = list(df[\"state\"].unique())\n",
    "for state in states_scraped_list:\n",
    "    df[df[\"state\"] == state].to_excel(f\"{state} output separation test.xlsx\", index=False)"
   ]
  },
  {
   "cell_type": "code",
   "execution_count": null,
   "metadata": {},
   "outputs": [],
   "source": [
    "\"\"\" \n",
    "(env) D:\\Documents\\WebScraping\\realtor_full_site_scrapy_testing\\realtor>\n",
    "\n",
    "\n",
    "dtypes: float64(2), int64(8), object(12)\n",
    "memory usage: 6.8+ KB\n",
    "\n",
    "\n",
    "\n",
    "\n",
    "\n",
    "primary_stage found 226 new_listings properties in 1 pages.\n",
    "total requests to make: 225\n",
    "\n",
    "\n",
    "***entering spider_idle*********************************\n",
    "\n",
    "\n",
    "input file contents:\n",
    "\n",
    "entering pipeline idle >>>>>>>>>>>>>>>>>>>\n",
    "self.last_saved_state: alabama\n",
    "self.crawler.state_name: alabama\n",
    "\n",
    "\n",
    "(env) D:\\Documents\\WebScraping\\realtor_full_site_scrapy_testing\\realtor>\n",
    "\n",
    "dtypes: float64(2), int64(8), object(12)\n",
    "memory usage: 6.8+ KB\n",
    "\n",
    "\n",
    "\n",
    "\n",
    "\n",
    "primary_stage found 226 new_listings properties in 1 pages.\n",
    "total requests to make: 225\n",
    "\n",
    "\n",
    "***entering spider_idle*********************************\n",
    "\n",
    "\n",
    "input file contents:\n",
    "\n",
    "entering pipeline idle >>>>>>>>>>>>>>>>>>>\n",
    "self.last_saved_state: alabama\n",
    "self.crawler.state_name: alabama\n",
    "dtypes: float64(2), int64(8), object(12)\n",
    "memory usage: 6.8+ KB\n",
    "\n",
    "\n",
    "\n",
    "\n",
    "\n",
    "primary_stage found 226 new_listings properties in 1 pages.\n",
    "total requests to make: 225\n",
    "\n",
    "\n",
    "***entering spider_idle*********************************\n",
    "\n",
    "\n",
    "input file contents:\n",
    "\n",
    "dtypes: float64(2), int64(8), object(12)\n",
    "memory usage: 6.8+ KB\n",
    "\n",
    "\n",
    "\n",
    "\n",
    "dtypes: float64(2), int64(8), object(12)\n",
    "memory usage: 6.8+ KB\n",
    "\n",
    "\n",
    "\n",
    "\n",
    "\n",
    "memory usage: 6.8+ KB\n",
    "\n",
    "\n",
    "\n",
    "\n",
    "\n",
    "\n",
    "\n",
    "\n",
    "\n",
    "\n",
    "\n",
    "\n",
    "primary_stage found 226 new_listings properties in 1 pages.\n",
    "\n",
    "primary_stage found 226 new_listings properties in 1 pages.\n",
    "primary_stage found 226 new_listings properties in 1 pages.\n",
    "total requests to make: 225\n",
    "total requests to make: 225\n",
    "\n",
    "\n",
    "***entering spider_idle*********************************\n",
    "\n",
    "\n",
    "input file contents:\n",
    "\n",
    "entering pipeline idle >>>>>>>>>>>>>>>>>>>\n",
    "self.last_saved_state: alabama\n",
    "self.crawler.state_name: alabama\n",
    "\n",
    "\n",
    "(env) D:\\Documents\\WebScraping\\realtor_full_site_scrapy_testing\\realtor>\n",
    "\"\"\""
   ]
  },
  {
   "cell_type": "code",
   "execution_count": 5,
   "metadata": {},
   "outputs": [],
   "source": [
    "from fake_useragent import UserAgent as UA"
   ]
  },
  {
   "cell_type": "code",
   "execution_count": null,
   "metadata": {},
   "outputs": [],
   "source": [
    "UA(os=\"macos\", browsers=\"safari\").random"
   ]
  },
  {
   "cell_type": "code",
   "execution_count": 27,
   "metadata": {},
   "outputs": [],
   "source": [
    "df = pd.read_excel(r\"realtor/realtor/outputs/realtor_scraper all_for_sale New York.xlsx\")"
   ]
  },
  {
   "cell_type": "code",
   "execution_count": null,
   "metadata": {},
   "outputs": [],
   "source": [
    "df.info()"
   ]
  },
  {
   "cell_type": "code",
   "execution_count": null,
   "metadata": {},
   "outputs": [],
   "source": [
    "len(list(df.agent_email.unique()))"
   ]
  },
  {
   "cell_type": "code",
   "execution_count": 2,
   "metadata": {},
   "outputs": [],
   "source": [
    "\n",
    "import scrapy\n",
    "import json\n",
    "import scrapy\n",
    "from scrapy.selector import Selector\n",
    "from scrapy.loader import ItemLoader"
   ]
  },
  {
   "cell_type": "code",
   "execution_count": 3,
   "metadata": {},
   "outputs": [],
   "source": [
    "\n",
    "class AgentItem(scrapy.Item):\n",
    "    name = scrapy.Field()\n",
    "    email = scrapy.Field()\n"
   ]
  },
  {
   "cell_type": "code",
   "execution_count": 4,
   "metadata": {},
   "outputs": [],
   "source": [
    "response = \"\"\"{\n",
    "    \"agent\": {\n",
    "        \"name\": \"Jane Doe\",\n",
    "        \"contact\": {\n",
    "            \"email\": \"janedoe@example.com\",\n",
    "            \"phone\": \"123-456-7890\"\n",
    "        }\n",
    "    }\n",
    "}\"\"\"\n"
   ]
  },
  {
   "cell_type": "code",
   "execution_count": 5,
   "metadata": {},
   "outputs": [
    {
     "data": {
      "text/plain": [
       "{'email': ['janedoe@example.com'], 'name': ['Jane Doe']}"
      ]
     },
     "execution_count": 5,
     "metadata": {},
     "output_type": "execute_result"
    }
   ],
   "source": [
    "response = Selector(text=response)\n",
    "loader = ItemLoader(item=AgentItem(), selector= response)\n",
    "\n",
    "# Use add_jmes to extract data using JMESPath\n",
    "loader.add_jmes(\"name\", \"agent.name\")\n",
    "loader.add_jmes(\"email\", \"agent.contact.email\")\n",
    "\n",
    "loader.load_item()"
   ]
  },
  {
   "cell_type": "code",
   "execution_count": null,
   "metadata": {},
   "outputs": [],
   "source": [
    "'''<p class=\"product-name\">Color TV</p>'''"
   ]
  },
  {
   "cell_type": "code",
   "execution_count": null,
   "metadata": {},
   "outputs": [],
   "source": [
    "# HTML snippet: <p class=\"product-name\">Color TV</p>\n",
    "loader = ItemLoader(item = AgentItem, selector= )\n",
    "loader.add_css('name', 'p.product-name')\n",
    "# HTML snippet: <p id=\"price\">the price is $1200</p>\n",
    "loader.add_css('price', 'p#price', re='the price is (.*)')"
   ]
  },
  {
   "cell_type": "code",
   "execution_count": 10,
   "metadata": {},
   "outputs": [
    {
     "data": {
      "text/plain": [
       "scrapy.selector.unified.Selector"
      ]
     },
     "execution_count": 10,
     "metadata": {},
     "output_type": "execute_result"
    }
   ],
   "source": [
    "type(response)"
   ]
  },
  {
   "cell_type": "code",
   "execution_count": 11,
   "metadata": {},
   "outputs": [
    {
     "name": "stdout",
     "output_type": "stream",
     "text": [
      "3\n"
     ]
    }
   ],
   "source": [
    "import pandas as pd\n",
    "\n",
    "# Sample DataFrame\n",
    "data = {'Name': ['Alice', 'Bob', 'Charlie'], 'Age': [24, 25, 23]}\n",
    "df = pd.DataFrame(data)\n",
    "\n",
    "# Get the number of rows\n",
    "num_rows = len(df)\n",
    "print(num_rows)  # Output: 3"
   ]
  },
  {
   "cell_type": "code",
   "execution_count": 13,
   "metadata": {},
   "outputs": [
    {
     "name": "stdout",
     "output_type": "stream",
     "text": [
      "3\n"
     ]
    }
   ],
   "source": [
    "print(df.shape[0])"
   ]
  },
  {
   "cell_type": "code",
   "execution_count": null,
   "metadata": {},
   "outputs": [],
   "source": [
    "{\"state\": \"New York\", \"price\": 1100000, \"URL\": \"https://www.realtor.com/realestateandhomes-detail/40-W-77th-St-D12_New-York_NY_10024_M39333-43236\", \"property_id\": \"3933343236\", \"listing_id\": \"2974124504\", \"type\": \"coop\", \"year_built\": \"1928\", \"street\": \"40 W 77th St Unit 12D\", \"city\": \"Manhattan\", \"state_code\": \"NY\", \"zip_code\": \"10024\", \"bedrooms\": \"1\", \"bathrooms\": \"1\", \"agent\": \"Jennifer Roberts\", \"office\": \"Compass\", \"agent_email\": \"jennifer.roberts@compass.com\", \"office_email\": \"agentexperience@compass.com\", \"sold_date\": \"24/05/2010\", \"status\": \"for_sale\", \"days_on_realtor\": 5269}\n",
    "{\"state\": \"New York\", \"price\": 825000, \"URL\": \"https://www.realtor.com/realestateandhomes-detail/24-W-55th-St-Apt-7F_New-York_NY_10019_M39305-17535\", \"property_id\": \"3930517535\", \"listing_id\": \"2974137111\", \"type\": \"coop\", \"year_built\": \"1936\", \"street\": \"24 W 55th St Apt 7F\", \"city\": \"New York\", \"state_code\": \"NY\", \"zip_code\": \"10019\", \"bedrooms\": \"1\", \"bathrooms\": \"1\", \"agent\": \"Charlotte Van Doren\", \"office\": \"Corcoran East Side\", \"agent_email\": \"charlotte.vandoren@corcoran.com\", \"office_email\": \"helen.monti@corcoran.com\", \"sold_date\": \"08/04/2011\", \"status\": \"for_sale\", \"days_on_realtor\": 4950}\n",
    "{\"state\": \"New York\", \"URL\": \"https://www.realtor.com/realestateandhomes-detail/5979-Route-82-3C_Stanfordville_NY_12581_M95563-60419\", \"property_id\": \"9556360419\", \"listing_id\": \"2974135565\", \"type\": \"single_family\", \"street\": \"5979 Route 82 Unit 3C\", \"city\": \"Stanfordville\", \"state_code\": \"NY\", \"zip_code\": \"12581\", \"bathrooms\": \"0\", \"agent\": \"Steve Bruman\", \"office\": \"Corcoran Country Living\", \"agent_email\": \"steve.bruman@corcorancl.com\", \"office_email\": \"info@corcorancl.com\", \"status\": \"for_sale\", \"price\": NaN}"
   ]
  },
  {
   "cell_type": "code",
   "execution_count": null,
   "metadata": {},
   "outputs": [],
   "source": [
    "\"\"\" \n",
    "(env) D:\\Documents\\WebScraping\\realtor_full_site_scrapy\\realtor>scrapy crawl realtor_scraper -a scrape_all=fales -a listing_type=new_listings\n",
    "\n",
    "get_state_name__code__listing_type: new-york ==================================================\n",
    "\n",
    "starting scraping for new_listings in new-york state.\n",
    "\n",
    "\n",
    "primary_stage found 794 new_listings properties in 19 pages. \n",
    "total requests to make: 812\n",
    "\n",
    "get_state_name__code__listing_type: texas ==================================================\n",
    "\n",
    "starting scraping for new_listings in texas state.\n",
    "\n",
    "\n",
    "primary_stage found 2832 new_listings properties in 68 pages.\n",
    "total requests to make: 2880\n",
    "\n",
    "pipeline.states_scraped_list: ['New York', 'Texas']\n",
    "-->results of New York:784\n",
    "-->results of Texas:2713\n",
    "\n",
    "(env) D:\\Documents\\WebScraping\\realtor_full_site_scrapy\\realtor>\n",
    "\n",
    "\"\"\""
   ]
  }
 ],
 "metadata": {
  "kernelspec": {
   "display_name": "env",
   "language": "python",
   "name": "python3"
  },
  "language_info": {
   "codemirror_mode": {
    "name": "ipython",
    "version": 3
   },
   "file_extension": ".py",
   "mimetype": "text/x-python",
   "name": "python",
   "nbconvert_exporter": "python",
   "pygments_lexer": "ipython3",
   "version": "3.12.2"
  }
 },
 "nbformat": 4,
 "nbformat_minor": 2
}
